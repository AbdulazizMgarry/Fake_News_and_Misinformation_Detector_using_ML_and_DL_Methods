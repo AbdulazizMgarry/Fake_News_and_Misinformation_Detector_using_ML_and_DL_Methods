{
  "cells": [
    {
      "cell_type": "markdown",
      "metadata": {
        "id": "l37vCLjbDEBa"
      },
      "source": [
        "# Data Exploration and Cleaning of the dataset (V1)"
      ]
    },
    {
      "cell_type": "markdown",
      "metadata": {
        "id": "WiazMlX1DP9P"
      },
      "source": [
        "# Load Dataset"
      ]
    },
    {
      "cell_type": "code",
      "execution_count": null,
      "metadata": {
        "colab": {
          "base_uri": "https://localhost:8080/"
        },
        "id": "We5QI23SDUzR",
        "outputId": "a2bc8d07-22a4-415c-93c1-c1354e70c34f"
      },
      "outputs": [
        {
          "output_type": "stream",
          "name": "stdout",
          "text": [
            "Mounted at /content/drive\n"
          ]
        }
      ],
      "source": [
        "from google.colab import drive\n",
        "drive.mount('/content/drive')"
      ]
    },
    {
      "cell_type": "code",
      "execution_count": null,
      "metadata": {
        "colab": {
          "base_uri": "https://localhost:8080/"
        },
        "id": "PPdIeUHSD0HW",
        "outputId": "33a9ad81-0ec7-4a8a-909f-9d2e87572eb6"
      },
      "outputs": [
        {
          "name": "stdout",
          "output_type": "stream",
          "text": [
            "cp: cannot stat 'WELFake_Dataset.csv': No such file or directory\n"
          ]
        }
      ],
      "source": [
        "!cp WELFake_Dataset.csv /content/drive/MyDrive/WELFake_Dataset.csv"
      ]
    },
    {
      "cell_type": "code",
      "execution_count": null,
      "metadata": {
        "colab": {
          "base_uri": "https://localhost:8080/"
        },
        "id": "Esozm_MRIcwS",
        "outputId": "297ff61e-2147-41d9-a141-1ecf160a9f3d"
      },
      "outputs": [
        {
          "name": "stdout",
          "output_type": "stream",
          "text": [
            "Collecting langdetect\n",
            "  Downloading langdetect-1.0.9.tar.gz (981 kB)\n",
            "\u001b[?25l     \u001b[90m━━━━━━━━━━━━━━━━━━━━━━━━━━━━━━━━━━━━━━━━\u001b[0m \u001b[32m0.0/981.5 kB\u001b[0m \u001b[31m?\u001b[0m eta \u001b[36m-:--:--\u001b[0m\r\u001b[2K     \u001b[91m━━━━━━\u001b[0m\u001b[91m╸\u001b[0m\u001b[90m━━━━━━━━━━━━━━━━━━━━━━━━━━━━━━━━\u001b[0m \u001b[32m174.1/981.5 kB\u001b[0m \u001b[31m5.0 MB/s\u001b[0m eta \u001b[36m0:00:01\u001b[0m\r\u001b[2K     \u001b[91m━━━━━━━━━━━━━━━━━━━━━━━━━━━━━━━━━━━━━\u001b[0m\u001b[91m╸\u001b[0m \u001b[32m972.8/981.5 kB\u001b[0m \u001b[31m16.0 MB/s\u001b[0m eta \u001b[36m0:00:01\u001b[0m\r\u001b[2K     \u001b[90m━━━━━━━━━━━━━━━━━━━━━━━━━━━━━━━━━━━━━━\u001b[0m \u001b[32m981.5/981.5 kB\u001b[0m \u001b[31m12.9 MB/s\u001b[0m eta \u001b[36m0:00:00\u001b[0m\n",
            "\u001b[?25h  Preparing metadata (setup.py) ... \u001b[?25l\u001b[?25hdone\n",
            "Requirement already satisfied: six in /usr/local/lib/python3.12/dist-packages (from langdetect) (1.17.0)\n",
            "Building wheels for collected packages: langdetect\n",
            "  Building wheel for langdetect (setup.py) ... \u001b[?25l\u001b[?25hdone\n",
            "  Created wheel for langdetect: filename=langdetect-1.0.9-py3-none-any.whl size=993223 sha256=a44ebcf16fae0e497ebeb492fd087a41534310d6c51ffadac3c844c64deae8c3\n",
            "  Stored in directory: /root/.cache/pip/wheels/c1/67/88/e844b5b022812e15a52e4eaa38a1e709e99f06f6639d7e3ba7\n",
            "Successfully built langdetect\n",
            "Installing collected packages: langdetect\n",
            "Successfully installed langdetect-1.0.9\n"
          ]
        }
      ],
      "source": [
        "!pip install langdetect"
      ]
    },
    {
      "cell_type": "code",
      "execution_count": null,
      "metadata": {
        "id": "ORt3EO3KD5dw"
      },
      "outputs": [],
      "source": [
        "import pandas as pd\n",
        "import numpy as np\n",
        "import re # regex module\n",
        "import unicodedata # handling unicoded text\n",
        "from langdetect import detect_langs, DetectorFactory\n",
        "\n",
        "df = pd.read_csv(\"/content/drive/MyDrive/WELFake_Dataset.csv\")"
      ]
    },
    {
      "cell_type": "code",
      "execution_count": null,
      "metadata": {
        "colab": {
          "base_uri": "https://localhost:8080/",
          "height": 310
        },
        "id": "4GofrIrUEAcr",
        "outputId": "4ab00a9e-89b0-4108-c0c7-b6a2b15be4fe"
      },
      "outputs": [
        {
          "data": {
            "application/vnd.google.colaboratory.intrinsic+json": {
              "summary": "{\n  \"name\": \"df\",\n  \"rows\": 72134,\n  \"fields\": [\n    {\n      \"column\": \"Unnamed: 0\",\n      \"properties\": {\n        \"dtype\": \"number\",\n        \"std\": 20823,\n        \"min\": 0,\n        \"max\": 72133,\n        \"num_unique_values\": 72134,\n        \"samples\": [\n          61370,\n          2189,\n          60609\n        ],\n        \"semantic_type\": \"\",\n        \"description\": \"\"\n      }\n    },\n    {\n      \"column\": \"title\",\n      \"properties\": {\n        \"dtype\": \"string\",\n        \"num_unique_values\": 62347,\n        \"samples\": [\n          \"BBC Under Fire for \\u2018Transgender Diaries\\u2019 Program Aimed at Children as Young as Six\",\n          \" Hillary\\u2019s Running Mate Tim Kaine: The NRA Hates Him, And He Kicked Their Butts (VIDEO)\",\n          \" Trump Outrageously Refers To Elizabeth Warren As \\u2018Pocahontas\\u2019 During Meeting With Senators\"\n        ],\n        \"semantic_type\": \"\",\n        \"description\": \"\"\n      }\n    },\n    {\n      \"column\": \"text\",\n      \"properties\": {\n        \"dtype\": \"string\",\n        \"num_unique_values\": 62718,\n        \"samples\": [\n          \"WASHINGTON (Reuters) - Michael Cohen, one of President Donald Trump\\u2019s closest business advisers, said on Sunday he would testify on Tuesday to the U.S. Senate Intelligence Committee, as the panel investigates alleged Russian interference in the 2016 U.S. election. The timing of Cohen\\u2019s testimony was first reported by NBC. Cohen confirmed that he would testify to the committee on Tuesday and said he did not know whether it would be in a closed session or public. Aides to the committee\\u2019s leaders did not immediately respond to requests for comment. Cohen said previously he had received a subpoena from at least one of the congressional committees investigating what U.S. intelligence has determined were Russia\\u2019s efforts to influence the election on Trump\\u2019s behalf, and whether Trump associates colluded with Russia. Russia denies such activity. The White House denies any collusion, but concerns about the issue and Trump\\u2019s ties to Russia have shadowed the first months of the Republican\\u2019s presidency. Cohen, a personal attorney to Trump, would be one of a series of close associates of the president to testify in Congress. Members of both the Senate and House of Representatives committees conducting investigations have said they expect to call more. Trump\\u2019s oldest son, Donald Trump Jr., testified to the Senate Judiciary Committee earlier this month. \",\n          \"HARARE (Reuters) - Zimbabwe s main opposition leader said on Monday President Robert Mugabe s refusal to resign had dampened people s spirits and called for an inclusive political process in the aftermath of a military intervention last week. Morgan Tsvangirai said there should be an all-stakeholders meeting to chart the country s future and that the next elections due next year should be supervised by the international community. \",\n          \"There is no word yet about whether or not the Hispanics in question were referred to by the plaintiff as  White Hispanics, (the George Zimmerman variety) Legendary restaurant Roscoe s House of Chicken  n Waffles has to cough up $1.6 million in an unlawful termination suit to an African American man who claimed he was discriminated against because he was black.The claim proves to be somewhat ironic given that the owner of the eatery, where President Barack Obama once dined when visiting Compton, is African American.CBS Los Angeles reported that Daniel Beasley sued Roscoe s for firing him after he complained to human resources that the managers harassed him for being black and gave preferential treatment, such as better work hours, to the Hispanic employees. It s owned by an African American owner, but he gives full authority to the Hispanics to run it,  Beasley told reporters.  It just caught me by surprise because here I am getting fired when I m trying to fix the problem. Beasley was frustrated that his complaints to management never got addressed, so he sued.  It s owned by an African American owner, but he gives full authority to the Hispanics to run it,  he told reporters.  It just caught me by surprise because here I am getting fired when I m trying to fix the problem. Beasley explained to CBS that he became homeless after he lost his job, so the hefty settlement becomes a huge victory for the grandfather from Compton.His lawyer Scott Cummings hopes that this win sends a message to other businesses out there.  Racism, racial harassment can occur really anywhere even in a black-owned business,  he asserted. Beasley added,  You can t treat people like that and get away with it constantly.  Via: Breitbart News\"\n        ],\n        \"semantic_type\": \"\",\n        \"description\": \"\"\n      }\n    },\n    {\n      \"column\": \"label\",\n      \"properties\": {\n        \"dtype\": \"number\",\n        \"std\": 0,\n        \"min\": 0,\n        \"max\": 1,\n        \"num_unique_values\": 2,\n        \"samples\": [\n          0,\n          1\n        ],\n        \"semantic_type\": \"\",\n        \"description\": \"\"\n      }\n    }\n  ]\n}",
              "type": "dataframe",
              "variable_name": "df"
            },
            "text/html": [
              "\n",
              "  <div id=\"df-26df619a-b83c-47f7-a015-52f2dadaa375\" class=\"colab-df-container\">\n",
              "    <div>\n",
              "<style scoped>\n",
              "    .dataframe tbody tr th:only-of-type {\n",
              "        vertical-align: middle;\n",
              "    }\n",
              "\n",
              "    .dataframe tbody tr th {\n",
              "        vertical-align: top;\n",
              "    }\n",
              "\n",
              "    .dataframe thead th {\n",
              "        text-align: right;\n",
              "    }\n",
              "</style>\n",
              "<table border=\"1\" class=\"dataframe\">\n",
              "  <thead>\n",
              "    <tr style=\"text-align: right;\">\n",
              "      <th></th>\n",
              "      <th>Unnamed: 0</th>\n",
              "      <th>title</th>\n",
              "      <th>text</th>\n",
              "      <th>label</th>\n",
              "    </tr>\n",
              "  </thead>\n",
              "  <tbody>\n",
              "    <tr>\n",
              "      <th>0</th>\n",
              "      <td>0</td>\n",
              "      <td>LAW ENFORCEMENT ON HIGH ALERT Following Threat...</td>\n",
              "      <td>No comment is expected from Barack Obama Membe...</td>\n",
              "      <td>1</td>\n",
              "    </tr>\n",
              "    <tr>\n",
              "      <th>1</th>\n",
              "      <td>1</td>\n",
              "      <td>NaN</td>\n",
              "      <td>Did they post their votes for Hillary already?</td>\n",
              "      <td>1</td>\n",
              "    </tr>\n",
              "    <tr>\n",
              "      <th>2</th>\n",
              "      <td>2</td>\n",
              "      <td>UNBELIEVABLE! OBAMA’S ATTORNEY GENERAL SAYS MO...</td>\n",
              "      <td>Now, most of the demonstrators gathered last ...</td>\n",
              "      <td>1</td>\n",
              "    </tr>\n",
              "    <tr>\n",
              "      <th>3</th>\n",
              "      <td>3</td>\n",
              "      <td>Bobby Jindal, raised Hindu, uses story of Chri...</td>\n",
              "      <td>A dozen politically active pastors came here f...</td>\n",
              "      <td>0</td>\n",
              "    </tr>\n",
              "    <tr>\n",
              "      <th>4</th>\n",
              "      <td>4</td>\n",
              "      <td>SATAN 2: Russia unvelis an image of its terrif...</td>\n",
              "      <td>The RS-28 Sarmat missile, dubbed Satan 2, will...</td>\n",
              "      <td>1</td>\n",
              "    </tr>\n",
              "  </tbody>\n",
              "</table>\n",
              "</div>\n",
              "    <div class=\"colab-df-buttons\">\n",
              "\n",
              "  <div class=\"colab-df-container\">\n",
              "    <button class=\"colab-df-convert\" onclick=\"convertToInteractive('df-26df619a-b83c-47f7-a015-52f2dadaa375')\"\n",
              "            title=\"Convert this dataframe to an interactive table.\"\n",
              "            style=\"display:none;\">\n",
              "\n",
              "  <svg xmlns=\"http://www.w3.org/2000/svg\" height=\"24px\" viewBox=\"0 -960 960 960\">\n",
              "    <path d=\"M120-120v-720h720v720H120Zm60-500h600v-160H180v160Zm220 220h160v-160H400v160Zm0 220h160v-160H400v160ZM180-400h160v-160H180v160Zm440 0h160v-160H620v160ZM180-180h160v-160H180v160Zm440 0h160v-160H620v160Z\"/>\n",
              "  </svg>\n",
              "    </button>\n",
              "\n",
              "  <style>\n",
              "    .colab-df-container {\n",
              "      display:flex;\n",
              "      gap: 12px;\n",
              "    }\n",
              "\n",
              "    .colab-df-convert {\n",
              "      background-color: #E8F0FE;\n",
              "      border: none;\n",
              "      border-radius: 50%;\n",
              "      cursor: pointer;\n",
              "      display: none;\n",
              "      fill: #1967D2;\n",
              "      height: 32px;\n",
              "      padding: 0 0 0 0;\n",
              "      width: 32px;\n",
              "    }\n",
              "\n",
              "    .colab-df-convert:hover {\n",
              "      background-color: #E2EBFA;\n",
              "      box-shadow: 0px 1px 2px rgba(60, 64, 67, 0.3), 0px 1px 3px 1px rgba(60, 64, 67, 0.15);\n",
              "      fill: #174EA6;\n",
              "    }\n",
              "\n",
              "    .colab-df-buttons div {\n",
              "      margin-bottom: 4px;\n",
              "    }\n",
              "\n",
              "    [theme=dark] .colab-df-convert {\n",
              "      background-color: #3B4455;\n",
              "      fill: #D2E3FC;\n",
              "    }\n",
              "\n",
              "    [theme=dark] .colab-df-convert:hover {\n",
              "      background-color: #434B5C;\n",
              "      box-shadow: 0px 1px 3px 1px rgba(0, 0, 0, 0.15);\n",
              "      filter: drop-shadow(0px 1px 2px rgba(0, 0, 0, 0.3));\n",
              "      fill: #FFFFFF;\n",
              "    }\n",
              "  </style>\n",
              "\n",
              "    <script>\n",
              "      const buttonEl =\n",
              "        document.querySelector('#df-26df619a-b83c-47f7-a015-52f2dadaa375 button.colab-df-convert');\n",
              "      buttonEl.style.display =\n",
              "        google.colab.kernel.accessAllowed ? 'block' : 'none';\n",
              "\n",
              "      async function convertToInteractive(key) {\n",
              "        const element = document.querySelector('#df-26df619a-b83c-47f7-a015-52f2dadaa375');\n",
              "        const dataTable =\n",
              "          await google.colab.kernel.invokeFunction('convertToInteractive',\n",
              "                                                    [key], {});\n",
              "        if (!dataTable) return;\n",
              "\n",
              "        const docLinkHtml = 'Like what you see? Visit the ' +\n",
              "          '<a target=\"_blank\" href=https://colab.research.google.com/notebooks/data_table.ipynb>data table notebook</a>'\n",
              "          + ' to learn more about interactive tables.';\n",
              "        element.innerHTML = '';\n",
              "        dataTable['output_type'] = 'display_data';\n",
              "        await google.colab.output.renderOutput(dataTable, element);\n",
              "        const docLink = document.createElement('div');\n",
              "        docLink.innerHTML = docLinkHtml;\n",
              "        element.appendChild(docLink);\n",
              "      }\n",
              "    </script>\n",
              "  </div>\n",
              "\n",
              "\n",
              "    <div id=\"df-7154544d-96c9-44b8-ad23-cf2caff3269b\">\n",
              "      <button class=\"colab-df-quickchart\" onclick=\"quickchart('df-7154544d-96c9-44b8-ad23-cf2caff3269b')\"\n",
              "                title=\"Suggest charts\"\n",
              "                style=\"display:none;\">\n",
              "\n",
              "<svg xmlns=\"http://www.w3.org/2000/svg\" height=\"24px\"viewBox=\"0 0 24 24\"\n",
              "     width=\"24px\">\n",
              "    <g>\n",
              "        <path d=\"M19 3H5c-1.1 0-2 .9-2 2v14c0 1.1.9 2 2 2h14c1.1 0 2-.9 2-2V5c0-1.1-.9-2-2-2zM9 17H7v-7h2v7zm4 0h-2V7h2v10zm4 0h-2v-4h2v4z\"/>\n",
              "    </g>\n",
              "</svg>\n",
              "      </button>\n",
              "\n",
              "<style>\n",
              "  .colab-df-quickchart {\n",
              "      --bg-color: #E8F0FE;\n",
              "      --fill-color: #1967D2;\n",
              "      --hover-bg-color: #E2EBFA;\n",
              "      --hover-fill-color: #174EA6;\n",
              "      --disabled-fill-color: #AAA;\n",
              "      --disabled-bg-color: #DDD;\n",
              "  }\n",
              "\n",
              "  [theme=dark] .colab-df-quickchart {\n",
              "      --bg-color: #3B4455;\n",
              "      --fill-color: #D2E3FC;\n",
              "      --hover-bg-color: #434B5C;\n",
              "      --hover-fill-color: #FFFFFF;\n",
              "      --disabled-bg-color: #3B4455;\n",
              "      --disabled-fill-color: #666;\n",
              "  }\n",
              "\n",
              "  .colab-df-quickchart {\n",
              "    background-color: var(--bg-color);\n",
              "    border: none;\n",
              "    border-radius: 50%;\n",
              "    cursor: pointer;\n",
              "    display: none;\n",
              "    fill: var(--fill-color);\n",
              "    height: 32px;\n",
              "    padding: 0;\n",
              "    width: 32px;\n",
              "  }\n",
              "\n",
              "  .colab-df-quickchart:hover {\n",
              "    background-color: var(--hover-bg-color);\n",
              "    box-shadow: 0 1px 2px rgba(60, 64, 67, 0.3), 0 1px 3px 1px rgba(60, 64, 67, 0.15);\n",
              "    fill: var(--button-hover-fill-color);\n",
              "  }\n",
              "\n",
              "  .colab-df-quickchart-complete:disabled,\n",
              "  .colab-df-quickchart-complete:disabled:hover {\n",
              "    background-color: var(--disabled-bg-color);\n",
              "    fill: var(--disabled-fill-color);\n",
              "    box-shadow: none;\n",
              "  }\n",
              "\n",
              "  .colab-df-spinner {\n",
              "    border: 2px solid var(--fill-color);\n",
              "    border-color: transparent;\n",
              "    border-bottom-color: var(--fill-color);\n",
              "    animation:\n",
              "      spin 1s steps(1) infinite;\n",
              "  }\n",
              "\n",
              "  @keyframes spin {\n",
              "    0% {\n",
              "      border-color: transparent;\n",
              "      border-bottom-color: var(--fill-color);\n",
              "      border-left-color: var(--fill-color);\n",
              "    }\n",
              "    20% {\n",
              "      border-color: transparent;\n",
              "      border-left-color: var(--fill-color);\n",
              "      border-top-color: var(--fill-color);\n",
              "    }\n",
              "    30% {\n",
              "      border-color: transparent;\n",
              "      border-left-color: var(--fill-color);\n",
              "      border-top-color: var(--fill-color);\n",
              "      border-right-color: var(--fill-color);\n",
              "    }\n",
              "    40% {\n",
              "      border-color: transparent;\n",
              "      border-right-color: var(--fill-color);\n",
              "      border-top-color: var(--fill-color);\n",
              "    }\n",
              "    60% {\n",
              "      border-color: transparent;\n",
              "      border-right-color: var(--fill-color);\n",
              "    }\n",
              "    80% {\n",
              "      border-color: transparent;\n",
              "      border-right-color: var(--fill-color);\n",
              "      border-bottom-color: var(--fill-color);\n",
              "    }\n",
              "    90% {\n",
              "      border-color: transparent;\n",
              "      border-bottom-color: var(--fill-color);\n",
              "    }\n",
              "  }\n",
              "</style>\n",
              "\n",
              "      <script>\n",
              "        async function quickchart(key) {\n",
              "          const quickchartButtonEl =\n",
              "            document.querySelector('#' + key + ' button');\n",
              "          quickchartButtonEl.disabled = true;  // To prevent multiple clicks.\n",
              "          quickchartButtonEl.classList.add('colab-df-spinner');\n",
              "          try {\n",
              "            const charts = await google.colab.kernel.invokeFunction(\n",
              "                'suggestCharts', [key], {});\n",
              "          } catch (error) {\n",
              "            console.error('Error during call to suggestCharts:', error);\n",
              "          }\n",
              "          quickchartButtonEl.classList.remove('colab-df-spinner');\n",
              "          quickchartButtonEl.classList.add('colab-df-quickchart-complete');\n",
              "        }\n",
              "        (() => {\n",
              "          let quickchartButtonEl =\n",
              "            document.querySelector('#df-7154544d-96c9-44b8-ad23-cf2caff3269b button');\n",
              "          quickchartButtonEl.style.display =\n",
              "            google.colab.kernel.accessAllowed ? 'block' : 'none';\n",
              "        })();\n",
              "      </script>\n",
              "    </div>\n",
              "\n",
              "    </div>\n",
              "  </div>\n"
            ],
            "text/plain": [
              "   Unnamed: 0                                              title  \\\n",
              "0           0  LAW ENFORCEMENT ON HIGH ALERT Following Threat...   \n",
              "1           1                                                NaN   \n",
              "2           2  UNBELIEVABLE! OBAMA’S ATTORNEY GENERAL SAYS MO...   \n",
              "3           3  Bobby Jindal, raised Hindu, uses story of Chri...   \n",
              "4           4  SATAN 2: Russia unvelis an image of its terrif...   \n",
              "\n",
              "                                                text  label  \n",
              "0  No comment is expected from Barack Obama Membe...      1  \n",
              "1     Did they post their votes for Hillary already?      1  \n",
              "2   Now, most of the demonstrators gathered last ...      1  \n",
              "3  A dozen politically active pastors came here f...      0  \n",
              "4  The RS-28 Sarmat missile, dubbed Satan 2, will...      1  "
            ]
          },
          "execution_count": 5,
          "metadata": {},
          "output_type": "execute_result"
        }
      ],
      "source": [
        "df.head()"
      ]
    },
    {
      "cell_type": "markdown",
      "metadata": {
        "id": "sfSuKlXKFIRK"
      },
      "source": [
        "# Confirming Dataset Scale:"
      ]
    },
    {
      "cell_type": "code",
      "execution_count": null,
      "metadata": {
        "colab": {
          "base_uri": "https://localhost:8080/"
        },
        "id": "-vN3u5y3ED8J",
        "outputId": "ece67ee0-e8ed-45fe-8bf0-46cb53a4645c"
      },
      "outputs": [
        {
          "data": {
            "text/plain": [
              "(72134, 4)"
            ]
          },
          "execution_count": 6,
          "metadata": {},
          "output_type": "execute_result"
        }
      ],
      "source": [
        "df.shape"
      ]
    },
    {
      "cell_type": "code",
      "execution_count": null,
      "metadata": {
        "colab": {
          "base_uri": "https://localhost:8080/"
        },
        "id": "ORXm0ujXFE6F",
        "outputId": "c4039b4f-68ae-4f3b-e8eb-dd3404e7bd32"
      },
      "outputs": [
        {
          "data": {
            "text/plain": [
              "Index(['Unnamed: 0', 'title', 'text', 'label'], dtype='object')"
            ]
          },
          "execution_count": 8,
          "metadata": {},
          "output_type": "execute_result"
        }
      ],
      "source": [
        "df.columns # columns [gonna be dropping column \"Unnamed: 0\" as it is the index and serves no value.]"
      ]
    },
    {
      "cell_type": "code",
      "execution_count": null,
      "metadata": {
        "colab": {
          "base_uri": "https://localhost:8080/"
        },
        "id": "fDlGb7IvFF69",
        "outputId": "1f075ff6-33f3-4680-edc3-548e956aa334"
      },
      "outputs": [
        {
          "name": "stdout",
          "output_type": "stream",
          "text": [
            "<class 'pandas.core.frame.DataFrame'>\n",
            "RangeIndex: 72134 entries, 0 to 72133\n",
            "Data columns (total 4 columns):\n",
            " #   Column      Non-Null Count  Dtype \n",
            "---  ------      --------------  ----- \n",
            " 0   Unnamed: 0  72134 non-null  int64 \n",
            " 1   title       71576 non-null  object\n",
            " 2   text        72095 non-null  object\n",
            " 3   label       72134 non-null  int64 \n",
            "dtypes: int64(2), object(2)\n",
            "memory usage: 2.2+ MB\n"
          ]
        }
      ],
      "source": [
        "df.info() # index column can be dropped safely."
      ]
    },
    {
      "cell_type": "code",
      "execution_count": null,
      "metadata": {
        "colab": {
          "base_uri": "https://localhost:8080/",
          "height": 209
        },
        "id": "Bko-T9OoFM-s",
        "outputId": "a3cec402-02eb-4c71-9c84-acd9cc3b896f"
      },
      "outputs": [
        {
          "data": {
            "text/html": [
              "<div>\n",
              "<style scoped>\n",
              "    .dataframe tbody tr th:only-of-type {\n",
              "        vertical-align: middle;\n",
              "    }\n",
              "\n",
              "    .dataframe tbody tr th {\n",
              "        vertical-align: top;\n",
              "    }\n",
              "\n",
              "    .dataframe thead th {\n",
              "        text-align: right;\n",
              "    }\n",
              "</style>\n",
              "<table border=\"1\" class=\"dataframe\">\n",
              "  <thead>\n",
              "    <tr style=\"text-align: right;\">\n",
              "      <th></th>\n",
              "      <th>0</th>\n",
              "    </tr>\n",
              "  </thead>\n",
              "  <tbody>\n",
              "    <tr>\n",
              "      <th>Unnamed: 0</th>\n",
              "      <td>int64</td>\n",
              "    </tr>\n",
              "    <tr>\n",
              "      <th>title</th>\n",
              "      <td>object</td>\n",
              "    </tr>\n",
              "    <tr>\n",
              "      <th>text</th>\n",
              "      <td>object</td>\n",
              "    </tr>\n",
              "    <tr>\n",
              "      <th>label</th>\n",
              "      <td>int64</td>\n",
              "    </tr>\n",
              "  </tbody>\n",
              "</table>\n",
              "</div><br><label><b>dtype:</b> object</label>"
            ],
            "text/plain": [
              "Unnamed: 0     int64\n",
              "title         object\n",
              "text          object\n",
              "label          int64\n",
              "dtype: object"
            ]
          },
          "execution_count": 7,
          "metadata": {},
          "output_type": "execute_result"
        }
      ],
      "source": [
        "df.dtypes"
      ]
    },
    {
      "cell_type": "code",
      "execution_count": null,
      "metadata": {
        "colab": {
          "base_uri": "https://localhost:8080/",
          "height": 209
        },
        "id": "PvsenM8jFPIX",
        "outputId": "3535f955-d3bc-4d81-b32a-92a4316c18fd"
      },
      "outputs": [
        {
          "data": {
            "text/html": [
              "<div>\n",
              "<style scoped>\n",
              "    .dataframe tbody tr th:only-of-type {\n",
              "        vertical-align: middle;\n",
              "    }\n",
              "\n",
              "    .dataframe tbody tr th {\n",
              "        vertical-align: top;\n",
              "    }\n",
              "\n",
              "    .dataframe thead th {\n",
              "        text-align: right;\n",
              "    }\n",
              "</style>\n",
              "<table border=\"1\" class=\"dataframe\">\n",
              "  <thead>\n",
              "    <tr style=\"text-align: right;\">\n",
              "      <th></th>\n",
              "      <th>0</th>\n",
              "    </tr>\n",
              "  </thead>\n",
              "  <tbody>\n",
              "    <tr>\n",
              "      <th>Unnamed: 0</th>\n",
              "      <td>72134</td>\n",
              "    </tr>\n",
              "    <tr>\n",
              "      <th>title</th>\n",
              "      <td>62347</td>\n",
              "    </tr>\n",
              "    <tr>\n",
              "      <th>text</th>\n",
              "      <td>62718</td>\n",
              "    </tr>\n",
              "    <tr>\n",
              "      <th>label</th>\n",
              "      <td>2</td>\n",
              "    </tr>\n",
              "  </tbody>\n",
              "</table>\n",
              "</div><br><label><b>dtype:</b> int64</label>"
            ],
            "text/plain": [
              "Unnamed: 0    72134\n",
              "title         62347\n",
              "text          62718\n",
              "label             2\n",
              "dtype: int64"
            ]
          },
          "execution_count": 10,
          "metadata": {},
          "output_type": "execute_result"
        }
      ],
      "source": [
        "df.nunique() # unique values per column"
      ]
    },
    {
      "cell_type": "markdown",
      "metadata": {
        "id": "dXgFFLT9FREq"
      },
      "source": [
        "^ key insights from nunique();\n",
        "\n",
        "index columns has no unique values -> safe to drop\n",
        "title has 62347 unique values -> over 10k titles are repeated (possible duplicates, or reused headlines, etc.)\n",
        "text, again same as title, may have to drop \"exact\" duplicates.\n",
        "label -> binary classification column (0, 1)."
      ]
    },
    {
      "cell_type": "markdown",
      "metadata": {
        "id": "oEtCvQRkFVqi"
      },
      "source": [
        "# Handling Missing Values and Duplicates:"
      ]
    },
    {
      "cell_type": "code",
      "execution_count": null,
      "metadata": {
        "colab": {
          "base_uri": "https://localhost:8080/",
          "height": 209
        },
        "id": "D6lFJErHFXMq",
        "outputId": "23c3afde-8e8e-4387-f53e-a1f9a940b26e"
      },
      "outputs": [
        {
          "data": {
            "text/html": [
              "<div>\n",
              "<style scoped>\n",
              "    .dataframe tbody tr th:only-of-type {\n",
              "        vertical-align: middle;\n",
              "    }\n",
              "\n",
              "    .dataframe tbody tr th {\n",
              "        vertical-align: top;\n",
              "    }\n",
              "\n",
              "    .dataframe thead th {\n",
              "        text-align: right;\n",
              "    }\n",
              "</style>\n",
              "<table border=\"1\" class=\"dataframe\">\n",
              "  <thead>\n",
              "    <tr style=\"text-align: right;\">\n",
              "      <th></th>\n",
              "      <th>0</th>\n",
              "    </tr>\n",
              "  </thead>\n",
              "  <tbody>\n",
              "    <tr>\n",
              "      <th>Unnamed: 0</th>\n",
              "      <td>0</td>\n",
              "    </tr>\n",
              "    <tr>\n",
              "      <th>title</th>\n",
              "      <td>558</td>\n",
              "    </tr>\n",
              "    <tr>\n",
              "      <th>text</th>\n",
              "      <td>39</td>\n",
              "    </tr>\n",
              "    <tr>\n",
              "      <th>label</th>\n",
              "      <td>0</td>\n",
              "    </tr>\n",
              "  </tbody>\n",
              "</table>\n",
              "</div><br><label><b>dtype:</b> int64</label>"
            ],
            "text/plain": [
              "Unnamed: 0      0\n",
              "title         558\n",
              "text           39\n",
              "label           0\n",
              "dtype: int64"
            ]
          },
          "execution_count": 11,
          "metadata": {},
          "output_type": "execute_result"
        }
      ],
      "source": [
        "df.isna().sum() # check missing values out of ~72k data"
      ]
    },
    {
      "cell_type": "code",
      "execution_count": null,
      "metadata": {
        "colab": {
          "base_uri": "https://localhost:8080/",
          "height": 209
        },
        "id": "1kaApWAZFZT-",
        "outputId": "a8c151ca-fc8f-4f70-d781-8c1e260b5f22"
      },
      "outputs": [
        {
          "data": {
            "text/html": [
              "<div>\n",
              "<style scoped>\n",
              "    .dataframe tbody tr th:only-of-type {\n",
              "        vertical-align: middle;\n",
              "    }\n",
              "\n",
              "    .dataframe tbody tr th {\n",
              "        vertical-align: top;\n",
              "    }\n",
              "\n",
              "    .dataframe thead th {\n",
              "        text-align: right;\n",
              "    }\n",
              "</style>\n",
              "<table border=\"1\" class=\"dataframe\">\n",
              "  <thead>\n",
              "    <tr style=\"text-align: right;\">\n",
              "      <th></th>\n",
              "      <th>0</th>\n",
              "    </tr>\n",
              "  </thead>\n",
              "  <tbody>\n",
              "    <tr>\n",
              "      <th>Unnamed: 0</th>\n",
              "      <td>0</td>\n",
              "    </tr>\n",
              "    <tr>\n",
              "      <th>title</th>\n",
              "      <td>55800</td>\n",
              "    </tr>\n",
              "    <tr>\n",
              "      <th>text</th>\n",
              "      <td>3900</td>\n",
              "    </tr>\n",
              "    <tr>\n",
              "      <th>label</th>\n",
              "      <td>0</td>\n",
              "    </tr>\n",
              "  </tbody>\n",
              "</table>\n",
              "</div><br><label><b>dtype:</b> int64</label>"
            ],
            "text/plain": [
              "Unnamed: 0        0\n",
              "title         55800\n",
              "text           3900\n",
              "label             0\n",
              "dtype: int64"
            ]
          },
          "execution_count": 12,
          "metadata": {},
          "output_type": "execute_result"
        }
      ],
      "source": [
        "df.isna().sum()*100 # percentage based"
      ]
    },
    {
      "cell_type": "markdown",
      "metadata": {
        "id": "2nTYPVwSFbFL"
      },
      "source": [
        "key insights: title; 558 missing values out of ~72k (almost ~0.77%)\n",
        "\n",
        "text; 39 missing values out of ~72k (almost ~0.05%)\n",
        "\n",
        "label and index at [0] -> expected."
      ]
    },
    {
      "cell_type": "markdown",
      "metadata": {
        "id": "RHtYoS0PFfLu"
      },
      "source": [
        "2. Checking duplicates:"
      ]
    },
    {
      "cell_type": "code",
      "execution_count": null,
      "metadata": {
        "colab": {
          "base_uri": "https://localhost:8080/"
        },
        "id": "qUzsoKB2FdBu",
        "outputId": "35245996-f36c-4645-ec76-2a8ac4ead27a"
      },
      "outputs": [
        {
          "data": {
            "text/plain": [
              "np.int64(0)"
            ]
          },
          "execution_count": 13,
          "metadata": {},
          "output_type": "execute_result"
        }
      ],
      "source": [
        "df.duplicated().sum() # full row duplicates"
      ]
    },
    {
      "cell_type": "code",
      "execution_count": null,
      "metadata": {
        "colab": {
          "base_uri": "https://localhost:8080/"
        },
        "id": "eFXJ36wDFloV",
        "outputId": "0ba0f09b-5990-4488-e916-0d1f69294126"
      },
      "outputs": [
        {
          "data": {
            "text/plain": [
              "np.int64(8456)"
            ]
          },
          "execution_count": 14,
          "metadata": {},
          "output_type": "execute_result"
        }
      ],
      "source": [
        "df.duplicated(subset=['title','text']).sum()"
      ]
    },
    {
      "cell_type": "markdown",
      "metadata": {
        "id": "jo_UlBQ3FosZ"
      },
      "source": [
        "8456 out of 72134 ((~~11.7%))are repeated articles, possibly with the same headline + text"
      ]
    },
    {
      "cell_type": "markdown",
      "metadata": {
        "id": "84qYqOWILRJv"
      },
      "source": [
        "**Dropping Column \"Unnamed: 0\":**\n"
      ]
    },
    {
      "cell_type": "code",
      "execution_count": null,
      "metadata": {
        "id": "SUk4O28iLSSi"
      },
      "outputs": [],
      "source": [
        "df = df.drop(columns=['Unnamed: 0'])"
      ]
    },
    {
      "cell_type": "code",
      "execution_count": null,
      "metadata": {
        "colab": {
          "base_uri": "https://localhost:8080/"
        },
        "id": "T_rgo28lLUq4",
        "outputId": "a9dc87bb-99c4-43e6-d561-fb0bd35f43d8"
      },
      "outputs": [
        {
          "data": {
            "text/plain": [
              "Index(['title', 'text', 'label'], dtype='object')"
            ]
          },
          "execution_count": 16,
          "metadata": {},
          "output_type": "execute_result"
        }
      ],
      "source": [
        "df.columns # check if its gone"
      ]
    },
    {
      "cell_type": "markdown",
      "metadata": {
        "id": "5dan1sR4FrAv"
      },
      "source": [
        "3. Handling missing values:"
      ]
    },
    {
      "cell_type": "code",
      "execution_count": null,
      "metadata": {
        "id": "BLEchH7YFnPw"
      },
      "outputs": [],
      "source": [
        "df['title'] = df['title'].fillna('')\n",
        "df['text'] = df['text'].fillna('')"
      ]
    },
    {
      "cell_type": "code",
      "execution_count": null,
      "metadata": {
        "colab": {
          "base_uri": "https://localhost:8080/",
          "height": 178
        },
        "id": "qsBhTeBxFvBp",
        "outputId": "086f2669-70a4-4de4-921f-c3ec431d4c0f"
      },
      "outputs": [
        {
          "data": {
            "text/html": [
              "<div>\n",
              "<style scoped>\n",
              "    .dataframe tbody tr th:only-of-type {\n",
              "        vertical-align: middle;\n",
              "    }\n",
              "\n",
              "    .dataframe tbody tr th {\n",
              "        vertical-align: top;\n",
              "    }\n",
              "\n",
              "    .dataframe thead th {\n",
              "        text-align: right;\n",
              "    }\n",
              "</style>\n",
              "<table border=\"1\" class=\"dataframe\">\n",
              "  <thead>\n",
              "    <tr style=\"text-align: right;\">\n",
              "      <th></th>\n",
              "      <th>0</th>\n",
              "    </tr>\n",
              "  </thead>\n",
              "  <tbody>\n",
              "    <tr>\n",
              "      <th>title</th>\n",
              "      <td>0</td>\n",
              "    </tr>\n",
              "    <tr>\n",
              "      <th>text</th>\n",
              "      <td>0</td>\n",
              "    </tr>\n",
              "    <tr>\n",
              "      <th>label</th>\n",
              "      <td>0</td>\n",
              "    </tr>\n",
              "  </tbody>\n",
              "</table>\n",
              "</div><br><label><b>dtype:</b> int64</label>"
            ],
            "text/plain": [
              "title    0\n",
              "text     0\n",
              "label    0\n",
              "dtype: int64"
            ]
          },
          "execution_count": 18,
          "metadata": {},
          "output_type": "execute_result"
        }
      ],
      "source": [
        "df.isna().sum() # rechecking missing values"
      ]
    },
    {
      "cell_type": "code",
      "execution_count": null,
      "metadata": {
        "colab": {
          "base_uri": "https://localhost:8080/",
          "height": 206
        },
        "id": "edFNXrtbFyIH",
        "outputId": "0acb7c42-9121-417b-f907-c2e493afee5d"
      },
      "outputs": [
        {
          "data": {
            "application/vnd.google.colaboratory.intrinsic+json": {
              "repr_error": "0",
              "type": "dataframe"
            },
            "text/html": [
              "\n",
              "  <div id=\"df-a5bf7890-6254-447b-a2f4-a88c6ce20a64\" class=\"colab-df-container\">\n",
              "    <div>\n",
              "<style scoped>\n",
              "    .dataframe tbody tr th:only-of-type {\n",
              "        vertical-align: middle;\n",
              "    }\n",
              "\n",
              "    .dataframe tbody tr th {\n",
              "        vertical-align: top;\n",
              "    }\n",
              "\n",
              "    .dataframe thead th {\n",
              "        text-align: right;\n",
              "    }\n",
              "</style>\n",
              "<table border=\"1\" class=\"dataframe\">\n",
              "  <thead>\n",
              "    <tr style=\"text-align: right;\">\n",
              "      <th></th>\n",
              "      <th>title</th>\n",
              "      <th>text</th>\n",
              "      <th>label</th>\n",
              "    </tr>\n",
              "  </thead>\n",
              "  <tbody>\n",
              "    <tr>\n",
              "      <th>1</th>\n",
              "      <td></td>\n",
              "      <td>Did they post their votes for Hillary already?</td>\n",
              "      <td>1</td>\n",
              "    </tr>\n",
              "    <tr>\n",
              "      <th>43</th>\n",
              "      <td></td>\n",
              "      <td>True. Hillary needs a distraction and what bet...</td>\n",
              "      <td>1</td>\n",
              "    </tr>\n",
              "    <tr>\n",
              "      <th>162</th>\n",
              "      <td></td>\n",
              "      <td>All eyes on Electoral delegates. The People kn...</td>\n",
              "      <td>1</td>\n",
              "    </tr>\n",
              "    <tr>\n",
              "      <th>185</th>\n",
              "      <td></td>\n",
              "      <td>Cool</td>\n",
              "      <td>1</td>\n",
              "    </tr>\n",
              "    <tr>\n",
              "      <th>269</th>\n",
              "      <td></td>\n",
              "      <td>A leading US senator: US Supporting War in Syr...</td>\n",
              "      <td>1</td>\n",
              "    </tr>\n",
              "  </tbody>\n",
              "</table>\n",
              "</div>\n",
              "    <div class=\"colab-df-buttons\">\n",
              "\n",
              "  <div class=\"colab-df-container\">\n",
              "    <button class=\"colab-df-convert\" onclick=\"convertToInteractive('df-a5bf7890-6254-447b-a2f4-a88c6ce20a64')\"\n",
              "            title=\"Convert this dataframe to an interactive table.\"\n",
              "            style=\"display:none;\">\n",
              "\n",
              "  <svg xmlns=\"http://www.w3.org/2000/svg\" height=\"24px\" viewBox=\"0 -960 960 960\">\n",
              "    <path d=\"M120-120v-720h720v720H120Zm60-500h600v-160H180v160Zm220 220h160v-160H400v160Zm0 220h160v-160H400v160ZM180-400h160v-160H180v160Zm440 0h160v-160H620v160ZM180-180h160v-160H180v160Zm440 0h160v-160H620v160Z\"/>\n",
              "  </svg>\n",
              "    </button>\n",
              "\n",
              "  <style>\n",
              "    .colab-df-container {\n",
              "      display:flex;\n",
              "      gap: 12px;\n",
              "    }\n",
              "\n",
              "    .colab-df-convert {\n",
              "      background-color: #E8F0FE;\n",
              "      border: none;\n",
              "      border-radius: 50%;\n",
              "      cursor: pointer;\n",
              "      display: none;\n",
              "      fill: #1967D2;\n",
              "      height: 32px;\n",
              "      padding: 0 0 0 0;\n",
              "      width: 32px;\n",
              "    }\n",
              "\n",
              "    .colab-df-convert:hover {\n",
              "      background-color: #E2EBFA;\n",
              "      box-shadow: 0px 1px 2px rgba(60, 64, 67, 0.3), 0px 1px 3px 1px rgba(60, 64, 67, 0.15);\n",
              "      fill: #174EA6;\n",
              "    }\n",
              "\n",
              "    .colab-df-buttons div {\n",
              "      margin-bottom: 4px;\n",
              "    }\n",
              "\n",
              "    [theme=dark] .colab-df-convert {\n",
              "      background-color: #3B4455;\n",
              "      fill: #D2E3FC;\n",
              "    }\n",
              "\n",
              "    [theme=dark] .colab-df-convert:hover {\n",
              "      background-color: #434B5C;\n",
              "      box-shadow: 0px 1px 3px 1px rgba(0, 0, 0, 0.15);\n",
              "      filter: drop-shadow(0px 1px 2px rgba(0, 0, 0, 0.3));\n",
              "      fill: #FFFFFF;\n",
              "    }\n",
              "  </style>\n",
              "\n",
              "    <script>\n",
              "      const buttonEl =\n",
              "        document.querySelector('#df-a5bf7890-6254-447b-a2f4-a88c6ce20a64 button.colab-df-convert');\n",
              "      buttonEl.style.display =\n",
              "        google.colab.kernel.accessAllowed ? 'block' : 'none';\n",
              "\n",
              "      async function convertToInteractive(key) {\n",
              "        const element = document.querySelector('#df-a5bf7890-6254-447b-a2f4-a88c6ce20a64');\n",
              "        const dataTable =\n",
              "          await google.colab.kernel.invokeFunction('convertToInteractive',\n",
              "                                                    [key], {});\n",
              "        if (!dataTable) return;\n",
              "\n",
              "        const docLinkHtml = 'Like what you see? Visit the ' +\n",
              "          '<a target=\"_blank\" href=https://colab.research.google.com/notebooks/data_table.ipynb>data table notebook</a>'\n",
              "          + ' to learn more about interactive tables.';\n",
              "        element.innerHTML = '';\n",
              "        dataTable['output_type'] = 'display_data';\n",
              "        await google.colab.output.renderOutput(dataTable, element);\n",
              "        const docLink = document.createElement('div');\n",
              "        docLink.innerHTML = docLinkHtml;\n",
              "        element.appendChild(docLink);\n",
              "      }\n",
              "    </script>\n",
              "  </div>\n",
              "\n",
              "\n",
              "    <div id=\"df-7b0d0ebd-103d-41a0-ada5-44cad3adc8f5\">\n",
              "      <button class=\"colab-df-quickchart\" onclick=\"quickchart('df-7b0d0ebd-103d-41a0-ada5-44cad3adc8f5')\"\n",
              "                title=\"Suggest charts\"\n",
              "                style=\"display:none;\">\n",
              "\n",
              "<svg xmlns=\"http://www.w3.org/2000/svg\" height=\"24px\"viewBox=\"0 0 24 24\"\n",
              "     width=\"24px\">\n",
              "    <g>\n",
              "        <path d=\"M19 3H5c-1.1 0-2 .9-2 2v14c0 1.1.9 2 2 2h14c1.1 0 2-.9 2-2V5c0-1.1-.9-2-2-2zM9 17H7v-7h2v7zm4 0h-2V7h2v10zm4 0h-2v-4h2v4z\"/>\n",
              "    </g>\n",
              "</svg>\n",
              "      </button>\n",
              "\n",
              "<style>\n",
              "  .colab-df-quickchart {\n",
              "      --bg-color: #E8F0FE;\n",
              "      --fill-color: #1967D2;\n",
              "      --hover-bg-color: #E2EBFA;\n",
              "      --hover-fill-color: #174EA6;\n",
              "      --disabled-fill-color: #AAA;\n",
              "      --disabled-bg-color: #DDD;\n",
              "  }\n",
              "\n",
              "  [theme=dark] .colab-df-quickchart {\n",
              "      --bg-color: #3B4455;\n",
              "      --fill-color: #D2E3FC;\n",
              "      --hover-bg-color: #434B5C;\n",
              "      --hover-fill-color: #FFFFFF;\n",
              "      --disabled-bg-color: #3B4455;\n",
              "      --disabled-fill-color: #666;\n",
              "  }\n",
              "\n",
              "  .colab-df-quickchart {\n",
              "    background-color: var(--bg-color);\n",
              "    border: none;\n",
              "    border-radius: 50%;\n",
              "    cursor: pointer;\n",
              "    display: none;\n",
              "    fill: var(--fill-color);\n",
              "    height: 32px;\n",
              "    padding: 0;\n",
              "    width: 32px;\n",
              "  }\n",
              "\n",
              "  .colab-df-quickchart:hover {\n",
              "    background-color: var(--hover-bg-color);\n",
              "    box-shadow: 0 1px 2px rgba(60, 64, 67, 0.3), 0 1px 3px 1px rgba(60, 64, 67, 0.15);\n",
              "    fill: var(--button-hover-fill-color);\n",
              "  }\n",
              "\n",
              "  .colab-df-quickchart-complete:disabled,\n",
              "  .colab-df-quickchart-complete:disabled:hover {\n",
              "    background-color: var(--disabled-bg-color);\n",
              "    fill: var(--disabled-fill-color);\n",
              "    box-shadow: none;\n",
              "  }\n",
              "\n",
              "  .colab-df-spinner {\n",
              "    border: 2px solid var(--fill-color);\n",
              "    border-color: transparent;\n",
              "    border-bottom-color: var(--fill-color);\n",
              "    animation:\n",
              "      spin 1s steps(1) infinite;\n",
              "  }\n",
              "\n",
              "  @keyframes spin {\n",
              "    0% {\n",
              "      border-color: transparent;\n",
              "      border-bottom-color: var(--fill-color);\n",
              "      border-left-color: var(--fill-color);\n",
              "    }\n",
              "    20% {\n",
              "      border-color: transparent;\n",
              "      border-left-color: var(--fill-color);\n",
              "      border-top-color: var(--fill-color);\n",
              "    }\n",
              "    30% {\n",
              "      border-color: transparent;\n",
              "      border-left-color: var(--fill-color);\n",
              "      border-top-color: var(--fill-color);\n",
              "      border-right-color: var(--fill-color);\n",
              "    }\n",
              "    40% {\n",
              "      border-color: transparent;\n",
              "      border-right-color: var(--fill-color);\n",
              "      border-top-color: var(--fill-color);\n",
              "    }\n",
              "    60% {\n",
              "      border-color: transparent;\n",
              "      border-right-color: var(--fill-color);\n",
              "    }\n",
              "    80% {\n",
              "      border-color: transparent;\n",
              "      border-right-color: var(--fill-color);\n",
              "      border-bottom-color: var(--fill-color);\n",
              "    }\n",
              "    90% {\n",
              "      border-color: transparent;\n",
              "      border-bottom-color: var(--fill-color);\n",
              "    }\n",
              "  }\n",
              "</style>\n",
              "\n",
              "      <script>\n",
              "        async function quickchart(key) {\n",
              "          const quickchartButtonEl =\n",
              "            document.querySelector('#' + key + ' button');\n",
              "          quickchartButtonEl.disabled = true;  // To prevent multiple clicks.\n",
              "          quickchartButtonEl.classList.add('colab-df-spinner');\n",
              "          try {\n",
              "            const charts = await google.colab.kernel.invokeFunction(\n",
              "                'suggestCharts', [key], {});\n",
              "          } catch (error) {\n",
              "            console.error('Error during call to suggestCharts:', error);\n",
              "          }\n",
              "          quickchartButtonEl.classList.remove('colab-df-spinner');\n",
              "          quickchartButtonEl.classList.add('colab-df-quickchart-complete');\n",
              "        }\n",
              "        (() => {\n",
              "          let quickchartButtonEl =\n",
              "            document.querySelector('#df-7b0d0ebd-103d-41a0-ada5-44cad3adc8f5 button');\n",
              "          quickchartButtonEl.style.display =\n",
              "            google.colab.kernel.accessAllowed ? 'block' : 'none';\n",
              "        })();\n",
              "      </script>\n",
              "    </div>\n",
              "\n",
              "    </div>\n",
              "  </div>\n"
            ],
            "text/plain": [
              "    title                                               text  label\n",
              "1             Did they post their votes for Hillary already?      1\n",
              "43         True. Hillary needs a distraction and what bet...      1\n",
              "162        All eyes on Electoral delegates. The People kn...      1\n",
              "185                                                     Cool      1\n",
              "269        A leading US senator: US Supporting War in Syr...      1"
            ]
          },
          "execution_count": 19,
          "metadata": {},
          "output_type": "execute_result"
        }
      ],
      "source": [
        "df[df['title'] == ''].head() # titles that previously had \"NaN\" value -> now ''"
      ]
    },
    {
      "cell_type": "code",
      "execution_count": null,
      "metadata": {
        "colab": {
          "base_uri": "https://localhost:8080/",
          "height": 206
        },
        "id": "rtcV55DSFzFx",
        "outputId": "f45d0d28-3b88-42fb-92f5-cc473fa048ac"
      },
      "outputs": [
        {
          "data": {
            "application/vnd.google.colaboratory.intrinsic+json": {
              "repr_error": "0",
              "type": "dataframe"
            },
            "text/html": [
              "\n",
              "  <div id=\"df-c88e4dc3-0303-452c-a8a7-a82f9f9f6102\" class=\"colab-df-container\">\n",
              "    <div>\n",
              "<style scoped>\n",
              "    .dataframe tbody tr th:only-of-type {\n",
              "        vertical-align: middle;\n",
              "    }\n",
              "\n",
              "    .dataframe tbody tr th {\n",
              "        vertical-align: top;\n",
              "    }\n",
              "\n",
              "    .dataframe thead th {\n",
              "        text-align: right;\n",
              "    }\n",
              "</style>\n",
              "<table border=\"1\" class=\"dataframe\">\n",
              "  <thead>\n",
              "    <tr style=\"text-align: right;\">\n",
              "      <th></th>\n",
              "      <th>title</th>\n",
              "      <th>text</th>\n",
              "      <th>label</th>\n",
              "    </tr>\n",
              "  </thead>\n",
              "  <tbody>\n",
              "    <tr>\n",
              "      <th>2457</th>\n",
              "      <td>Après le succès de « Mariés au premier regard ...</td>\n",
              "      <td></td>\n",
              "      <td>1</td>\n",
              "    </tr>\n",
              "    <tr>\n",
              "      <th>3534</th>\n",
              "      <td>Elections US : les premières estimations donne...</td>\n",
              "      <td></td>\n",
              "      <td>1</td>\n",
              "    </tr>\n",
              "    <tr>\n",
              "      <th>3709</th>\n",
              "      <td>110% des Américains assurent qu’ils continuero...</td>\n",
              "      <td></td>\n",
              "      <td>1</td>\n",
              "    </tr>\n",
              "    <tr>\n",
              "      <th>5612</th>\n",
              "      <td>Des millions d’Américains recherchent massivem...</td>\n",
              "      <td></td>\n",
              "      <td>1</td>\n",
              "    </tr>\n",
              "    <tr>\n",
              "      <th>6270</th>\n",
              "      <td>Vladimir Poutine est élu 45e Président des Eta...</td>\n",
              "      <td></td>\n",
              "      <td>1</td>\n",
              "    </tr>\n",
              "  </tbody>\n",
              "</table>\n",
              "</div>\n",
              "    <div class=\"colab-df-buttons\">\n",
              "\n",
              "  <div class=\"colab-df-container\">\n",
              "    <button class=\"colab-df-convert\" onclick=\"convertToInteractive('df-c88e4dc3-0303-452c-a8a7-a82f9f9f6102')\"\n",
              "            title=\"Convert this dataframe to an interactive table.\"\n",
              "            style=\"display:none;\">\n",
              "\n",
              "  <svg xmlns=\"http://www.w3.org/2000/svg\" height=\"24px\" viewBox=\"0 -960 960 960\">\n",
              "    <path d=\"M120-120v-720h720v720H120Zm60-500h600v-160H180v160Zm220 220h160v-160H400v160Zm0 220h160v-160H400v160ZM180-400h160v-160H180v160Zm440 0h160v-160H620v160ZM180-180h160v-160H180v160Zm440 0h160v-160H620v160Z\"/>\n",
              "  </svg>\n",
              "    </button>\n",
              "\n",
              "  <style>\n",
              "    .colab-df-container {\n",
              "      display:flex;\n",
              "      gap: 12px;\n",
              "    }\n",
              "\n",
              "    .colab-df-convert {\n",
              "      background-color: #E8F0FE;\n",
              "      border: none;\n",
              "      border-radius: 50%;\n",
              "      cursor: pointer;\n",
              "      display: none;\n",
              "      fill: #1967D2;\n",
              "      height: 32px;\n",
              "      padding: 0 0 0 0;\n",
              "      width: 32px;\n",
              "    }\n",
              "\n",
              "    .colab-df-convert:hover {\n",
              "      background-color: #E2EBFA;\n",
              "      box-shadow: 0px 1px 2px rgba(60, 64, 67, 0.3), 0px 1px 3px 1px rgba(60, 64, 67, 0.15);\n",
              "      fill: #174EA6;\n",
              "    }\n",
              "\n",
              "    .colab-df-buttons div {\n",
              "      margin-bottom: 4px;\n",
              "    }\n",
              "\n",
              "    [theme=dark] .colab-df-convert {\n",
              "      background-color: #3B4455;\n",
              "      fill: #D2E3FC;\n",
              "    }\n",
              "\n",
              "    [theme=dark] .colab-df-convert:hover {\n",
              "      background-color: #434B5C;\n",
              "      box-shadow: 0px 1px 3px 1px rgba(0, 0, 0, 0.15);\n",
              "      filter: drop-shadow(0px 1px 2px rgba(0, 0, 0, 0.3));\n",
              "      fill: #FFFFFF;\n",
              "    }\n",
              "  </style>\n",
              "\n",
              "    <script>\n",
              "      const buttonEl =\n",
              "        document.querySelector('#df-c88e4dc3-0303-452c-a8a7-a82f9f9f6102 button.colab-df-convert');\n",
              "      buttonEl.style.display =\n",
              "        google.colab.kernel.accessAllowed ? 'block' : 'none';\n",
              "\n",
              "      async function convertToInteractive(key) {\n",
              "        const element = document.querySelector('#df-c88e4dc3-0303-452c-a8a7-a82f9f9f6102');\n",
              "        const dataTable =\n",
              "          await google.colab.kernel.invokeFunction('convertToInteractive',\n",
              "                                                    [key], {});\n",
              "        if (!dataTable) return;\n",
              "\n",
              "        const docLinkHtml = 'Like what you see? Visit the ' +\n",
              "          '<a target=\"_blank\" href=https://colab.research.google.com/notebooks/data_table.ipynb>data table notebook</a>'\n",
              "          + ' to learn more about interactive tables.';\n",
              "        element.innerHTML = '';\n",
              "        dataTable['output_type'] = 'display_data';\n",
              "        await google.colab.output.renderOutput(dataTable, element);\n",
              "        const docLink = document.createElement('div');\n",
              "        docLink.innerHTML = docLinkHtml;\n",
              "        element.appendChild(docLink);\n",
              "      }\n",
              "    </script>\n",
              "  </div>\n",
              "\n",
              "\n",
              "    <div id=\"df-e2ad1e55-3f39-4150-a95d-37d1746fda9a\">\n",
              "      <button class=\"colab-df-quickchart\" onclick=\"quickchart('df-e2ad1e55-3f39-4150-a95d-37d1746fda9a')\"\n",
              "                title=\"Suggest charts\"\n",
              "                style=\"display:none;\">\n",
              "\n",
              "<svg xmlns=\"http://www.w3.org/2000/svg\" height=\"24px\"viewBox=\"0 0 24 24\"\n",
              "     width=\"24px\">\n",
              "    <g>\n",
              "        <path d=\"M19 3H5c-1.1 0-2 .9-2 2v14c0 1.1.9 2 2 2h14c1.1 0 2-.9 2-2V5c0-1.1-.9-2-2-2zM9 17H7v-7h2v7zm4 0h-2V7h2v10zm4 0h-2v-4h2v4z\"/>\n",
              "    </g>\n",
              "</svg>\n",
              "      </button>\n",
              "\n",
              "<style>\n",
              "  .colab-df-quickchart {\n",
              "      --bg-color: #E8F0FE;\n",
              "      --fill-color: #1967D2;\n",
              "      --hover-bg-color: #E2EBFA;\n",
              "      --hover-fill-color: #174EA6;\n",
              "      --disabled-fill-color: #AAA;\n",
              "      --disabled-bg-color: #DDD;\n",
              "  }\n",
              "\n",
              "  [theme=dark] .colab-df-quickchart {\n",
              "      --bg-color: #3B4455;\n",
              "      --fill-color: #D2E3FC;\n",
              "      --hover-bg-color: #434B5C;\n",
              "      --hover-fill-color: #FFFFFF;\n",
              "      --disabled-bg-color: #3B4455;\n",
              "      --disabled-fill-color: #666;\n",
              "  }\n",
              "\n",
              "  .colab-df-quickchart {\n",
              "    background-color: var(--bg-color);\n",
              "    border: none;\n",
              "    border-radius: 50%;\n",
              "    cursor: pointer;\n",
              "    display: none;\n",
              "    fill: var(--fill-color);\n",
              "    height: 32px;\n",
              "    padding: 0;\n",
              "    width: 32px;\n",
              "  }\n",
              "\n",
              "  .colab-df-quickchart:hover {\n",
              "    background-color: var(--hover-bg-color);\n",
              "    box-shadow: 0 1px 2px rgba(60, 64, 67, 0.3), 0 1px 3px 1px rgba(60, 64, 67, 0.15);\n",
              "    fill: var(--button-hover-fill-color);\n",
              "  }\n",
              "\n",
              "  .colab-df-quickchart-complete:disabled,\n",
              "  .colab-df-quickchart-complete:disabled:hover {\n",
              "    background-color: var(--disabled-bg-color);\n",
              "    fill: var(--disabled-fill-color);\n",
              "    box-shadow: none;\n",
              "  }\n",
              "\n",
              "  .colab-df-spinner {\n",
              "    border: 2px solid var(--fill-color);\n",
              "    border-color: transparent;\n",
              "    border-bottom-color: var(--fill-color);\n",
              "    animation:\n",
              "      spin 1s steps(1) infinite;\n",
              "  }\n",
              "\n",
              "  @keyframes spin {\n",
              "    0% {\n",
              "      border-color: transparent;\n",
              "      border-bottom-color: var(--fill-color);\n",
              "      border-left-color: var(--fill-color);\n",
              "    }\n",
              "    20% {\n",
              "      border-color: transparent;\n",
              "      border-left-color: var(--fill-color);\n",
              "      border-top-color: var(--fill-color);\n",
              "    }\n",
              "    30% {\n",
              "      border-color: transparent;\n",
              "      border-left-color: var(--fill-color);\n",
              "      border-top-color: var(--fill-color);\n",
              "      border-right-color: var(--fill-color);\n",
              "    }\n",
              "    40% {\n",
              "      border-color: transparent;\n",
              "      border-right-color: var(--fill-color);\n",
              "      border-top-color: var(--fill-color);\n",
              "    }\n",
              "    60% {\n",
              "      border-color: transparent;\n",
              "      border-right-color: var(--fill-color);\n",
              "    }\n",
              "    80% {\n",
              "      border-color: transparent;\n",
              "      border-right-color: var(--fill-color);\n",
              "      border-bottom-color: var(--fill-color);\n",
              "    }\n",
              "    90% {\n",
              "      border-color: transparent;\n",
              "      border-bottom-color: var(--fill-color);\n",
              "    }\n",
              "  }\n",
              "</style>\n",
              "\n",
              "      <script>\n",
              "        async function quickchart(key) {\n",
              "          const quickchartButtonEl =\n",
              "            document.querySelector('#' + key + ' button');\n",
              "          quickchartButtonEl.disabled = true;  // To prevent multiple clicks.\n",
              "          quickchartButtonEl.classList.add('colab-df-spinner');\n",
              "          try {\n",
              "            const charts = await google.colab.kernel.invokeFunction(\n",
              "                'suggestCharts', [key], {});\n",
              "          } catch (error) {\n",
              "            console.error('Error during call to suggestCharts:', error);\n",
              "          }\n",
              "          quickchartButtonEl.classList.remove('colab-df-spinner');\n",
              "          quickchartButtonEl.classList.add('colab-df-quickchart-complete');\n",
              "        }\n",
              "        (() => {\n",
              "          let quickchartButtonEl =\n",
              "            document.querySelector('#df-e2ad1e55-3f39-4150-a95d-37d1746fda9a button');\n",
              "          quickchartButtonEl.style.display =\n",
              "            google.colab.kernel.accessAllowed ? 'block' : 'none';\n",
              "        })();\n",
              "      </script>\n",
              "    </div>\n",
              "\n",
              "    </div>\n",
              "  </div>\n"
            ],
            "text/plain": [
              "                                                  title text  label\n",
              "2457  Après le succès de « Mariés au premier regard ...           1\n",
              "3534  Elections US : les premières estimations donne...           1\n",
              "3709  110% des Américains assurent qu’ils continuero...           1\n",
              "5612  Des millions d’Américains recherchent massivem...           1\n",
              "6270  Vladimir Poutine est élu 45e Président des Eta...           1"
            ]
          },
          "execution_count": 20,
          "metadata": {},
          "output_type": "execute_result"
        }
      ],
      "source": [
        "df[df['text'] == ''].head() # text that previously had \"NaN\" value -> now ''"
      ]
    },
    {
      "cell_type": "markdown",
      "metadata": {
        "id": "pHoz77kbF3o-"
      },
      "source": [
        "Some titles/texts are in other languages (e.g., French).\n",
        "\n",
        "(need insights on this)"
      ]
    },
    {
      "cell_type": "markdown",
      "metadata": {
        "id": "xWxIn6UkF4Yx"
      },
      "source": [
        "4. Dropping title+text duplicate pairs:"
      ]
    },
    {
      "cell_type": "code",
      "execution_count": null,
      "metadata": {
        "id": "RBnyCGrbF7ll"
      },
      "outputs": [],
      "source": [
        "df = df.drop_duplicates(subset=['title','text']).reset_index(drop=True) # dropping duplicates ~8k"
      ]
    },
    {
      "cell_type": "code",
      "execution_count": null,
      "metadata": {
        "colab": {
          "base_uri": "https://localhost:8080/"
        },
        "id": "Unh56WbRF9E0",
        "outputId": "39e8992a-53d9-4ae4-cc72-28370f702750"
      },
      "outputs": [
        {
          "name": "stdout",
          "output_type": "stream",
          "text": [
            "Dataset shape after dropping ~8k duplicates: (63678, 3)\n"
          ]
        }
      ],
      "source": [
        "print(\"Dataset shape after dropping ~8k duplicates:\", df.shape)"
      ]
    },
    {
      "cell_type": "markdown",
      "metadata": {
        "id": "WPHBB1zFF__Q"
      },
      "source": [
        "# Final Sanity Check:"
      ]
    },
    {
      "cell_type": "code",
      "execution_count": null,
      "metadata": {
        "colab": {
          "base_uri": "https://localhost:8080/"
        },
        "id": "BiNoUO6WGB_X",
        "outputId": "7eaf9ced-efa4-4a0b-8b58-9a095f81dd9c"
      },
      "outputs": [
        {
          "name": "stdout",
          "output_type": "stream",
          "text": [
            "Missing values:\n",
            " title    0\n",
            "text     0\n",
            "label    0\n",
            "dtype: int64\n"
          ]
        }
      ],
      "source": [
        "print(\"Missing values:\\n\", df.isna().sum()) # to confirm no missing values"
      ]
    },
    {
      "cell_type": "code",
      "execution_count": null,
      "metadata": {
        "colab": {
          "base_uri": "https://localhost:8080/"
        },
        "id": "ThvTz5fEGE86",
        "outputId": "a117303b-ce33-4ff7-fc8e-6659534638f7"
      },
      "outputs": [
        {
          "name": "stdout",
          "output_type": "stream",
          "text": [
            "Remaining duplicates: 0\n"
          ]
        }
      ],
      "source": [
        "print(\"Remaining duplicates:\", df.duplicated(subset=['title','text']).sum()) # to confirm no duplicate on title+text still remain"
      ]
    },
    {
      "cell_type": "code",
      "execution_count": null,
      "metadata": {
        "colab": {
          "base_uri": "https://localhost:8080/"
        },
        "id": "mPpbTeM9GHFP",
        "outputId": "b0957327-a10d-4822-bab0-15075ccde741"
      },
      "outputs": [
        {
          "name": "stdout",
          "output_type": "stream",
          "text": [
            "Index(['title', 'text', 'label'], dtype='object')\n"
          ]
        }
      ],
      "source": [
        "print(df.columns) # to re-check columns after cleaning"
      ]
    },
    {
      "cell_type": "code",
      "execution_count": null,
      "metadata": {
        "colab": {
          "base_uri": "https://localhost:8080/"
        },
        "id": "0hHEs4ckGIZs",
        "outputId": "eedd0800-a9fc-4ddc-a85b-22d1e2e4d350"
      },
      "outputs": [
        {
          "name": "stdout",
          "output_type": "stream",
          "text": [
            "Dataset shape is:\n",
            " (63678, 3)\n"
          ]
        }
      ],
      "source": [
        "print(\"Dataset shape is:\\n\", df.shape)"
      ]
    },
    {
      "cell_type": "markdown",
      "metadata": {
        "id": "z1R30OUEGLL5"
      },
      "source": [
        "# Creating a combined text field (explained below):"
      ]
    },
    {
      "cell_type": "code",
      "execution_count": null,
      "metadata": {
        "id": "iwj3PEE5GLoN"
      },
      "outputs": [],
      "source": [
        "df['full_text'] = (df['title'] + \" \" + df['text']).str.strip()"
      ]
    },
    {
      "cell_type": "markdown",
      "metadata": {
        "id": "D9kfiyT1GPEA"
      },
      "source": [
        "Combining title and text into a single 'full_text' column.\n",
        "\n",
        "---\n",
        "\n",
        "\n",
        "\n",
        "This ensures each article has one text representation for preprocessing -> feeding them seperately could complicate things.\n",
        "\n",
        "\n",
        "---\n",
        "\n",
        "\n",
        "Titles often contain important contextual or sensational cues -> so merging improves classification performance."
      ]
    },
    {
      "cell_type": "markdown",
      "metadata": {
        "id": "L34dh9rYGPx7"
      },
      "source": [
        "1. Confirming new full_text column:\n",
        "\n",
        "\n"
      ]
    },
    {
      "cell_type": "code",
      "execution_count": null,
      "metadata": {
        "colab": {
          "base_uri": "https://localhost:8080/",
          "height": 293
        },
        "id": "U5ioITqrGRVv",
        "outputId": "67eed2e0-80c3-4ad3-e194-99858001068f"
      },
      "outputs": [
        {
          "data": {
            "application/vnd.google.colaboratory.intrinsic+json": {
              "summary": "{\n  \"name\": \"df[['title', 'text', 'full_text']]\",\n  \"rows\": 5,\n  \"fields\": [\n    {\n      \"column\": \"title\",\n      \"properties\": {\n        \"dtype\": \"string\",\n        \"num_unique_values\": 5,\n        \"samples\": [\n          \"\",\n          \"SATAN 2: Russia unvelis an image of its terrifying new \\u2018SUPERNUKE\\u2019 \\u2013 Western world takes notice\",\n          \"UNBELIEVABLE! OBAMA\\u2019S ATTORNEY GENERAL SAYS MOST CHARLOTTE RIOTERS WERE \\u201cPEACEFUL\\u201d PROTESTERS\\u2026In Her Home State Of North Carolina [VIDEO]\"\n        ],\n        \"semantic_type\": \"\",\n        \"description\": \"\"\n      }\n    },\n    {\n      \"column\": \"text\",\n      \"properties\": {\n        \"dtype\": \"string\",\n        \"num_unique_values\": 5,\n        \"samples\": [\n          \"Did they post their votes for Hillary already?\",\n          \"The RS-28 Sarmat missile, dubbed Satan 2, will replace the SS-18 Flies at 4.3 miles (7km) per sec and with a range of 6,213 miles (10,000km) The weapons are perceived as part of an increasingly aggressive Russia It could deliver a warhead of 40 megatons \\u2013 2,000 times as powerful as the atom bombs dropped on Hiroshima and Nagasaki in 1945 By LIBBY PLUMMER and GARETH DAVIE S Russia has unveiled chilling pictures of its largest ever nuclear missile, capable of destroying an area the size of France. The RS-28 Sarmat missile, dubbed Satan 2 by Nato, has a top speed of 4.3 miles (7km) per second and has been designed to outfox anti-missile shield systems. The new Sarmat missile could deliver warheads of 40 megatons \\u2013 2,000 times as powerful as the atom bombs dropped on Hiroshima and Nagasaki in 1945. Scroll down for video Russian President Vladimir Putin is reportedly planning to replace the country\\u2019s older SS-18 Satan weapons with the new missiles amid a string of recent disagreements with the West. The Kremlin has stepped up the rhetoric against the West and carried a series of manoeuvres that has infuriated politicians in the US and UK. The pictures were revealed online by chief designers from the Makeyev Rocket Design Bureau. A message posted alongside the picture said: \\u2018In accordance with the Decree of the Russian Government \\u2018On the State Defense Order for 2010 and the planning period 2012-2013\\u2019, the Makeyev Rocket Design Bureau was instructed to start design and development work on the Sarmat. \\u2018 The RS-28 Sarmat missile is said to contain 16 nuclear warheads and is capable of destroying an area the size of France or Texas, according to Russian news network Zvezda, which is owned by Russia\\u2019s ministry of defence. The weapon is also able to evade radar. It is expected to have a range of 6,213 miles (10,000 km), which would allow Moscow to attack London and \\nFOR ENTIRE ARTICLE CLICK LINK\",\n          \" Now, most of the demonstrators gathered last night were exercising their constitutional and protected right to peaceful protest in order to raise issues and create change.    Loretta Lynch aka Eric Holder in a skirt\"\n        ],\n        \"semantic_type\": \"\",\n        \"description\": \"\"\n      }\n    },\n    {\n      \"column\": \"full_text\",\n      \"properties\": {\n        \"dtype\": \"string\",\n        \"num_unique_values\": 5,\n        \"samples\": [\n          \"Did they post their votes for Hillary already?\",\n          \"SATAN 2: Russia unvelis an image of its terrifying new \\u2018SUPERNUKE\\u2019 \\u2013 Western world takes notice The RS-28 Sarmat missile, dubbed Satan 2, will replace the SS-18 Flies at 4.3 miles (7km) per sec and with a range of 6,213 miles (10,000km) The weapons are perceived as part of an increasingly aggressive Russia It could deliver a warhead of 40 megatons \\u2013 2,000 times as powerful as the atom bombs dropped on Hiroshima and Nagasaki in 1945 By LIBBY PLUMMER and GARETH DAVIE S Russia has unveiled chilling pictures of its largest ever nuclear missile, capable of destroying an area the size of France. The RS-28 Sarmat missile, dubbed Satan 2 by Nato, has a top speed of 4.3 miles (7km) per second and has been designed to outfox anti-missile shield systems. The new Sarmat missile could deliver warheads of 40 megatons \\u2013 2,000 times as powerful as the atom bombs dropped on Hiroshima and Nagasaki in 1945. Scroll down for video Russian President Vladimir Putin is reportedly planning to replace the country\\u2019s older SS-18 Satan weapons with the new missiles amid a string of recent disagreements with the West. The Kremlin has stepped up the rhetoric against the West and carried a series of manoeuvres that has infuriated politicians in the US and UK. The pictures were revealed online by chief designers from the Makeyev Rocket Design Bureau. A message posted alongside the picture said: \\u2018In accordance with the Decree of the Russian Government \\u2018On the State Defense Order for 2010 and the planning period 2012-2013\\u2019, the Makeyev Rocket Design Bureau was instructed to start design and development work on the Sarmat. \\u2018 The RS-28 Sarmat missile is said to contain 16 nuclear warheads and is capable of destroying an area the size of France or Texas, according to Russian news network Zvezda, which is owned by Russia\\u2019s ministry of defence. The weapon is also able to evade radar. It is expected to have a range of 6,213 miles (10,000 km), which would allow Moscow to attack London and \\nFOR ENTIRE ARTICLE CLICK LINK\",\n          \"UNBELIEVABLE! OBAMA\\u2019S ATTORNEY GENERAL SAYS MOST CHARLOTTE RIOTERS WERE \\u201cPEACEFUL\\u201d PROTESTERS\\u2026In Her Home State Of North Carolina [VIDEO]  Now, most of the demonstrators gathered last night were exercising their constitutional and protected right to peaceful protest in order to raise issues and create change.    Loretta Lynch aka Eric Holder in a skirt\"\n        ],\n        \"semantic_type\": \"\",\n        \"description\": \"\"\n      }\n    }\n  ]\n}",
              "type": "dataframe"
            },
            "text/html": [
              "\n",
              "  <div id=\"df-2f06fe98-259c-41ce-86bc-734a5eb5886c\" class=\"colab-df-container\">\n",
              "    <div>\n",
              "<style scoped>\n",
              "    .dataframe tbody tr th:only-of-type {\n",
              "        vertical-align: middle;\n",
              "    }\n",
              "\n",
              "    .dataframe tbody tr th {\n",
              "        vertical-align: top;\n",
              "    }\n",
              "\n",
              "    .dataframe thead th {\n",
              "        text-align: right;\n",
              "    }\n",
              "</style>\n",
              "<table border=\"1\" class=\"dataframe\">\n",
              "  <thead>\n",
              "    <tr style=\"text-align: right;\">\n",
              "      <th></th>\n",
              "      <th>title</th>\n",
              "      <th>text</th>\n",
              "      <th>full_text</th>\n",
              "    </tr>\n",
              "  </thead>\n",
              "  <tbody>\n",
              "    <tr>\n",
              "      <th>0</th>\n",
              "      <td>LAW ENFORCEMENT ON HIGH ALERT Following Threat...</td>\n",
              "      <td>No comment is expected from Barack Obama Membe...</td>\n",
              "      <td>LAW ENFORCEMENT ON HIGH ALERT Following Threat...</td>\n",
              "    </tr>\n",
              "    <tr>\n",
              "      <th>1</th>\n",
              "      <td></td>\n",
              "      <td>Did they post their votes for Hillary already?</td>\n",
              "      <td>Did they post their votes for Hillary already?</td>\n",
              "    </tr>\n",
              "    <tr>\n",
              "      <th>2</th>\n",
              "      <td>UNBELIEVABLE! OBAMA’S ATTORNEY GENERAL SAYS MO...</td>\n",
              "      <td>Now, most of the demonstrators gathered last ...</td>\n",
              "      <td>UNBELIEVABLE! OBAMA’S ATTORNEY GENERAL SAYS MO...</td>\n",
              "    </tr>\n",
              "    <tr>\n",
              "      <th>3</th>\n",
              "      <td>Bobby Jindal, raised Hindu, uses story of Chri...</td>\n",
              "      <td>A dozen politically active pastors came here f...</td>\n",
              "      <td>Bobby Jindal, raised Hindu, uses story of Chri...</td>\n",
              "    </tr>\n",
              "    <tr>\n",
              "      <th>4</th>\n",
              "      <td>SATAN 2: Russia unvelis an image of its terrif...</td>\n",
              "      <td>The RS-28 Sarmat missile, dubbed Satan 2, will...</td>\n",
              "      <td>SATAN 2: Russia unvelis an image of its terrif...</td>\n",
              "    </tr>\n",
              "  </tbody>\n",
              "</table>\n",
              "</div>\n",
              "    <div class=\"colab-df-buttons\">\n",
              "\n",
              "  <div class=\"colab-df-container\">\n",
              "    <button class=\"colab-df-convert\" onclick=\"convertToInteractive('df-2f06fe98-259c-41ce-86bc-734a5eb5886c')\"\n",
              "            title=\"Convert this dataframe to an interactive table.\"\n",
              "            style=\"display:none;\">\n",
              "\n",
              "  <svg xmlns=\"http://www.w3.org/2000/svg\" height=\"24px\" viewBox=\"0 -960 960 960\">\n",
              "    <path d=\"M120-120v-720h720v720H120Zm60-500h600v-160H180v160Zm220 220h160v-160H400v160Zm0 220h160v-160H400v160ZM180-400h160v-160H180v160Zm440 0h160v-160H620v160ZM180-180h160v-160H180v160Zm440 0h160v-160H620v160Z\"/>\n",
              "  </svg>\n",
              "    </button>\n",
              "\n",
              "  <style>\n",
              "    .colab-df-container {\n",
              "      display:flex;\n",
              "      gap: 12px;\n",
              "    }\n",
              "\n",
              "    .colab-df-convert {\n",
              "      background-color: #E8F0FE;\n",
              "      border: none;\n",
              "      border-radius: 50%;\n",
              "      cursor: pointer;\n",
              "      display: none;\n",
              "      fill: #1967D2;\n",
              "      height: 32px;\n",
              "      padding: 0 0 0 0;\n",
              "      width: 32px;\n",
              "    }\n",
              "\n",
              "    .colab-df-convert:hover {\n",
              "      background-color: #E2EBFA;\n",
              "      box-shadow: 0px 1px 2px rgba(60, 64, 67, 0.3), 0px 1px 3px 1px rgba(60, 64, 67, 0.15);\n",
              "      fill: #174EA6;\n",
              "    }\n",
              "\n",
              "    .colab-df-buttons div {\n",
              "      margin-bottom: 4px;\n",
              "    }\n",
              "\n",
              "    [theme=dark] .colab-df-convert {\n",
              "      background-color: #3B4455;\n",
              "      fill: #D2E3FC;\n",
              "    }\n",
              "\n",
              "    [theme=dark] .colab-df-convert:hover {\n",
              "      background-color: #434B5C;\n",
              "      box-shadow: 0px 1px 3px 1px rgba(0, 0, 0, 0.15);\n",
              "      filter: drop-shadow(0px 1px 2px rgba(0, 0, 0, 0.3));\n",
              "      fill: #FFFFFF;\n",
              "    }\n",
              "  </style>\n",
              "\n",
              "    <script>\n",
              "      const buttonEl =\n",
              "        document.querySelector('#df-2f06fe98-259c-41ce-86bc-734a5eb5886c button.colab-df-convert');\n",
              "      buttonEl.style.display =\n",
              "        google.colab.kernel.accessAllowed ? 'block' : 'none';\n",
              "\n",
              "      async function convertToInteractive(key) {\n",
              "        const element = document.querySelector('#df-2f06fe98-259c-41ce-86bc-734a5eb5886c');\n",
              "        const dataTable =\n",
              "          await google.colab.kernel.invokeFunction('convertToInteractive',\n",
              "                                                    [key], {});\n",
              "        if (!dataTable) return;\n",
              "\n",
              "        const docLinkHtml = 'Like what you see? Visit the ' +\n",
              "          '<a target=\"_blank\" href=https://colab.research.google.com/notebooks/data_table.ipynb>data table notebook</a>'\n",
              "          + ' to learn more about interactive tables.';\n",
              "        element.innerHTML = '';\n",
              "        dataTable['output_type'] = 'display_data';\n",
              "        await google.colab.output.renderOutput(dataTable, element);\n",
              "        const docLink = document.createElement('div');\n",
              "        docLink.innerHTML = docLinkHtml;\n",
              "        element.appendChild(docLink);\n",
              "      }\n",
              "    </script>\n",
              "  </div>\n",
              "\n",
              "\n",
              "    <div id=\"df-3942a9a3-73c9-489f-b31a-f7b063938104\">\n",
              "      <button class=\"colab-df-quickchart\" onclick=\"quickchart('df-3942a9a3-73c9-489f-b31a-f7b063938104')\"\n",
              "                title=\"Suggest charts\"\n",
              "                style=\"display:none;\">\n",
              "\n",
              "<svg xmlns=\"http://www.w3.org/2000/svg\" height=\"24px\"viewBox=\"0 0 24 24\"\n",
              "     width=\"24px\">\n",
              "    <g>\n",
              "        <path d=\"M19 3H5c-1.1 0-2 .9-2 2v14c0 1.1.9 2 2 2h14c1.1 0 2-.9 2-2V5c0-1.1-.9-2-2-2zM9 17H7v-7h2v7zm4 0h-2V7h2v10zm4 0h-2v-4h2v4z\"/>\n",
              "    </g>\n",
              "</svg>\n",
              "      </button>\n",
              "\n",
              "<style>\n",
              "  .colab-df-quickchart {\n",
              "      --bg-color: #E8F0FE;\n",
              "      --fill-color: #1967D2;\n",
              "      --hover-bg-color: #E2EBFA;\n",
              "      --hover-fill-color: #174EA6;\n",
              "      --disabled-fill-color: #AAA;\n",
              "      --disabled-bg-color: #DDD;\n",
              "  }\n",
              "\n",
              "  [theme=dark] .colab-df-quickchart {\n",
              "      --bg-color: #3B4455;\n",
              "      --fill-color: #D2E3FC;\n",
              "      --hover-bg-color: #434B5C;\n",
              "      --hover-fill-color: #FFFFFF;\n",
              "      --disabled-bg-color: #3B4455;\n",
              "      --disabled-fill-color: #666;\n",
              "  }\n",
              "\n",
              "  .colab-df-quickchart {\n",
              "    background-color: var(--bg-color);\n",
              "    border: none;\n",
              "    border-radius: 50%;\n",
              "    cursor: pointer;\n",
              "    display: none;\n",
              "    fill: var(--fill-color);\n",
              "    height: 32px;\n",
              "    padding: 0;\n",
              "    width: 32px;\n",
              "  }\n",
              "\n",
              "  .colab-df-quickchart:hover {\n",
              "    background-color: var(--hover-bg-color);\n",
              "    box-shadow: 0 1px 2px rgba(60, 64, 67, 0.3), 0 1px 3px 1px rgba(60, 64, 67, 0.15);\n",
              "    fill: var(--button-hover-fill-color);\n",
              "  }\n",
              "\n",
              "  .colab-df-quickchart-complete:disabled,\n",
              "  .colab-df-quickchart-complete:disabled:hover {\n",
              "    background-color: var(--disabled-bg-color);\n",
              "    fill: var(--disabled-fill-color);\n",
              "    box-shadow: none;\n",
              "  }\n",
              "\n",
              "  .colab-df-spinner {\n",
              "    border: 2px solid var(--fill-color);\n",
              "    border-color: transparent;\n",
              "    border-bottom-color: var(--fill-color);\n",
              "    animation:\n",
              "      spin 1s steps(1) infinite;\n",
              "  }\n",
              "\n",
              "  @keyframes spin {\n",
              "    0% {\n",
              "      border-color: transparent;\n",
              "      border-bottom-color: var(--fill-color);\n",
              "      border-left-color: var(--fill-color);\n",
              "    }\n",
              "    20% {\n",
              "      border-color: transparent;\n",
              "      border-left-color: var(--fill-color);\n",
              "      border-top-color: var(--fill-color);\n",
              "    }\n",
              "    30% {\n",
              "      border-color: transparent;\n",
              "      border-left-color: var(--fill-color);\n",
              "      border-top-color: var(--fill-color);\n",
              "      border-right-color: var(--fill-color);\n",
              "    }\n",
              "    40% {\n",
              "      border-color: transparent;\n",
              "      border-right-color: var(--fill-color);\n",
              "      border-top-color: var(--fill-color);\n",
              "    }\n",
              "    60% {\n",
              "      border-color: transparent;\n",
              "      border-right-color: var(--fill-color);\n",
              "    }\n",
              "    80% {\n",
              "      border-color: transparent;\n",
              "      border-right-color: var(--fill-color);\n",
              "      border-bottom-color: var(--fill-color);\n",
              "    }\n",
              "    90% {\n",
              "      border-color: transparent;\n",
              "      border-bottom-color: var(--fill-color);\n",
              "    }\n",
              "  }\n",
              "</style>\n",
              "\n",
              "      <script>\n",
              "        async function quickchart(key) {\n",
              "          const quickchartButtonEl =\n",
              "            document.querySelector('#' + key + ' button');\n",
              "          quickchartButtonEl.disabled = true;  // To prevent multiple clicks.\n",
              "          quickchartButtonEl.classList.add('colab-df-spinner');\n",
              "          try {\n",
              "            const charts = await google.colab.kernel.invokeFunction(\n",
              "                'suggestCharts', [key], {});\n",
              "          } catch (error) {\n",
              "            console.error('Error during call to suggestCharts:', error);\n",
              "          }\n",
              "          quickchartButtonEl.classList.remove('colab-df-spinner');\n",
              "          quickchartButtonEl.classList.add('colab-df-quickchart-complete');\n",
              "        }\n",
              "        (() => {\n",
              "          let quickchartButtonEl =\n",
              "            document.querySelector('#df-3942a9a3-73c9-489f-b31a-f7b063938104 button');\n",
              "          quickchartButtonEl.style.display =\n",
              "            google.colab.kernel.accessAllowed ? 'block' : 'none';\n",
              "        })();\n",
              "      </script>\n",
              "    </div>\n",
              "\n",
              "    </div>\n",
              "  </div>\n"
            ],
            "text/plain": [
              "                                               title  \\\n",
              "0  LAW ENFORCEMENT ON HIGH ALERT Following Threat...   \n",
              "1                                                      \n",
              "2  UNBELIEVABLE! OBAMA’S ATTORNEY GENERAL SAYS MO...   \n",
              "3  Bobby Jindal, raised Hindu, uses story of Chri...   \n",
              "4  SATAN 2: Russia unvelis an image of its terrif...   \n",
              "\n",
              "                                                text  \\\n",
              "0  No comment is expected from Barack Obama Membe...   \n",
              "1     Did they post their votes for Hillary already?   \n",
              "2   Now, most of the demonstrators gathered last ...   \n",
              "3  A dozen politically active pastors came here f...   \n",
              "4  The RS-28 Sarmat missile, dubbed Satan 2, will...   \n",
              "\n",
              "                                           full_text  \n",
              "0  LAW ENFORCEMENT ON HIGH ALERT Following Threat...  \n",
              "1     Did they post their votes for Hillary already?  \n",
              "2  UNBELIEVABLE! OBAMA’S ATTORNEY GENERAL SAYS MO...  \n",
              "3  Bobby Jindal, raised Hindu, uses story of Chri...  \n",
              "4  SATAN 2: Russia unvelis an image of its terrif...  "
            ]
          },
          "execution_count": 28,
          "metadata": {},
          "output_type": "execute_result"
        }
      ],
      "source": [
        "df[['title', 'text', 'full_text']].head(5) # this shows ORIGINAL title, and text and NEW combined column"
      ]
    },
    {
      "cell_type": "code",
      "execution_count": null,
      "metadata": {
        "colab": {
          "base_uri": "https://localhost:8080/"
        },
        "id": "loNsaUoiGTcB",
        "outputId": "b9ec9aa1-6e6e-49f4-c366-6aac6a5fd5e3"
      },
      "outputs": [
        {
          "data": {
            "text/plain": [
              "np.int64(0)"
            ]
          },
          "execution_count": 29,
          "metadata": {},
          "output_type": "execute_result"
        }
      ],
      "source": [
        "(df['full_text'] == '').sum() # double check for any missing rows"
      ]
    },
    {
      "cell_type": "code",
      "execution_count": null,
      "metadata": {
        "colab": {
          "base_uri": "https://localhost:8080/",
          "height": 195
        },
        "id": "B1nwFRMSGVKR",
        "outputId": "8696271c-53c1-47a4-b754-453d3d646a9e"
      },
      "outputs": [
        {
          "data": {
            "application/vnd.google.colaboratory.intrinsic+json": {
              "summary": "{\n  \"name\": \"df\",\n  \"rows\": 3,\n  \"fields\": [\n    {\n      \"column\": \"title\",\n      \"properties\": {\n        \"dtype\": \"string\",\n        \"num_unique_values\": 3,\n        \"samples\": [\n          \"South Korea spy agency sees signs of planned new missile test by North\",\n          \"Donald Trump\\u2019s success reveals a frightening weakness in American democracy\",\n          \"Police: Ohio Woman Raped Four-Year-Old\"\n        ],\n        \"semantic_type\": \"\",\n        \"description\": \"\"\n      }\n    },\n    {\n      \"column\": \"text\",\n      \"properties\": {\n        \"dtype\": \"string\",\n        \"num_unique_values\": 3,\n        \"samples\": [\n          \"SEOUL (Reuters) - North Korea may be planning a new missile test, South Korea s spy agency told lawmakers on Thursday, after brisk activity was spotted at its research facilities, just days before U.S. President Donald Trump visits Seoul.  Reclusive North Korea has carried out a series of nuclear and missile tests in defiance of U.N. Security Council resolutions, but has not launched any missiles since firing one over Japan on Sept. 15, the longest such lull this year. However a flurry of activity including the movement of vehicles has been detected at the North s missile research facilities in Pyongyang, where the most recent missile test was conducted, pointing to another possible launch, South Korea s Intelligence Service said in a briefing to lawmakers. It did not say how the activity was detected. North Korea has made no secret of its plans to perfect a nuclear-tipped missile capable of reaching the U.S. mainland. It     regularly threatens to destroy the United States and its  puppet , South Korea.  There is a possibility of a new missile launch given the active movement of vehicles around the missile research institute in Pyongyang. The North will constantly push for further nuclear tests going forward, and the miniaturization and diversification of warheads,  the intelligence agency said at the briefing. The North s nuclear testing site in the northwestern town of Punggye-ri could have been damaged by its sixth and largest nuclear test on Sept. 3, according to Kim Byung-kee, Yi Wan-young and Lee Tae-gyu, members of South Korea s parliamentary intelligence committee. The explosion triggered an aftershock within eight minutes and three additional shocks. Japanese broadcaster TV Asahi, citing unnamed sources, said on Tuesday a tunnel at the test site collapsed after that explosion, possibly killing more than 200 people. Reuters has not been able to verify the report which North Korea on Thursday denounced as false and defamatory. Pyongyang will likely detonate more devices as it tries to master the miniaturization of nuclear warheads to put atop missiles, the lawmakers said.  The third tunnel at the Punggye-ri complex remained ready for another test  at any time , while construction had resumed at a fourth tunnel, making it unable to be used  for a considerable amount of time , they added.  Trump is to visit five Asian nations in coming days for talks in which North Korea will be a major focus. The visit includes the North s lone major ally, China, and U.S. allies Japan and South Korea, which have watched with increasing worry as Trump and North Korea have exchanged bellicose rhetoric. \",\n          \"As the Constitutional Convention of 1787 ended, Ben Franklin walked out of Philadelphia\\u2019s Independence Hall to find an anxious crowd. According to a diary entry recorded by James McHenry, a signatory to the Constitution, a woman from Philadelphia was the first to speak to Franklin.\\n\\n\\\"Well, doctor,\\u201d she asked, \\u201cwhat have we got, a republic or a monarchy?\\\"\\n\\n\\\"A republic,\\u201d Franklin famously replied. \\u201cIf you can keep it.\\\"\\n\\nPerhaps we cannot.\\n\\nThis reads like hyperbole. But is it? Consider, for a moment, the knife\\u2019s edge on which the republic rests. The election is 24 hours away. As I write this, Donald Trump is 1.8 points behind Hillary Clinton in the RealClearPolitics polling average. And here is what we know of Donald Trump.\\n\\nHe is a man who routinely praises dictators. Of Vladimir Putin, Trump said, \\\"He's running his country, and at least he's a leader, unlike what we have in this country.\\\" Of Kim Jong Un, Trump said, \\\"You've got to give him credit. He goes in, he takes over, and he's the boss. It's incredible.\\\" Of Saddam Hussein, Trump said, \\\"He killed terrorists. He did that so good. They didn't read them the rights.\\\"\\n\\nIt\\u2019s not just that Trump admires authoritarians; it\\u2019s that the thing he admires about them is their authoritarianism \\u2014 their ability to dispense with niceties like a free press, due process, and political opposition.\\n\\nTrump has promised \\u2014 in public, and repeatedly \\u2014 to bring this hammer to American governance. He stood in a nationally televised debate and vowed to jail his opponent if elected. He has proposed strengthening libel laws to make it easier to cow the press and antitrust laws to punish Jeff Bezos and Amazon for the Washington Post\\u2019s coverage of his candidacy. In a recent speech at Gettysburg meant to preview his first 100 days in office, Trump said he would sue all of the women who accused him of sexual assault.\\n\\nDuring rallies, Trump has exhorted his followers to assault protestors, and has promised to pay their legal fees if their thuggery leads to arrest. He has warned that the only way he could lose the election would be if it is rigged, and has suggested he may refuse to concede.\\n\\nAnd all this ignores his more basic flaws. He is cruel, lazy, and reckless. He knows nothing of policy and has not bothered to find anything out. He is easily baited, reliant on sycophants, and prone to conspiracy theories. He is a bigot who slimed an American-born judge for his Mexican heritage and a misogynist who boasted that his celebrity gave him license to commit sexual assault. He has cast doubt on America\\u2019s commitment to the NATO alliance and offhandedly encouraged Saudi Arabia and Japan to build nuclear weapons. His business is rife with conflicts of interest, and his campaign has been amateurish and poorly managed.\\n\\nHere is the compliment I can pay Donald Trump, and I pay it with real gratitude: He never hid who he was. Perhaps he lacked the self-control, or the self-awareness. Whatever the reason, he never obscured his authoritarian tendencies, his will to power, his sexism, his greed, his dishonesty, his racism, his thirst for vengeance.\\n\\nAnd he is still only 1.8 points behind.\\n\\nIt is likely, though not certain, that Hillary Clinton will win on Tuesday. But even if she does, here is what must be said of American politics in 2016: We came within inches of electing Donald J. Trump president of the United States of America. We did this even knowing exactly what he stood for, exactly what he had threatened to do, exactly what kind of man he was.\\n\\nA narrow Trump loss is another way of saying a near Trump win. A 3-point victory for Clinton implies that if Trump were merely a bit more self-disciplined, if he had not bragged about sexual assault while wearing a microphone, if his opponent\\u2019s pneumonia had lingered a bit longer, America would be ruled by a cruel narcissist with authoritarian ambitions. It will mean that if unemployment were a few percentage points higher, if the man who murdered two police officers last week had been brown rather than white, if Trump\\u2019s odd-bedfellows alliance of Russian hackers and angry FBI agents had been a bit more effective, Trump would have won.\\n\\nPerhaps, on Tuesday, we will dodge the bullet. But we will still need to understand how we came to be standing in front of a gun.\\n\\nThere is a comforting and popular explanation for Trump\\u2019s rise: He is the product of an extraordinary period of economic pain, demographic anxiety, and elite backlash. This argument holds that the condition of the country \\u2014 or at least the condition of Trump\\u2019s supporters \\u2014 is catastrophic, and Trump\\u2019s rise is a response to the suffering.\\n\\nThis is reassuring; it makes Trump into a kind of political natural disaster, a hurricane that relied on a rare alignment of winds and rains and warmth, a combination that occurs once in lifetime and can be forgotten once it\\u2019s been survived.\\n\\nBut there is nothing in polls of national attitudes, or indicators of economic health, that reveals this moment as uniquely fertile for the rise of a strongman. In 1992, when Pat Buchanan ran for president on a Trump-like platform, unemployment was higher, consumer confidence was lower, and Americans reported themselves more dissatisfied with the state of the country. But Buchanan lost handily.\\n\\nAnd as we have learned more about Trump\\u2019s supporters, and have come to understand more about the year in which he rose, these explanations have grown more and more strained.\\n\\nThe belief that Trump is a predictable reaction to acute economic duress crumbled before the finding that his primary voters had a median household income of $72,000 \\u2014 well above both the national average and that of Clinton supporters.\\n\\nThe idea that Trumpism arose as a response to a stalled economy collapsed as America experienced its longest sustained run of private sector job growth, and the highest single-year jump in median incomes, in modern history.\\n\\nThe idea that Trump was a reaction to failed trade deals and heavy competition from immigrants slammed into data showing support for him showed no relationship to lost manufacturing jobs and was strongest in areas without immigrant labor.\\n\\nThe idea that Trump is a reaction to historic disgust with American elites is at war with President Barack Obama\\u2019s approval ratings, which have risen above 50 percent and now match Ronald Reagan\\u2019s at this point in his presidency.\\n\\nThe reality is that the patterns of Trumpism, the trends of the US economy, and the polls measuring the American mood have stubbornly refused to fit the comforting theory that this is an extraordinary candidacy that could only emerge in an extraordinary moment. Indeed, if this were a period as thick with economic pain and anti-establishment sentiment as the pundits pretend, Trump\\u2019s victory would likely be assured.\\n\\nOnce you appreciate that fact, the lesson of Trumpism becomes much scarier: We are more vulnerable than we thought to reactionary strongmen. It can happen here.\\n\\nTo Americans of another era \\u2014 particularly the founding era \\u2014 it would seem bizarre that we are reaching so far, and straining so hard, to explain the popular appeal of a charismatic demagogue. As former Bush speechwriter Michael Gerson wrote:\\n\\nThe American political system is structured the way it is in part due to the founders\\u2019 fear of demagogues. It\\u2019s a reason why the American presidency is so weak, why the executive is checked by other branches, why the Senate\\u2019s members were originally selected by state legislators.\\n\\nIt is a credit to the long success of our political institutions that we think dangerous men can only win elections in far-off lands. And so it is the weakening of those institutions that demands our attention now.\\n\\nDonald Trump\\u2019s nearness to the presidency rests on two separate accomplishments \\u2014 or, if you prefer, two separate institutional failures \\u2014 that are often conflated. The first is his victory in the Republican Party\\u2019s presidential primaries. The second is his consolidation of elite Republicans, and of the Republican-leaning electorate.\\n\\nTrump won the GOP primaries with 13.8 million votes. The distance between those 13.8 million voters and the more than 60 million votes he is expected to receive tomorrow is vast, and was far from assured.\\n\\nIn 1972, for instance, George McGovern won the Democratic primary even though much of the Democratic Party viewed him with suspicion and even fear. Major Democratic interest groups, like the AFL-CIO, refused to endorse him in the general election, and top Democrats, including former governors of Florida, Texas, and Virginia, organized \\u201cDemocrats for Nixon.\\u201d McGovern went on to lose with less than 40 percent of the vote, a dismal showing driven by Democrats who abandoned a nominee they considered unacceptable.\\n\\nA similar path was possible for Trump. Elites within the Republican Party viewed him with horror. His primary opponents spoke of him in apocalyptic terms. Ted Cruz called Trump a \\\"pathological liar,\\\" \\\"utterly amoral,\\\" and \\\"a narcissist at a level I don't think this country's ever seen.\\\" Rick Perry said Trump\\u2019s candidacy was \\\"a cancer on conservatism, and it must be clearly diagnosed, excised, and discarded.\\\" Rand Paul said Trump is \\\"a delusional narcissist and an orange-faced windbag. A speck of dirt is way more qualified to be president.\\\" Marco Rubio called him \\u201cdangerous,\\u201d and warned that we should not hand \\\"the nuclear codes of the United States to an erratic individual.\\\"\\n\\nAnd then every single one of those Republicans endorsed Trump. Ted Cruz told Americans to vote for the pathological liar. Rick Perry urged people to elect the cancer on conservatism. Rand Paul backed the delusional narcissist. Marco Rubio campaigned to hand the nuclear codes of the United States to an erratic individual.\\n\\nThe list goes on. Paul Ryan, the Republican speaker of the House of Representatives, has endorsed Trump, as has Mitch McConnell, the Senate majority leader, and Reince Priebus, the head of the Republican National Committee. Mike Pence, the governor of Indiana, commiserated with Dan Senor, a former Bush appointee, over the fact that Trump was \\u201cunacceptable\\u201d \\u2014 and then became his vice president.\\n\\nWith this kind of elite consolidation, it\\u2019s little wonder that Trump has managed to consolidate Republican-leaning voters behind him. The final NBC/WSJ poll of the election found that 82 percent of likely Republican voters were supporting Trump \\u2014 precisely matching the 82 percent of likely Democratic voters supporting Clinton. Trump did not get McGoverned.\\n\\nThere are two analyses that must be made of this. The first is moral. There are many Republicans who honestly believe Trump will make a good, or at least adequate, president; their endorsement of his candidacy is perfectly honorable, even if I think it wrongheaded. But many of the Republicans mentioned here believe Trump is a threat to world peace and to fundamental norms, values, and institutions of American democracy; their endorsements of his candidacy will stain the rest of their careers, and if he is elected, and if the worst comes to pass, they will be remembered by history for their abandonment of country.\\n\\nThe second analysis that must be made is structural. And, believe it or not, that\\u2019s where things get scary.\\n\\nPolitical scientist Julia Azari has written the single most important sentence for understanding both Trump\\u2019s rise and this dangerous era in American politics: \\u201cThe defining characteristic of our moment is that parties are weak while partisanship is strong.\\u201d\\n\\nHere is the problem, in short: Parties, and particularly the Republican Party, can no longer control whom they nominate. But once they nominate someone \\u2014 once they nominate anyone \\u2014 that person is guaranteed the support of both the party\\u2019s elites and its voters. Unlike in McGovern\\u2019s day, when ticket splitting was common, any candidate able to win his party\\u2019s presidential primaries can now count on his party\\u2019s support, and so has a damn good chance of winning the presidency.\\n\\nPolitical parties, and political party primaries, were traditionally bulwarks against demagogues rising in American politics \\u2014 they were controlled by gatekeepers who acted as checks against charismatic demagogues. Donald Trump would never have made it through the convention horse-trading that used to drive nominations; he would never have survived a process that required support from party officials.\\n\\nBut in recent decades, we have slowly destroyed the ability of party officials to drive party primaries. What\\u2019s more, we have come to see party officials exercising influence as fundamentally illegitimate.\\n\\n\\u201cPolitical scientists think of parties as the fundamental building blocks of democracy, and people think of them as the impediment to democracy,\\u201d says Hans Noel, a political scientist at Georgetown University. \\u201cIn other systems, you wouldn\\u2019t even have primaries \\u2014 the whole thing would happen at a party convention. But here, when the DNC makes choices that influence the outcome of a primary, that looks undemocratic.\\u201d\\n\\nThe results have been stark. The reigning political science theory of primaries going into this election was known as \\u201cThe Party Decides,\\u201d and it stated, basically, that party elites controlled primary outcomes by driving money, media attention, and endorsements.\\n\\nNo single idea has been as decisively wrecked by 2016 as that one. And when you examine the reasons for its failure, you see they are unlikely to end with Trump.\\n\\nMoney turned out to be much less important to winning primaries than anyone thought \\u2014 just ask Jeb Bush, who spent $130 million only to be humiliated, even as Trump spent almost nothing to win. Moreover, the internet keeps making it easier to fundraise off an energized base \\u2014 a dynamic that is empowering high-enthusiasm outsider candidates like Bernie Sanders and Ted Cruz and weakening party establishments and the big-dollar donors they control.\\n\\nSimilarly, parties used to drive media attention by signaling to reporters which candidates to take seriously. But that process, too, has been democratized \\u2014 social media makes it easy to communicate with supporters directly and made it more valuable for audience-hungry media outlets to cover the candidates with intense fan bases that send stories viral across Facebook or Reddit. That, again, favors exciting outsiders with enthusiastic supporters over vetted establishment grinds.\\n\\nBut the primary resource party officials have when influencing primary elections is the trust of voters. That\\u2019s why endorsements are important, and have traditionally been predictive of the eventual winner: They represent party officials using the credibility they have built with their voters to persuade them of whom to vote for.\\n\\nTrump didn\\u2019t have any Republican endorsements to speak of until he had already won a slew of primaries. But the void of official support arguably helping him \\u2014 it was proof that he really was untouched and untainted by the unpopular GOP establishment. This represented the Republican Party failing at the most basic job of a political party: Helping its voters make good decisions. The GOP\\u2019s elites have so totally lost the faith of their base that their efforts to persuade Republican voters were ignored at best and counterproductive at worst.\\n\\nBut this also presents a puzzle: If partisans have lost so much faith in their party establishments, then why are they so much likelier to back whomever their party nominates? The answer, in short, is fear and loathing of the other party.\\n\\nSince 1964, the American National Election Studies have been asking Republicans and Democrats to describe their feelings toward the other party on a scale that runs from cold and negative to warm and positive. In 1964, 31 percent of Republicans had cold, negative feelings toward the Democratic Party, and 32 percent of Democrats had cold, negative feelings toward the Republican Party. By 2012, that had risen to 77 percent of Republicans and 78 percent of Democrats.\\n\\nToday, fully 45 percent of Republicans, and 41 percent of Democrats, believe the other party\\u2019s policies \\u201cthreaten the nation\\u2019s well-being.\\u201d This fear is strongest among the most politically involved. Which makes sense: You're more likely to take an active interest in American politics if you think the stakes are high. But that means the people driving American politics \\u2014 and particularly the people driving low-turnout party primaries \\u2014 have the most apocalyptic view of the other side.\\n\\nThis is driven by the reality that the two parties have grown more ideologically distant from each other, and so the stakes of elections really have grown larger. In 1994, 34 percent of Republicans were more liberal than the median Democrat, and 30 percent of Democrats were more conservative than the median Republican. Today only 8 percent of Republicans are more liberal than the median Democrat, and only 6 percent of Democrats are more conservative than the median Republican.\\n\\nAnd polarization begets polarization. The angrier and more fearful partisans are, the more of a market there is for media that makes them yet angrier and yet more fearful. It is no accident that the CEO of Breitbart News, a hyper-ideological conservative media outlet that specializes in scaring the hell out of its audience, is leading Trump\\u2019s campaign. One reason Trump has been able to consolidate Republican support is that Republican-leaning media has convinced itself, and its base, that the alternative to Trump is a criminal who belongs in jail. This offers a rationale for voting Republican even if you don\\u2019t particularly like your candidate: a majority of Trump voters say they are voting against Clinton rather than for Trump.\\n\\nThis raises the possibility that Trump\\u2019s support from Republicans is merely an artifact of Clinton\\u2019s unpopularity. I\\u2019m skeptical. Before they had convinced themselves Clinton is a criminal, many Republicans \\u2014 led by Trump \\u2014 convinced themselves Obama was born in Kenya and constitutionally ineligible to serve as president. And while those attacks were driving Obama\\u2019s popularity down, Clinton\\u2019s numbers were so high that it became fashionable to speculate over whether Obama needed to replace Joe Biden with Clinton to win reelection.\\n\\nClinton\\u2019s weaknesses are real, but her unpopularity among Republicans is structural \\u2014 her four percent approval rating among Republicans isn\\u2019t so far off from the six percent Obama registered at the end of the 2012 election.\\n\\n\\u201cWe\\u2019ve got this online media where the profits are driven by controversy and clicks,\\u201d Sarah Rumpf, a former Breitbart writer, told Vox. \\u201cIt\\u2019s just an activism problem in general, where it\\u2019s easier to fundraise and easier to get members when you can declare an emergency, when you can declare a crisis, when you can identify an enemy.\\u201d\\n\\nThis helps explain the unified party support for Donald Trump. Republican officeholders are terrified that if they don\\u2019t support him, or are seen as in any way contributing to Clinton\\u2019s election, they\\u2019ll face the wrath of their conservative base and be defeated in the primary challenges that the Tea Party used to such devastating effect in 2010 and 2012. Paul Ryan got a taste of this after distancing himself from Trump after the release of the Access Hollywood tape: His popularity plummeted, and a majority of Republicans said they preferred to see Trump representing the party than Ryan.\\n\\nSo here, then, is the key failure point in modern American politics, and observing it in action requires looking no further than the Republican Party: Voters\\u2019 dislike of their own party has broken the primary process, but fear of the opposition has guaranteed unified party support to the nominee. That means whoever manages to win a flawed competition dominated by the angriest, most terrified partisans ends within spitting distance of the presidency.\\n\\nParty primaries were traditionally bulwarks against demagogues rising in American politics. Now they are the method by which they will rise.\\n\\n\\u201cThe thing I keep coming back to is the Muslim ban,\\u201d says MSNBC\\u2019s Chris Hayes. \\u201cThat was an actual policy he called for while running for president, and if you switched in Jews for Muslims, it was immediately clear what it was. And it wasn\\u2019t disqualifying. To me, that was so, so upsetting.\\u201d\\n\\nHayes is the author of the book Twilight of the Elites, and he has spent a lot of time thinking about elite failures. And there were elite failures that led to Trump: the anger left over from the Iraq War, and from the financial crisis, is certainly part of his rise. But the other problem with elites this year is harder to talk about: They were underpowered.\\n\\n\\u201cThe gatekeepers have been extraordinarily diminished,\\u201d Hayes says. \\u201cThe best example of this, to me, is the newspaper editorial page. It\\u2019s the ultimate old-school gatekeeper. I find it so remarkable that the Columbus Dispatch, USA Today, all these gatekeepers have come to the proper, correct conclusion on Trump, and said, \\u2018No fucking way!\\u2019 But no one cares. They don\\u2019t control the gate. They can lock the gate and someone can walk around it three feet down the fence.\\u201d\\n\\nElites are often blamed for Trump\\u2019s rise \\u2014 he is said to be the backlash to their failures, their corruption, their obliviousness, their self-dealing, their cosmopolitanism, their condescension. All that may be true, but past moments in American politics have also featured angry voters, out-of-touch elites, and social problems. Those moments, however, featured political and media gatekeepers with more power, and so Trump-like candidates were destroyed in primaries, or at conventions, or by a press that paid them little mind.\\n\\nNow, however, traditional gatekeepers have neither the power nor the cultural capital to stop Trump-like candidates. And in the Republican Party, where the collapse of institutional authority is most severe and most dangerous, the aftermath of a Trump loss will further weaken the party\\u2019s center, as Trump\\u2019s supporters turn on the elites whose tepid backing, they will argue, doomed their candidate. Sean Hannity, for instance, has already called Paul Ryan a \\u201csaboteur,\\u201d and Breitbart published an article headlined \\u201cHe\\u2019s with her: Inside Paul Ryan\\u2019s months-long campaign to elect Hillary Clinton president.\\u2019\\u201d\\n\\nIt is hard to see how the Republican Party\\u2019s core institutions or top officials emerge strengthened if Trump loses narrowly, and it is likely that they will be effectively replaced, co-opted, or hollowed out if he wins.\\n\\nMeanwhile, the social conditions that led to Trump \\u2014 the rapid browning of America foremost among them \\u2014 will persist and even accelerate. Already, nonwhites make up a majority of children under 3 years old. The country is on a fast path to becoming majority minority, and many white male voters will continue to perceive this change as a loss in both status and political power, which, in some ways, it is. Eventually, these conditions will run into a recession that brings with it much sharper economic pain.\\n\\nThis is not to say Republicans will always, or even routinely, nominate candidates as dangerous as Trump. Much had to go wrong for him to be nominated. But having been nominated, much will have to go right for the country not to elect him, and more will have to go right for it to not elect someone like him in the future. The lesson of this unnerving year is that less can be taken for granted than we thought \\u2014 the American people are not immune to demagogues, and the American political system is too weakened to reliably stop them. America, like all the world\\u2019s other countries, is vulnerable to catastrophic political failure. It can happen here.\\n\\nTrump will likely lose on Tuesday. But if he loses, it will be because he is a crude, undisciplined demagogue. The world also produces clever, disciplined demagogues. And they are the ones who truly threaten republics.\",\n          \"An Ohio woman allegedly raped a    on January 4, police say. [India Kirksey, 20, of West Price Hill was arrested Monday and booked into the Hamilton County Jail, WXIX report.  Investigators say she recorded herself performing a sex act on the child, according to WLWT. Someone in Texas saw the video and contacted   authorities, prosecutors state. Cincinnati police say that Kirksey gave them a taped confession, according to the criminal complaint. A judge set her bond at $350, 000 Monday morning.\"\n        ],\n        \"semantic_type\": \"\",\n        \"description\": \"\"\n      }\n    },\n    {\n      \"column\": \"full_text\",\n      \"properties\": {\n        \"dtype\": \"string\",\n        \"num_unique_values\": 3,\n        \"samples\": [\n          \"South Korea spy agency sees signs of planned new missile test by North SEOUL (Reuters) - North Korea may be planning a new missile test, South Korea s spy agency told lawmakers on Thursday, after brisk activity was spotted at its research facilities, just days before U.S. President Donald Trump visits Seoul.  Reclusive North Korea has carried out a series of nuclear and missile tests in defiance of U.N. Security Council resolutions, but has not launched any missiles since firing one over Japan on Sept. 15, the longest such lull this year. However a flurry of activity including the movement of vehicles has been detected at the North s missile research facilities in Pyongyang, where the most recent missile test was conducted, pointing to another possible launch, South Korea s Intelligence Service said in a briefing to lawmakers. It did not say how the activity was detected. North Korea has made no secret of its plans to perfect a nuclear-tipped missile capable of reaching the U.S. mainland. It     regularly threatens to destroy the United States and its  puppet , South Korea.  There is a possibility of a new missile launch given the active movement of vehicles around the missile research institute in Pyongyang. The North will constantly push for further nuclear tests going forward, and the miniaturization and diversification of warheads,  the intelligence agency said at the briefing. The North s nuclear testing site in the northwestern town of Punggye-ri could have been damaged by its sixth and largest nuclear test on Sept. 3, according to Kim Byung-kee, Yi Wan-young and Lee Tae-gyu, members of South Korea s parliamentary intelligence committee. The explosion triggered an aftershock within eight minutes and three additional shocks. Japanese broadcaster TV Asahi, citing unnamed sources, said on Tuesday a tunnel at the test site collapsed after that explosion, possibly killing more than 200 people. Reuters has not been able to verify the report which North Korea on Thursday denounced as false and defamatory. Pyongyang will likely detonate more devices as it tries to master the miniaturization of nuclear warheads to put atop missiles, the lawmakers said.  The third tunnel at the Punggye-ri complex remained ready for another test  at any time , while construction had resumed at a fourth tunnel, making it unable to be used  for a considerable amount of time , they added.  Trump is to visit five Asian nations in coming days for talks in which North Korea will be a major focus. The visit includes the North s lone major ally, China, and U.S. allies Japan and South Korea, which have watched with increasing worry as Trump and North Korea have exchanged bellicose rhetoric.\",\n          \"Donald Trump\\u2019s success reveals a frightening weakness in American democracy As the Constitutional Convention of 1787 ended, Ben Franklin walked out of Philadelphia\\u2019s Independence Hall to find an anxious crowd. According to a diary entry recorded by James McHenry, a signatory to the Constitution, a woman from Philadelphia was the first to speak to Franklin.\\n\\n\\\"Well, doctor,\\u201d she asked, \\u201cwhat have we got, a republic or a monarchy?\\\"\\n\\n\\\"A republic,\\u201d Franklin famously replied. \\u201cIf you can keep it.\\\"\\n\\nPerhaps we cannot.\\n\\nThis reads like hyperbole. But is it? Consider, for a moment, the knife\\u2019s edge on which the republic rests. The election is 24 hours away. As I write this, Donald Trump is 1.8 points behind Hillary Clinton in the RealClearPolitics polling average. And here is what we know of Donald Trump.\\n\\nHe is a man who routinely praises dictators. Of Vladimir Putin, Trump said, \\\"He's running his country, and at least he's a leader, unlike what we have in this country.\\\" Of Kim Jong Un, Trump said, \\\"You've got to give him credit. He goes in, he takes over, and he's the boss. It's incredible.\\\" Of Saddam Hussein, Trump said, \\\"He killed terrorists. He did that so good. They didn't read them the rights.\\\"\\n\\nIt\\u2019s not just that Trump admires authoritarians; it\\u2019s that the thing he admires about them is their authoritarianism \\u2014 their ability to dispense with niceties like a free press, due process, and political opposition.\\n\\nTrump has promised \\u2014 in public, and repeatedly \\u2014 to bring this hammer to American governance. He stood in a nationally televised debate and vowed to jail his opponent if elected. He has proposed strengthening libel laws to make it easier to cow the press and antitrust laws to punish Jeff Bezos and Amazon for the Washington Post\\u2019s coverage of his candidacy. In a recent speech at Gettysburg meant to preview his first 100 days in office, Trump said he would sue all of the women who accused him of sexual assault.\\n\\nDuring rallies, Trump has exhorted his followers to assault protestors, and has promised to pay their legal fees if their thuggery leads to arrest. He has warned that the only way he could lose the election would be if it is rigged, and has suggested he may refuse to concede.\\n\\nAnd all this ignores his more basic flaws. He is cruel, lazy, and reckless. He knows nothing of policy and has not bothered to find anything out. He is easily baited, reliant on sycophants, and prone to conspiracy theories. He is a bigot who slimed an American-born judge for his Mexican heritage and a misogynist who boasted that his celebrity gave him license to commit sexual assault. He has cast doubt on America\\u2019s commitment to the NATO alliance and offhandedly encouraged Saudi Arabia and Japan to build nuclear weapons. His business is rife with conflicts of interest, and his campaign has been amateurish and poorly managed.\\n\\nHere is the compliment I can pay Donald Trump, and I pay it with real gratitude: He never hid who he was. Perhaps he lacked the self-control, or the self-awareness. Whatever the reason, he never obscured his authoritarian tendencies, his will to power, his sexism, his greed, his dishonesty, his racism, his thirst for vengeance.\\n\\nAnd he is still only 1.8 points behind.\\n\\nIt is likely, though not certain, that Hillary Clinton will win on Tuesday. But even if she does, here is what must be said of American politics in 2016: We came within inches of electing Donald J. Trump president of the United States of America. We did this even knowing exactly what he stood for, exactly what he had threatened to do, exactly what kind of man he was.\\n\\nA narrow Trump loss is another way of saying a near Trump win. A 3-point victory for Clinton implies that if Trump were merely a bit more self-disciplined, if he had not bragged about sexual assault while wearing a microphone, if his opponent\\u2019s pneumonia had lingered a bit longer, America would be ruled by a cruel narcissist with authoritarian ambitions. It will mean that if unemployment were a few percentage points higher, if the man who murdered two police officers last week had been brown rather than white, if Trump\\u2019s odd-bedfellows alliance of Russian hackers and angry FBI agents had been a bit more effective, Trump would have won.\\n\\nPerhaps, on Tuesday, we will dodge the bullet. But we will still need to understand how we came to be standing in front of a gun.\\n\\nThere is a comforting and popular explanation for Trump\\u2019s rise: He is the product of an extraordinary period of economic pain, demographic anxiety, and elite backlash. This argument holds that the condition of the country \\u2014 or at least the condition of Trump\\u2019s supporters \\u2014 is catastrophic, and Trump\\u2019s rise is a response to the suffering.\\n\\nThis is reassuring; it makes Trump into a kind of political natural disaster, a hurricane that relied on a rare alignment of winds and rains and warmth, a combination that occurs once in lifetime and can be forgotten once it\\u2019s been survived.\\n\\nBut there is nothing in polls of national attitudes, or indicators of economic health, that reveals this moment as uniquely fertile for the rise of a strongman. In 1992, when Pat Buchanan ran for president on a Trump-like platform, unemployment was higher, consumer confidence was lower, and Americans reported themselves more dissatisfied with the state of the country. But Buchanan lost handily.\\n\\nAnd as we have learned more about Trump\\u2019s supporters, and have come to understand more about the year in which he rose, these explanations have grown more and more strained.\\n\\nThe belief that Trump is a predictable reaction to acute economic duress crumbled before the finding that his primary voters had a median household income of $72,000 \\u2014 well above both the national average and that of Clinton supporters.\\n\\nThe idea that Trumpism arose as a response to a stalled economy collapsed as America experienced its longest sustained run of private sector job growth, and the highest single-year jump in median incomes, in modern history.\\n\\nThe idea that Trump was a reaction to failed trade deals and heavy competition from immigrants slammed into data showing support for him showed no relationship to lost manufacturing jobs and was strongest in areas without immigrant labor.\\n\\nThe idea that Trump is a reaction to historic disgust with American elites is at war with President Barack Obama\\u2019s approval ratings, which have risen above 50 percent and now match Ronald Reagan\\u2019s at this point in his presidency.\\n\\nThe reality is that the patterns of Trumpism, the trends of the US economy, and the polls measuring the American mood have stubbornly refused to fit the comforting theory that this is an extraordinary candidacy that could only emerge in an extraordinary moment. Indeed, if this were a period as thick with economic pain and anti-establishment sentiment as the pundits pretend, Trump\\u2019s victory would likely be assured.\\n\\nOnce you appreciate that fact, the lesson of Trumpism becomes much scarier: We are more vulnerable than we thought to reactionary strongmen. It can happen here.\\n\\nTo Americans of another era \\u2014 particularly the founding era \\u2014 it would seem bizarre that we are reaching so far, and straining so hard, to explain the popular appeal of a charismatic demagogue. As former Bush speechwriter Michael Gerson wrote:\\n\\nThe American political system is structured the way it is in part due to the founders\\u2019 fear of demagogues. It\\u2019s a reason why the American presidency is so weak, why the executive is checked by other branches, why the Senate\\u2019s members were originally selected by state legislators.\\n\\nIt is a credit to the long success of our political institutions that we think dangerous men can only win elections in far-off lands. And so it is the weakening of those institutions that demands our attention now.\\n\\nDonald Trump\\u2019s nearness to the presidency rests on two separate accomplishments \\u2014 or, if you prefer, two separate institutional failures \\u2014 that are often conflated. The first is his victory in the Republican Party\\u2019s presidential primaries. The second is his consolidation of elite Republicans, and of the Republican-leaning electorate.\\n\\nTrump won the GOP primaries with 13.8 million votes. The distance between those 13.8 million voters and the more than 60 million votes he is expected to receive tomorrow is vast, and was far from assured.\\n\\nIn 1972, for instance, George McGovern won the Democratic primary even though much of the Democratic Party viewed him with suspicion and even fear. Major Democratic interest groups, like the AFL-CIO, refused to endorse him in the general election, and top Democrats, including former governors of Florida, Texas, and Virginia, organized \\u201cDemocrats for Nixon.\\u201d McGovern went on to lose with less than 40 percent of the vote, a dismal showing driven by Democrats who abandoned a nominee they considered unacceptable.\\n\\nA similar path was possible for Trump. Elites within the Republican Party viewed him with horror. His primary opponents spoke of him in apocalyptic terms. Ted Cruz called Trump a \\\"pathological liar,\\\" \\\"utterly amoral,\\\" and \\\"a narcissist at a level I don't think this country's ever seen.\\\" Rick Perry said Trump\\u2019s candidacy was \\\"a cancer on conservatism, and it must be clearly diagnosed, excised, and discarded.\\\" Rand Paul said Trump is \\\"a delusional narcissist and an orange-faced windbag. A speck of dirt is way more qualified to be president.\\\" Marco Rubio called him \\u201cdangerous,\\u201d and warned that we should not hand \\\"the nuclear codes of the United States to an erratic individual.\\\"\\n\\nAnd then every single one of those Republicans endorsed Trump. Ted Cruz told Americans to vote for the pathological liar. Rick Perry urged people to elect the cancer on conservatism. Rand Paul backed the delusional narcissist. Marco Rubio campaigned to hand the nuclear codes of the United States to an erratic individual.\\n\\nThe list goes on. Paul Ryan, the Republican speaker of the House of Representatives, has endorsed Trump, as has Mitch McConnell, the Senate majority leader, and Reince Priebus, the head of the Republican National Committee. Mike Pence, the governor of Indiana, commiserated with Dan Senor, a former Bush appointee, over the fact that Trump was \\u201cunacceptable\\u201d \\u2014 and then became his vice president.\\n\\nWith this kind of elite consolidation, it\\u2019s little wonder that Trump has managed to consolidate Republican-leaning voters behind him. The final NBC/WSJ poll of the election found that 82 percent of likely Republican voters were supporting Trump \\u2014 precisely matching the 82 percent of likely Democratic voters supporting Clinton. Trump did not get McGoverned.\\n\\nThere are two analyses that must be made of this. The first is moral. There are many Republicans who honestly believe Trump will make a good, or at least adequate, president; their endorsement of his candidacy is perfectly honorable, even if I think it wrongheaded. But many of the Republicans mentioned here believe Trump is a threat to world peace and to fundamental norms, values, and institutions of American democracy; their endorsements of his candidacy will stain the rest of their careers, and if he is elected, and if the worst comes to pass, they will be remembered by history for their abandonment of country.\\n\\nThe second analysis that must be made is structural. And, believe it or not, that\\u2019s where things get scary.\\n\\nPolitical scientist Julia Azari has written the single most important sentence for understanding both Trump\\u2019s rise and this dangerous era in American politics: \\u201cThe defining characteristic of our moment is that parties are weak while partisanship is strong.\\u201d\\n\\nHere is the problem, in short: Parties, and particularly the Republican Party, can no longer control whom they nominate. But once they nominate someone \\u2014 once they nominate anyone \\u2014 that person is guaranteed the support of both the party\\u2019s elites and its voters. Unlike in McGovern\\u2019s day, when ticket splitting was common, any candidate able to win his party\\u2019s presidential primaries can now count on his party\\u2019s support, and so has a damn good chance of winning the presidency.\\n\\nPolitical parties, and political party primaries, were traditionally bulwarks against demagogues rising in American politics \\u2014 they were controlled by gatekeepers who acted as checks against charismatic demagogues. Donald Trump would never have made it through the convention horse-trading that used to drive nominations; he would never have survived a process that required support from party officials.\\n\\nBut in recent decades, we have slowly destroyed the ability of party officials to drive party primaries. What\\u2019s more, we have come to see party officials exercising influence as fundamentally illegitimate.\\n\\n\\u201cPolitical scientists think of parties as the fundamental building blocks of democracy, and people think of them as the impediment to democracy,\\u201d says Hans Noel, a political scientist at Georgetown University. \\u201cIn other systems, you wouldn\\u2019t even have primaries \\u2014 the whole thing would happen at a party convention. But here, when the DNC makes choices that influence the outcome of a primary, that looks undemocratic.\\u201d\\n\\nThe results have been stark. The reigning political science theory of primaries going into this election was known as \\u201cThe Party Decides,\\u201d and it stated, basically, that party elites controlled primary outcomes by driving money, media attention, and endorsements.\\n\\nNo single idea has been as decisively wrecked by 2016 as that one. And when you examine the reasons for its failure, you see they are unlikely to end with Trump.\\n\\nMoney turned out to be much less important to winning primaries than anyone thought \\u2014 just ask Jeb Bush, who spent $130 million only to be humiliated, even as Trump spent almost nothing to win. Moreover, the internet keeps making it easier to fundraise off an energized base \\u2014 a dynamic that is empowering high-enthusiasm outsider candidates like Bernie Sanders and Ted Cruz and weakening party establishments and the big-dollar donors they control.\\n\\nSimilarly, parties used to drive media attention by signaling to reporters which candidates to take seriously. But that process, too, has been democratized \\u2014 social media makes it easy to communicate with supporters directly and made it more valuable for audience-hungry media outlets to cover the candidates with intense fan bases that send stories viral across Facebook or Reddit. That, again, favors exciting outsiders with enthusiastic supporters over vetted establishment grinds.\\n\\nBut the primary resource party officials have when influencing primary elections is the trust of voters. That\\u2019s why endorsements are important, and have traditionally been predictive of the eventual winner: They represent party officials using the credibility they have built with their voters to persuade them of whom to vote for.\\n\\nTrump didn\\u2019t have any Republican endorsements to speak of until he had already won a slew of primaries. But the void of official support arguably helping him \\u2014 it was proof that he really was untouched and untainted by the unpopular GOP establishment. This represented the Republican Party failing at the most basic job of a political party: Helping its voters make good decisions. The GOP\\u2019s elites have so totally lost the faith of their base that their efforts to persuade Republican voters were ignored at best and counterproductive at worst.\\n\\nBut this also presents a puzzle: If partisans have lost so much faith in their party establishments, then why are they so much likelier to back whomever their party nominates? The answer, in short, is fear and loathing of the other party.\\n\\nSince 1964, the American National Election Studies have been asking Republicans and Democrats to describe their feelings toward the other party on a scale that runs from cold and negative to warm and positive. In 1964, 31 percent of Republicans had cold, negative feelings toward the Democratic Party, and 32 percent of Democrats had cold, negative feelings toward the Republican Party. By 2012, that had risen to 77 percent of Republicans and 78 percent of Democrats.\\n\\nToday, fully 45 percent of Republicans, and 41 percent of Democrats, believe the other party\\u2019s policies \\u201cthreaten the nation\\u2019s well-being.\\u201d This fear is strongest among the most politically involved. Which makes sense: You're more likely to take an active interest in American politics if you think the stakes are high. But that means the people driving American politics \\u2014 and particularly the people driving low-turnout party primaries \\u2014 have the most apocalyptic view of the other side.\\n\\nThis is driven by the reality that the two parties have grown more ideologically distant from each other, and so the stakes of elections really have grown larger. In 1994, 34 percent of Republicans were more liberal than the median Democrat, and 30 percent of Democrats were more conservative than the median Republican. Today only 8 percent of Republicans are more liberal than the median Democrat, and only 6 percent of Democrats are more conservative than the median Republican.\\n\\nAnd polarization begets polarization. The angrier and more fearful partisans are, the more of a market there is for media that makes them yet angrier and yet more fearful. It is no accident that the CEO of Breitbart News, a hyper-ideological conservative media outlet that specializes in scaring the hell out of its audience, is leading Trump\\u2019s campaign. One reason Trump has been able to consolidate Republican support is that Republican-leaning media has convinced itself, and its base, that the alternative to Trump is a criminal who belongs in jail. This offers a rationale for voting Republican even if you don\\u2019t particularly like your candidate: a majority of Trump voters say they are voting against Clinton rather than for Trump.\\n\\nThis raises the possibility that Trump\\u2019s support from Republicans is merely an artifact of Clinton\\u2019s unpopularity. I\\u2019m skeptical. Before they had convinced themselves Clinton is a criminal, many Republicans \\u2014 led by Trump \\u2014 convinced themselves Obama was born in Kenya and constitutionally ineligible to serve as president. And while those attacks were driving Obama\\u2019s popularity down, Clinton\\u2019s numbers were so high that it became fashionable to speculate over whether Obama needed to replace Joe Biden with Clinton to win reelection.\\n\\nClinton\\u2019s weaknesses are real, but her unpopularity among Republicans is structural \\u2014 her four percent approval rating among Republicans isn\\u2019t so far off from the six percent Obama registered at the end of the 2012 election.\\n\\n\\u201cWe\\u2019ve got this online media where the profits are driven by controversy and clicks,\\u201d Sarah Rumpf, a former Breitbart writer, told Vox. \\u201cIt\\u2019s just an activism problem in general, where it\\u2019s easier to fundraise and easier to get members when you can declare an emergency, when you can declare a crisis, when you can identify an enemy.\\u201d\\n\\nThis helps explain the unified party support for Donald Trump. Republican officeholders are terrified that if they don\\u2019t support him, or are seen as in any way contributing to Clinton\\u2019s election, they\\u2019ll face the wrath of their conservative base and be defeated in the primary challenges that the Tea Party used to such devastating effect in 2010 and 2012. Paul Ryan got a taste of this after distancing himself from Trump after the release of the Access Hollywood tape: His popularity plummeted, and a majority of Republicans said they preferred to see Trump representing the party than Ryan.\\n\\nSo here, then, is the key failure point in modern American politics, and observing it in action requires looking no further than the Republican Party: Voters\\u2019 dislike of their own party has broken the primary process, but fear of the opposition has guaranteed unified party support to the nominee. That means whoever manages to win a flawed competition dominated by the angriest, most terrified partisans ends within spitting distance of the presidency.\\n\\nParty primaries were traditionally bulwarks against demagogues rising in American politics. Now they are the method by which they will rise.\\n\\n\\u201cThe thing I keep coming back to is the Muslim ban,\\u201d says MSNBC\\u2019s Chris Hayes. \\u201cThat was an actual policy he called for while running for president, and if you switched in Jews for Muslims, it was immediately clear what it was. And it wasn\\u2019t disqualifying. To me, that was so, so upsetting.\\u201d\\n\\nHayes is the author of the book Twilight of the Elites, and he has spent a lot of time thinking about elite failures. And there were elite failures that led to Trump: the anger left over from the Iraq War, and from the financial crisis, is certainly part of his rise. But the other problem with elites this year is harder to talk about: They were underpowered.\\n\\n\\u201cThe gatekeepers have been extraordinarily diminished,\\u201d Hayes says. \\u201cThe best example of this, to me, is the newspaper editorial page. It\\u2019s the ultimate old-school gatekeeper. I find it so remarkable that the Columbus Dispatch, USA Today, all these gatekeepers have come to the proper, correct conclusion on Trump, and said, \\u2018No fucking way!\\u2019 But no one cares. They don\\u2019t control the gate. They can lock the gate and someone can walk around it three feet down the fence.\\u201d\\n\\nElites are often blamed for Trump\\u2019s rise \\u2014 he is said to be the backlash to their failures, their corruption, their obliviousness, their self-dealing, their cosmopolitanism, their condescension. All that may be true, but past moments in American politics have also featured angry voters, out-of-touch elites, and social problems. Those moments, however, featured political and media gatekeepers with more power, and so Trump-like candidates were destroyed in primaries, or at conventions, or by a press that paid them little mind.\\n\\nNow, however, traditional gatekeepers have neither the power nor the cultural capital to stop Trump-like candidates. And in the Republican Party, where the collapse of institutional authority is most severe and most dangerous, the aftermath of a Trump loss will further weaken the party\\u2019s center, as Trump\\u2019s supporters turn on the elites whose tepid backing, they will argue, doomed their candidate. Sean Hannity, for instance, has already called Paul Ryan a \\u201csaboteur,\\u201d and Breitbart published an article headlined \\u201cHe\\u2019s with her: Inside Paul Ryan\\u2019s months-long campaign to elect Hillary Clinton president.\\u2019\\u201d\\n\\nIt is hard to see how the Republican Party\\u2019s core institutions or top officials emerge strengthened if Trump loses narrowly, and it is likely that they will be effectively replaced, co-opted, or hollowed out if he wins.\\n\\nMeanwhile, the social conditions that led to Trump \\u2014 the rapid browning of America foremost among them \\u2014 will persist and even accelerate. Already, nonwhites make up a majority of children under 3 years old. The country is on a fast path to becoming majority minority, and many white male voters will continue to perceive this change as a loss in both status and political power, which, in some ways, it is. Eventually, these conditions will run into a recession that brings with it much sharper economic pain.\\n\\nThis is not to say Republicans will always, or even routinely, nominate candidates as dangerous as Trump. Much had to go wrong for him to be nominated. But having been nominated, much will have to go right for the country not to elect him, and more will have to go right for it to not elect someone like him in the future. The lesson of this unnerving year is that less can be taken for granted than we thought \\u2014 the American people are not immune to demagogues, and the American political system is too weakened to reliably stop them. America, like all the world\\u2019s other countries, is vulnerable to catastrophic political failure. It can happen here.\\n\\nTrump will likely lose on Tuesday. But if he loses, it will be because he is a crude, undisciplined demagogue. The world also produces clever, disciplined demagogues. And they are the ones who truly threaten republics.\",\n          \"Police: Ohio Woman Raped Four-Year-Old An Ohio woman allegedly raped a    on January 4, police say. [India Kirksey, 20, of West Price Hill was arrested Monday and booked into the Hamilton County Jail, WXIX report.  Investigators say she recorded herself performing a sex act on the child, according to WLWT. Someone in Texas saw the video and contacted   authorities, prosecutors state. Cincinnati police say that Kirksey gave them a taped confession, according to the criminal complaint. A judge set her bond at $350, 000 Monday morning.\"\n        ],\n        \"semantic_type\": \"\",\n        \"description\": \"\"\n      }\n    }\n  ]\n}",
              "type": "dataframe"
            },
            "text/html": [
              "\n",
              "  <div id=\"df-0b1ceef8-e8e5-432b-bbef-cebd7aa596a7\" class=\"colab-df-container\">\n",
              "    <div>\n",
              "<style scoped>\n",
              "    .dataframe tbody tr th:only-of-type {\n",
              "        vertical-align: middle;\n",
              "    }\n",
              "\n",
              "    .dataframe tbody tr th {\n",
              "        vertical-align: top;\n",
              "    }\n",
              "\n",
              "    .dataframe thead th {\n",
              "        text-align: right;\n",
              "    }\n",
              "</style>\n",
              "<table border=\"1\" class=\"dataframe\">\n",
              "  <thead>\n",
              "    <tr style=\"text-align: right;\">\n",
              "      <th></th>\n",
              "      <th>title</th>\n",
              "      <th>text</th>\n",
              "      <th>full_text</th>\n",
              "    </tr>\n",
              "  </thead>\n",
              "  <tbody>\n",
              "    <tr>\n",
              "      <th>58664</th>\n",
              "      <td>South Korea spy agency sees signs of planned n...</td>\n",
              "      <td>SEOUL (Reuters) - North Korea may be planning ...</td>\n",
              "      <td>South Korea spy agency sees signs of planned n...</td>\n",
              "    </tr>\n",
              "    <tr>\n",
              "      <th>7712</th>\n",
              "      <td>Donald Trump’s success reveals a frightening w...</td>\n",
              "      <td>As the Constitutional Convention of 1787 ended...</td>\n",
              "      <td>Donald Trump’s success reveals a frightening w...</td>\n",
              "    </tr>\n",
              "    <tr>\n",
              "      <th>16567</th>\n",
              "      <td>Police: Ohio Woman Raped Four-Year-Old</td>\n",
              "      <td>An Ohio woman allegedly raped a    on January ...</td>\n",
              "      <td>Police: Ohio Woman Raped Four-Year-Old An Ohio...</td>\n",
              "    </tr>\n",
              "  </tbody>\n",
              "</table>\n",
              "</div>\n",
              "    <div class=\"colab-df-buttons\">\n",
              "\n",
              "  <div class=\"colab-df-container\">\n",
              "    <button class=\"colab-df-convert\" onclick=\"convertToInteractive('df-0b1ceef8-e8e5-432b-bbef-cebd7aa596a7')\"\n",
              "            title=\"Convert this dataframe to an interactive table.\"\n",
              "            style=\"display:none;\">\n",
              "\n",
              "  <svg xmlns=\"http://www.w3.org/2000/svg\" height=\"24px\" viewBox=\"0 -960 960 960\">\n",
              "    <path d=\"M120-120v-720h720v720H120Zm60-500h600v-160H180v160Zm220 220h160v-160H400v160Zm0 220h160v-160H400v160ZM180-400h160v-160H180v160Zm440 0h160v-160H620v160ZM180-180h160v-160H180v160Zm440 0h160v-160H620v160Z\"/>\n",
              "  </svg>\n",
              "    </button>\n",
              "\n",
              "  <style>\n",
              "    .colab-df-container {\n",
              "      display:flex;\n",
              "      gap: 12px;\n",
              "    }\n",
              "\n",
              "    .colab-df-convert {\n",
              "      background-color: #E8F0FE;\n",
              "      border: none;\n",
              "      border-radius: 50%;\n",
              "      cursor: pointer;\n",
              "      display: none;\n",
              "      fill: #1967D2;\n",
              "      height: 32px;\n",
              "      padding: 0 0 0 0;\n",
              "      width: 32px;\n",
              "    }\n",
              "\n",
              "    .colab-df-convert:hover {\n",
              "      background-color: #E2EBFA;\n",
              "      box-shadow: 0px 1px 2px rgba(60, 64, 67, 0.3), 0px 1px 3px 1px rgba(60, 64, 67, 0.15);\n",
              "      fill: #174EA6;\n",
              "    }\n",
              "\n",
              "    .colab-df-buttons div {\n",
              "      margin-bottom: 4px;\n",
              "    }\n",
              "\n",
              "    [theme=dark] .colab-df-convert {\n",
              "      background-color: #3B4455;\n",
              "      fill: #D2E3FC;\n",
              "    }\n",
              "\n",
              "    [theme=dark] .colab-df-convert:hover {\n",
              "      background-color: #434B5C;\n",
              "      box-shadow: 0px 1px 3px 1px rgba(0, 0, 0, 0.15);\n",
              "      filter: drop-shadow(0px 1px 2px rgba(0, 0, 0, 0.3));\n",
              "      fill: #FFFFFF;\n",
              "    }\n",
              "  </style>\n",
              "\n",
              "    <script>\n",
              "      const buttonEl =\n",
              "        document.querySelector('#df-0b1ceef8-e8e5-432b-bbef-cebd7aa596a7 button.colab-df-convert');\n",
              "      buttonEl.style.display =\n",
              "        google.colab.kernel.accessAllowed ? 'block' : 'none';\n",
              "\n",
              "      async function convertToInteractive(key) {\n",
              "        const element = document.querySelector('#df-0b1ceef8-e8e5-432b-bbef-cebd7aa596a7');\n",
              "        const dataTable =\n",
              "          await google.colab.kernel.invokeFunction('convertToInteractive',\n",
              "                                                    [key], {});\n",
              "        if (!dataTable) return;\n",
              "\n",
              "        const docLinkHtml = 'Like what you see? Visit the ' +\n",
              "          '<a target=\"_blank\" href=https://colab.research.google.com/notebooks/data_table.ipynb>data table notebook</a>'\n",
              "          + ' to learn more about interactive tables.';\n",
              "        element.innerHTML = '';\n",
              "        dataTable['output_type'] = 'display_data';\n",
              "        await google.colab.output.renderOutput(dataTable, element);\n",
              "        const docLink = document.createElement('div');\n",
              "        docLink.innerHTML = docLinkHtml;\n",
              "        element.appendChild(docLink);\n",
              "      }\n",
              "    </script>\n",
              "  </div>\n",
              "\n",
              "\n",
              "    <div id=\"df-bd4b6d3c-e69a-4572-a3da-1fc33ac81644\">\n",
              "      <button class=\"colab-df-quickchart\" onclick=\"quickchart('df-bd4b6d3c-e69a-4572-a3da-1fc33ac81644')\"\n",
              "                title=\"Suggest charts\"\n",
              "                style=\"display:none;\">\n",
              "\n",
              "<svg xmlns=\"http://www.w3.org/2000/svg\" height=\"24px\"viewBox=\"0 0 24 24\"\n",
              "     width=\"24px\">\n",
              "    <g>\n",
              "        <path d=\"M19 3H5c-1.1 0-2 .9-2 2v14c0 1.1.9 2 2 2h14c1.1 0 2-.9 2-2V5c0-1.1-.9-2-2-2zM9 17H7v-7h2v7zm4 0h-2V7h2v10zm4 0h-2v-4h2v4z\"/>\n",
              "    </g>\n",
              "</svg>\n",
              "      </button>\n",
              "\n",
              "<style>\n",
              "  .colab-df-quickchart {\n",
              "      --bg-color: #E8F0FE;\n",
              "      --fill-color: #1967D2;\n",
              "      --hover-bg-color: #E2EBFA;\n",
              "      --hover-fill-color: #174EA6;\n",
              "      --disabled-fill-color: #AAA;\n",
              "      --disabled-bg-color: #DDD;\n",
              "  }\n",
              "\n",
              "  [theme=dark] .colab-df-quickchart {\n",
              "      --bg-color: #3B4455;\n",
              "      --fill-color: #D2E3FC;\n",
              "      --hover-bg-color: #434B5C;\n",
              "      --hover-fill-color: #FFFFFF;\n",
              "      --disabled-bg-color: #3B4455;\n",
              "      --disabled-fill-color: #666;\n",
              "  }\n",
              "\n",
              "  .colab-df-quickchart {\n",
              "    background-color: var(--bg-color);\n",
              "    border: none;\n",
              "    border-radius: 50%;\n",
              "    cursor: pointer;\n",
              "    display: none;\n",
              "    fill: var(--fill-color);\n",
              "    height: 32px;\n",
              "    padding: 0;\n",
              "    width: 32px;\n",
              "  }\n",
              "\n",
              "  .colab-df-quickchart:hover {\n",
              "    background-color: var(--hover-bg-color);\n",
              "    box-shadow: 0 1px 2px rgba(60, 64, 67, 0.3), 0 1px 3px 1px rgba(60, 64, 67, 0.15);\n",
              "    fill: var(--button-hover-fill-color);\n",
              "  }\n",
              "\n",
              "  .colab-df-quickchart-complete:disabled,\n",
              "  .colab-df-quickchart-complete:disabled:hover {\n",
              "    background-color: var(--disabled-bg-color);\n",
              "    fill: var(--disabled-fill-color);\n",
              "    box-shadow: none;\n",
              "  }\n",
              "\n",
              "  .colab-df-spinner {\n",
              "    border: 2px solid var(--fill-color);\n",
              "    border-color: transparent;\n",
              "    border-bottom-color: var(--fill-color);\n",
              "    animation:\n",
              "      spin 1s steps(1) infinite;\n",
              "  }\n",
              "\n",
              "  @keyframes spin {\n",
              "    0% {\n",
              "      border-color: transparent;\n",
              "      border-bottom-color: var(--fill-color);\n",
              "      border-left-color: var(--fill-color);\n",
              "    }\n",
              "    20% {\n",
              "      border-color: transparent;\n",
              "      border-left-color: var(--fill-color);\n",
              "      border-top-color: var(--fill-color);\n",
              "    }\n",
              "    30% {\n",
              "      border-color: transparent;\n",
              "      border-left-color: var(--fill-color);\n",
              "      border-top-color: var(--fill-color);\n",
              "      border-right-color: var(--fill-color);\n",
              "    }\n",
              "    40% {\n",
              "      border-color: transparent;\n",
              "      border-right-color: var(--fill-color);\n",
              "      border-top-color: var(--fill-color);\n",
              "    }\n",
              "    60% {\n",
              "      border-color: transparent;\n",
              "      border-right-color: var(--fill-color);\n",
              "    }\n",
              "    80% {\n",
              "      border-color: transparent;\n",
              "      border-right-color: var(--fill-color);\n",
              "      border-bottom-color: var(--fill-color);\n",
              "    }\n",
              "    90% {\n",
              "      border-color: transparent;\n",
              "      border-bottom-color: var(--fill-color);\n",
              "    }\n",
              "  }\n",
              "</style>\n",
              "\n",
              "      <script>\n",
              "        async function quickchart(key) {\n",
              "          const quickchartButtonEl =\n",
              "            document.querySelector('#' + key + ' button');\n",
              "          quickchartButtonEl.disabled = true;  // To prevent multiple clicks.\n",
              "          quickchartButtonEl.classList.add('colab-df-spinner');\n",
              "          try {\n",
              "            const charts = await google.colab.kernel.invokeFunction(\n",
              "                'suggestCharts', [key], {});\n",
              "          } catch (error) {\n",
              "            console.error('Error during call to suggestCharts:', error);\n",
              "          }\n",
              "          quickchartButtonEl.classList.remove('colab-df-spinner');\n",
              "          quickchartButtonEl.classList.add('colab-df-quickchart-complete');\n",
              "        }\n",
              "        (() => {\n",
              "          let quickchartButtonEl =\n",
              "            document.querySelector('#df-bd4b6d3c-e69a-4572-a3da-1fc33ac81644 button');\n",
              "          quickchartButtonEl.style.display =\n",
              "            google.colab.kernel.accessAllowed ? 'block' : 'none';\n",
              "        })();\n",
              "      </script>\n",
              "    </div>\n",
              "\n",
              "    </div>\n",
              "  </div>\n"
            ],
            "text/plain": [
              "                                                   title  \\\n",
              "58664  South Korea spy agency sees signs of planned n...   \n",
              "7712   Donald Trump’s success reveals a frightening w...   \n",
              "16567             Police: Ohio Woman Raped Four-Year-Old   \n",
              "\n",
              "                                                    text  \\\n",
              "58664  SEOUL (Reuters) - North Korea may be planning ...   \n",
              "7712   As the Constitutional Convention of 1787 ended...   \n",
              "16567  An Ohio woman allegedly raped a    on January ...   \n",
              "\n",
              "                                               full_text  \n",
              "58664  South Korea spy agency sees signs of planned n...  \n",
              "7712   Donald Trump’s success reveals a frightening w...  \n",
              "16567  Police: Ohio Woman Raped Four-Year-Old An Ohio...  "
            ]
          },
          "execution_count": 30,
          "metadata": {},
          "output_type": "execute_result"
        }
      ],
      "source": [
        "df.sample(3)[['title','text','full_text']] # making sure that title and text were concatenated correctly."
      ]
    },
    {
      "cell_type": "code",
      "execution_count": null,
      "metadata": {
        "colab": {
          "base_uri": "https://localhost:8080/"
        },
        "id": "Q6nbe0pfGWto",
        "outputId": "26aa2e9f-bcdd-4f77-f563-95bec57ee0f8"
      },
      "outputs": [
        {
          "data": {
            "text/plain": [
              "True"
            ]
          },
          "execution_count": 31,
          "metadata": {},
          "output_type": "execute_result"
        }
      ],
      "source": [
        "'full_text' in df.columns"
      ]
    },
    {
      "cell_type": "code",
      "execution_count": null,
      "metadata": {
        "colab": {
          "base_uri": "https://localhost:8080/"
        },
        "id": "nNsF7LINGX-Z",
        "outputId": "9bd6aa97-7465-4ac6-a3ce-90d87155d6fd"
      },
      "outputs": [
        {
          "name": "stdout",
          "output_type": "stream",
          "text": [
            "Row 0:\n",
            " LAW ENFORCEMENT ON HIGH ALERT Following Threats Against Cops And Whites On 9-11By #BlackLivesMatter And #FYF911 Terrorists [VIDEO] No comment is expected from Barack Obama Members of the #FYF911 or #FukYoFlag and #BlackLivesMatter movements called for the lynching and hanging of white people and cops. They encouraged others on a radio show Tuesday night to  turn the tide  and kill white people and cops to send a message about the killing of black people in America.One of the F***YoFlag organizers is called  Sunshine.  She has a radio blog show hosted from Texas called,  Sunshine s F***ing Opinion Radio Show. A snapshot of her #FYF911 @LOLatWhiteFear Twitter page at 9:53 p.m. shows that she was urging supporters to  Call now!! #fyf911 tonight we continue to dismantle the illusion of white Below is a SNAPSHOT Twitter Radio Call Invite   #FYF911The radio show aired at 10:00 p.m. eastern standard time.During the show, callers clearly call for  lynching  and  killing  of white people.A 2:39 minute clip from the radio show can be heard here. It was provided to Breitbart Texas by someone who would like to be referred to as  Hannibal.  He has already received death threats as a result of interrupting #FYF911 conference calls.An unidentified black man said  when those mother f**kers are by themselves, that s when when we should start f***ing them up. Like they do us, when a bunch of them ni**ers takin  one of us out, that s how we should roll up.  He said,  Cause we already roll up in gangs anyway. There should be six or seven black mother f**ckers, see that white person, and then lynch their ass. Let s turn the tables. They conspired that if  cops started losing people,  then  there will be a state of emergency. He speculated that one of two things would happen,  a big-ass [R s?????] war,  or  ni**ers, they are going to start backin  up. We are already getting killed out here so what the f**k we got to lose? Sunshine could be heard saying,  Yep, that s true. That s so f**king true. He said,  We need to turn the tables on them. Our kids are getting shot out here. Somebody needs to become a sacrifice on their side.He said,  Everybody ain t down for that s**t, or whatever, but like I say, everybody has a different position of war.  He continued,  Because they don t give a f**k anyway.  He said again,  We might as well utilized them for that s**t and turn the tables on these n**ers. He said, that way  we can start lookin  like we ain t havin  that many casualties, and there can be more causalities on their side instead of ours. They are out their killing black people, black lives don t matter, that s what those mother f**kers   so we got to make it matter to them. Find a mother f**ker that is alone. Snap his ass, and then f***in hang him from a damn tree. Take a picture of it and then send it to the mother f**kers. We  just need one example,  and  then people will start watchin .  This will turn the tables on s**t, he said. He said this will start  a trickle-down effect.  He said that when one white person is hung and then they are just  flat-hanging,  that will start the  trickle-down effect.  He continued,  Black people are good at starting trends. He said that was how  to get the upper-hand. Another black man spoke up saying they needed to kill  cops that are killing us. The first black male said,  That will be the best method right there. Breitbart Texas previously reported how Sunshine was upset when  racist white people  infiltrated and disrupted one of her conference calls. She subsequently released the phone number of one of the infiltrators. The veteran immediately started receiving threatening calls.One of the #F***YoFlag movement supporters allegedly told a veteran who infiltrated their publicly posted conference call,  We are going to rape and gut your pregnant wife, and your f***ing piece of sh*t unborn creature will be hung from a tree. Breitbart Texas previously encountered Sunshine at a Sandra Bland protest at the Waller County Jail in Texas, where she said all white people should be killed. She told journalists and photographers,  You see this nappy-ass hair on my head?   That means I am one of those more militant Negroes.  She said she was at the protest because  these redneck mother-f**kers murdered Sandra Bland because she had nappy hair like me. #FYF911 black radicals say they will be holding the  imperial powers  that are actually responsible for the terrorist attacks on September 11th accountable on that day, as reported by Breitbart Texas. There are several websites and Twitter handles for the movement. Palmetto Star  describes himself as one of the head organizers. He said in a YouTube video that supporters will be burning their symbols of  the illusion of their superiority,  their  false white supremacy,  like the American flag, the British flag, police uniforms, and Ku Klux Klan hoods.Sierra McGrone or  Nocturnus Libertus  posted,  you too can help a young Afrikan clean their a** with the rag of oppression.  She posted two photos, one that appears to be herself, and a photo of a black man, wiping their naked butts with the American flag.For entire story: Breitbart News \n",
            "\n",
            "Row 100:\n",
            " One person shot in Portland as anti-Trump protesters cross bridge: police (Reuters) - One person was shot at an anti-Trump demonstration in Portland on Saturday as protesters crossed the Morrison Bridge, police said.   “Everyone needs to leave the area immediately,” police said on Twitter, and they asked witnesses to come forward. \n",
            "\n",
            "Row 500:\n",
            " Jewish Family’s Hanukkah Destroyed By Vandalism; Trump Supporters Make It Worse (IMAGE) A Chandler, Arizona family awoke early one morning to see that the Menorah sculpture on their lawn had been vandalized and turned into a swastika. Clearly, this was bad enough for the Jewish family, but when Fox 10 Phoenix posted the picture, things got really ugly. Not surprisingly, Donald Trump s name was mentioned a lot.[It takes]  A very ignorant, shallow person, a coward,  said Gary Guadagnino, who has lived in the neighborhood for more than two decades. The Menorah decoration belonged to her neighbor, Naomi, and her husband.According to Naomi, she and her husband built the religious symbol two years ago, and it was brought back by popular demand. Naomi said her family has no idea why someone would do this, especially in their accepting, welcoming community. Someone full of a lot of hate and prejudice would do it,  said Naomi.  I can t imagine that someone from this community or this neighborhood would do something like that. Facebook users weren t as sympathetic as the neighbors. Some thought the Holocaust symbol was amusing:Others blamed liberals and people who didn t vote for Trump:Others blamed the homeowners:Some, like this guy with a Confederate flag, thought the swastika was no big deal:The United Nations did it? Really?John Kerry even got the blame:And there were some proud Nazis saying that the Jewish family brought it on themselves for being Jewish.This guy hates Jews too:This voice of sanity got absolutely zero likes:Part of the blame for this belongs with the conservative media, who has been jumping on a few faked hate crimes to try to delegitimize true hate crimes, and trust me, there s been no shortage.As the comments show, racists and antisemitics feel empowered now, and for that we can blame Donald Trump. While the right-wing media is pointing to 10 or maybe 17 instances of faked hate crimes, the Southern Poverty Law Center has collected more than 1,000 incidents of hate crimes, just since the election. 108 of those have included a swastika and 33 have been anti-semitic. These weren t done by liberals or by people who voted for Hillary Clinton. Donald Trump brought this on.Featured image via screen capture from embedded Facebook post \n",
            "\n"
          ]
        }
      ],
      "source": [
        "for i in [0, 100, 500]:\n",
        "    print(f\"Row {i}:\\n\", df.loc[i, 'full_text'], \"\\n\")\n",
        "    # to display without colab \"truncating\" the full sentence in 'full_text'"
      ]
    },
    {
      "cell_type": "markdown",
      "metadata": {
        "id": "Wi6cC1y1GaDc"
      },
      "source": [
        "# Cleaning function for text (dealing with noise):"
      ]
    },
    {
      "cell_type": "code",
      "execution_count": null,
      "metadata": {
        "id": "wC0Sy9PfGakZ"
      },
      "outputs": [],
      "source": [
        "def clean_text(s):\n",
        "    s = str(s).lower()                           # lowercase\n",
        "    s = unicodedata.normalize(\"NFKD\", s)         # normalize weird unicode\n",
        "    s = re.sub(r'[^a-z0-9\\s]', ' ', s)              # keep only letters + spaces\n",
        "    s = re.sub(r'\\s+', ' ', s).strip()           # remove extra spaces\n",
        "    return s\n",
        "\n",
        "df['clean_text'] = df['full_text'].apply(clean_text)"
      ]
    },
    {
      "cell_type": "code",
      "execution_count": null,
      "metadata": {
        "colab": {
          "base_uri": "https://localhost:8080/",
          "height": 206
        },
        "id": "h9lhqOw1Gk2L",
        "outputId": "8d016709-fe96-4fb8-cfb9-6b9df3cebe94"
      },
      "outputs": [
        {
          "data": {
            "application/vnd.google.colaboratory.intrinsic+json": {
              "summary": "{\n  \"name\": \"df[['full_text', 'clean_text']]\",\n  \"rows\": 5,\n  \"fields\": [\n    {\n      \"column\": \"full_text\",\n      \"properties\": {\n        \"dtype\": \"string\",\n        \"num_unique_values\": 5,\n        \"samples\": [\n          \"Honduran opposition says will formally challenge election result TEGUCIGALPA (Reuters) - The head of an opposition alliance in Honduras on Tuesday said the group would file a legal challenge to annul the official results of last month s disputed vote that handed victory to the sitting president.\",\n          \"Both parties want to craft populist messages for 2016 Presidential hopefuls in both parties agree on at least one thing: Economic mobility, and the feeling of many Americans that they are being shut out from the nation\\u2019s prosperity, will be a defining theme of the 2016 campaign.\\n\\nFormer Florida governor Jeb Bush last week became the latest Republican to signal a readiness to engage Democrats on what historically has been their turf, putting issues of middle-class wage stagnation, poverty and shared prosperity at the forefront of their political messages.\\n\\nBush\\u2019s framing of the economic and social challenges facing the country nearly mirrors that of likely Democratic candidate Hillary Rodham Clinton, as well as other possible contenders on the left. Sen. Marco Rubio (R-Fla.) has written a book on the subject, \\u201cAmerican Dreams: Restoring Economic Opportunity for Everyone,\\u201d to be published this week, while Sen. Rand Paul (R-Ky.) has proposed policies for distressed communities that he sees as \\u201cthe ticket to the middle class.\\u201d\\n\\nAnd Mitt Romney, the 2012 GOP nominee who was portrayed by Democrats as insensitive to and out of touch with the lives of middle- and working-class Americans, has told friends he considers poverty a topic du jour as he weighs another run in 2016.\\n\\n\\u201cYou talk to any pollster, on the Democratic side or the Republican side, they\\u2019re in complete agreement on the idea that there has to be an economic populist message,\\u201d said Matthew Dowd, a top strategist for former president George W. Bush\\u2019s 2000 and 2004 campaigns. \\u201cThen it comes down to \\u2018Are there credible solutions and is there a credible candidate?\\u2019\\u2009\\u201d\\n\\nAbout 45\\u00a0million Americans live at or below the poverty line, according to last fall\\u2019s census estimates, while the median household income in the United States in 2013 was just under $52,000. Adjusted for inflation, the median is 8\\u00a0percent lower than it was in 2007, the last full year before the recession, and 11\\u00a0percent below what it was in 2000.\\n\\nWage stagnation has been a persistent problem for low- and middle-income workers. \\u201cSince the late 1970s, wages for the bottom 70\\u00a0percent of earners have been essentially stagnant, and between 2009 and 2013, real \\u00adwages fell for the entire bottom 90 percent of the wage distribution,\\u201d Lawrence Mishel of the liberal Economic Policy Institute wrote in a paper published this month.\\n\\nLaunching his new political action committee, Right to Rise, Jeb Bush asserted last week in the PAC\\u2019s mission statement that President Obama\\u2019s tenure has been \\u201cpretty good\\u201d for those at the top of the income scale but a \\u201clost decade\\u201d for everyone else.\\n\\n\\u201cMillions of our fellow citizens across the broad middle class feel as if the American Dream is now out of their reach; that our politics are petty and broken; that opportunities are elusive; and that the playing field is no longer fair or level,\\u201d Bush wrote. \\u201cToo many of the poor have lost hope that a path to a better life is within their grasp.\\u201d\\n\\nBush\\u2019s focus adds an unexpected element to the coming debate and puts pressure on the entire field, himself included, to come forward with fresh policies that address the nation\\u2019s core economic problems.\\n\\nThe shift also highlights a potential vulnerability for Democrats. In his campaigns, Obama twice promised to focus on wealth inequality and middle-class stagnation, but those problems persist even as the economy revs up and unemployment falls.\\n\\nClinton could be challenged now from both the right and the left to lay out solutions that go beyond Obama\\u2019s \\u2014 and also to develop a political voice of her own to articulate them. Democrats conceded after last fall\\u2019s midterm elections that they had not found a compelling economic message.\\n\\nDemocrats will look to Clinton, should she run, to take the lead in doing that \\u2014 although they also are looking to Sen. Elizabeth Warren (D-Mass.) and her harder-edged populist rhetoric.\\n\\nClinton tested such a message last year. In a major speech at the New America Foundation in May, she said that Americans are \\u201cfinding it harder than ever to get their footing in our changing economy. The dream of upward mobility that made this country a model for the world feels further and further out of reach.\\u201d\\n\\nThe language of Bush, Rubio and other Republicans appears aimed at avoiding the problem that bedeviled Romney throughout his 2012 campaign. The former Massachusetts governor\\u2019s memorable comment about the \\u201c47 percent\\u201d of the population who he said depend on government and feel like victims haunted him during the final months before the election.\\n\\nYuval Levin, editor of the conservative journal National Affairs, said the overall shift in emphasis by Republicans is an effort to move away from Romney\\u2019s more abstract message of job growth and to focus more specifically on social mobility and solutions for those at or near the bottom.\\n\\n\\u201cIt\\u2019s a process of letting the light out from under the bushel,\\u201d Levin said. Citing past conservative leadership in reforming welfare, he added: \\u201cI think Republican ideas have always held this promise, but conservatives have not always emphasized these elements. .\\u2009.\\u2009. A difference in emphasis is not insignificant.\\u201d\\n\\nDemocrats, however, argue that revising their rhetoric will not be enough for Republicans \\u2014 especially if Jeb Bush becomes the GOP nominee \\u2014 to gloss over former president George W. Bush\\u2019s legacy, which Democrats say tightened the middle-class squeeze.\\n\\n\\u201cIt\\u2019s not like the Republican Party has clean hands on the issue of rising inequality,\\u201d said Neera Tanden, president of the Center for American Progress and an adviser to Clinton on economic policy. \\u201cIt\\u2019s a weird thing to say, \\u2018I care about how the rest of the country is doing, not just the top earners,\\u2019 when your brother cut taxes for the wealthy and your party\\u2019s economic position starts with undoing Dodd-Frank,\\u201d the 2010 law that tightened regulation of Wall Street.\\n\\nObama hit the road last week to highlight economic successes of his presidency, from the auto industry bailout to more robust overall growth in the last half of 2014. Still, many Democrats acknowledge that there is a large gap between promise and results on issues of middle-class insecurities.\\n\\nThat is where Bush and some other Republicans are taking aim. Two factors have contributed to the opening they see.\\n\\nOne is the continued problem of stagnating wages for the broad middle class and the income gap between rich and non-rich. The other is new evidence that it has become harder for those at the bottom to rise into the middle class, and that the risk of some born into the middle class \\u2014 particularly minorities \\u2014 falling out of it is growing.\\n\\nDemocrats long have been seen as the party more trusted to deal with middle-class economic issues. Republicans long have resisted policies that smack of economic redistribution. Could that be changing?\\n\\n\\u201cHow do you tell the middle class, \\u2018We\\u2019re your guy?\\u2019\\u2009\\u201d said Grover Norquist, a conservative anti-tax advocate. \\u201cRepublicans feel comfortable saying that now because they feel the guys they\\u2019re running against are sufficiently discredited.\\u201d\\n\\nWilliam Galston of the Brookings Institution said that the issue of blocked social mobility is one Republicans will feel more comfortable engaging \\u2014 and on their own terms. \\u201cThat\\u2019s what Jeb Bush is saying: \\u2018We can accept a definition of a problem .\\u2009.\\u2009. but give unabashedly conservative responses to those challenges,\\u2019\\u2009\\u201d he said.\\n\\nBut Galston, a former domestic policy adviser to President Bill Clinton, said Bush\\u2019s framing of the issue this way means he has put down a marker that he will be expected to meet.\\n\\n\\u201cI would expect to hear from him over the coming months some of the best and most innovative conservative thinking on opportunity and upward mobility,\\u201d he said. \\u201cThat will be a fair test on how much gas there is in the conservative ideas tank.\\u201d\\n\\nOther Republicans have been working to reorient their party toward blue-collar economics and to put forward fresh economic ideas. Former senator Rick Santorum of Pennsylvania and former Arkansas governor Mike Huckabee, two former presidential candidates who are looking at running in 2016, long have talked about the GOP\\u2019s need to recognize the problems of working families.\\n\\nHouse Ways and Means Committee Chairman Paul Ryan (R-Wis.) has focused on policies designed to lift people out of poverty. In 2012, as Romney\\u2019s running mate, Ryan wanted to campaign in inner cities and give speeches promoting individual empowerment. He was frustrated that Romney\\u2019s campaign team directed him to talk about other topics.\\n\\nRubio has proposed a fundamental shift in anti-poverty programs. He has suggested devolving power and responsibility from Washington to the states by consolidating federal monies into a \\u201cflex fund.\\u201d The senator from Florida has called for significant reductions in federal regulations that he says will spur creation of better jobs. On education, he has offered a series of reforms designed to lessen the burden of student loan debt and expand access to apprenticeship programs. Rubio and others also have proposed changes in the earned-income tax credit to extend its reach to more people.\\n\\nDemocrats are skeptical that Republicans can meet the challenge with policy proposals that are much beyond calls for tax cuts to spur economic growth and further efforts to scale back the size of government.\\n\\n\\u201cIt sounds to me like a \\u00adtraditional Romney Republican \\u00adtrickle-down agenda but with a willingness to engage on inequality and mobility,\\u201d said Jared Bernstein, a former adviser to Vice President Biden who works at the Center of Budget and Policy Priorities.\\n\\nDemocrats say it\\u2019s too early to draw conclusions, but they note that if Bush and other Republicans find new ways to engage middle-class voters with populist themes, the pressures on Clinton will mount significantly.\\n\\n\\u201cVoters are going to [say], \\u2018Okay, thank you for acknowledging this problem, but what are you going to do about it?\\u2019\\u2009\\u201d Bernstein said. \\u201cI would argue that Democrats are going to have to have more in their toolbox than [raising the] minimum wage and universal pre-K.\\u201d\",\n          \"Madman Merkel Demands the Internet Publicly Release All Closed-Source Code Madman Merkel Demands the Internet Publicly Release All Closed-Source Code \\nAndrew Anglin Daily Stormer October 27, 2016 This woman is looking haggard af. Botta start calling her Merkel Haggard. New song for refugees refusing deportation: \\u201cI think I\\u2019ll just stay here and drink, riot, rape, sell drugs and commit acts of terrorism (allah akbar remix)\\u201d \\nThere comes a time in the life of every brutal totalitarian psychopath that they just have to lash out against everyone and everything, demand it all be shut down. \\nRT : \\nGerman Chancellor Angela Merkel launched a broadside at internet media giants, accusing them of \\u00e2\\u0080\\u009cnarrowing perspective,\\u00e2\\u0080\\u009d and demanding they disclose their privately-developed algorithms. Merkel previously blamed social media for anti-immigrant sentiment and the rise of the far right. \\n\\u00e2\\u0080\\u009cThe algorithms must be made public, so that one can inform oneself as an interested citizen on questions like: what influences my behavior on the internet and that of others?\\u201d said Merkel during a media conference in Berlin on Tuesday. \\n\\u00e2\\u0080\\u009cThese algorithms, when they are not transparent, can lead to a distortion of our perception, they narrow our breadth of information.\\u00e2\\u0080\\u009d \\nGoogle uses an algorithm to decide which search results are first shown to a user, while Facebook arranges the order of the news feed, and decides to include certain posts from a user\\u00e2\\u0080\\u0099s liked pages and friends, at the expense of others. Both sites also promote links to news articles, often based on a user\\u00e2\\u0080\\u0099s own media interests. \\nI don\\u2019t know about Facebook, but Google\\u2019s algorithm is worth billions and billions of dollars. The algorithm is why people use Google instead of Bing. If they released the algorithm, it would effectively make their main product \\u2013 their search engine \\u2013 valueless, beyond the value of its brand name. \\nThat\\u2019s why it\\u2019s not open-source in the first place. Because if they released it, everyone would use it, and their service would no longer have any unique value. \\nAsking them to release this \\u201cbecause I said\\u201d is completely and totally insane \\u2013 the demand of a madman who thinks the universe belongs to him. \\nThese algorithms are at the core of the intellectual property of any social media or search website, and comprise some of the most highly-protected trade secrets in the world, potentially worth billions. No internet giant has ever revealed its inner workings. \\nMerkel did not specifically name Facebook, Google or Twitter, but implied that the large platforms are creating \\u00e2\\u0080\\u009cbubbles\\u00e2\\u0080\\u009d of self-reinforcing views, and squeezing out smaller news providers. \\n\\u201cThe big internet platforms, via their algorithms, have become an eye of a needle which diverse media must pass through to reach users,\\u00e2\\u0080\\u009d warned Merkel. \\u00e2\\u0080\\u009cThis is a development that we need to pay careful attention to.\\u00e2\\u0080\\u009d \\nThe internet giants themselves have argued that the so-called social media bubble is largely a myth, and that online users have a wider access to differing views than under a pre-internet model, where most news would be acquired from just a handful of newspapers and one or two TV channels. \\nThis is obviously absolutely true, and it\\u2019s absolutely why Merkel is throwing a fit. \\nShe wants media to be limited to approved sources. \\nThese approved sources still have an extreme amount of control, as we see with the Trump situation, but in order to maintain her multicultural utopia, Angela Merkel needs complete 1984-style control of all information the public has access to. \\u201cWe\\u2019ve always been at war with Russia to protect ISIS, Winston.\\u201d \\nAnd that\\u2019s control over international (read: American and Russian) media, because in Germany, they can just go arrest anyone who is saying things they don\\u2019t like on the internet. They arrest people for Facebook posts. \\nThis is not the first attack on social media by Merkel and her Grand Coalition government, and while the German politician advocates diversity of views, she has previously accused it of perpetrating opinions that are most at odds with those of the establishment and traditional media. \\nLast month, Merkel accused AfD, the recently-established anti-immigrant and anti-Muslim party, which receives overwhelmingly negative coverage in most newspapers, of \\u00e2\\u0080\\u009cspreading their lies\\u00e2\\u0080\\u009d through social media , as it achieves breakthroughs in regional elections around the country. \\nA year ago, at the height of the refugee influx into the country, Merkel, who was first elected in 2005, was caught on a hot mic personally pressing Facebook CEO Mark Zuckerberg to clamp down on anti-migrant posts during a UN session in New York. \\nA fortnight ago, the leader of Merkel\\u00e2\\u0080\\u0099s parliamentary CDU faction, Volker Kauder, said that social media should be fined \\u00e2\\u0082\\u017950,000 for failing to remove \\u00e2\\u0080\\u009chate speech,\\u00e2\\u0080\\u009d saying that a \\u00e2\\u0080\\u009cSword of Damocles\\u00e2\\u0080\\u009d has to hang over social media. Kauder also called for warnings, similar to those on cigarette packs or before entering pornographic websites, to be given to those about to go on social media. \\nJustice Minister Heiko Maas \\u00e2\\u0080\\u0093 who said that there had been a 77 percent increase in hate crimes following the arrival of 900,000 asylum seekers \\u00e2\\u0080\\u0093 has given internet media companies until February next year to comply with EU directives on xenophobia and racism, or face legal action. \\nThis looks to me like the first huff of the last gasp. \\nMama Merkel tried. \\nBut Merkel Haggard has lost control. \\nNow, she\\u2019s about to see the fightin\\u2019 side of Germany.\"\n        ],\n        \"semantic_type\": \"\",\n        \"description\": \"\"\n      }\n    },\n    {\n      \"column\": \"clean_text\",\n      \"properties\": {\n        \"dtype\": \"string\",\n        \"num_unique_values\": 5,\n        \"samples\": [\n          \"honduran opposition says will formally challenge election result tegucigalpa reuters the head of an opposition alliance in honduras on tuesday said the group would file a legal challenge to annul the official results of last month s disputed vote that handed victory to the sitting president\",\n          \"both parties want to craft populist messages for 2016 presidential hopefuls in both parties agree on at least one thing economic mobility and the feeling of many americans that they are being shut out from the nation s prosperity will be a defining theme of the 2016 campaign former florida governor jeb bush last week became the latest republican to signal a readiness to engage democrats on what historically has been their turf putting issues of middle class wage stagnation poverty and shared prosperity at the forefront of their political messages bush s framing of the economic and social challenges facing the country nearly mirrors that of likely democratic candidate hillary rodham clinton as well as other possible contenders on the left sen marco rubio r fla has written a book on the subject american dreams restoring economic opportunity for everyone to be published this week while sen rand paul r ky has proposed policies for distressed communities that he sees as the ticket to the middle class and mitt romney the 2012 gop nominee who was portrayed by democrats as insensitive to and out of touch with the lives of middle and working class americans has told friends he considers poverty a topic du jour as he weighs another run in 2016 you talk to any pollster on the democratic side or the republican side they re in complete agreement on the idea that there has to be an economic populist message said matthew dowd a top strategist for former president george w bush s 2000 and 2004 campaigns then it comes down to are there credible solutions and is there a credible candidate about 45 million americans live at or below the poverty line according to last fall s census estimates while the median household income in the united states in 2013 was just under 52 000 adjusted for inflation the median is 8 percent lower than it was in 2007 the last full year before the recession and 11 percent below what it was in 2000 wage stagnation has been a persistent problem for low and middle income workers since the late 1970s wages for the bottom 70 percent of earners have been essentially stagnant and between 2009 and 2013 real wages fell for the entire bottom 90 percent of the wage distribution lawrence mishel of the liberal economic policy institute wrote in a paper published this month launching his new political action committee right to rise jeb bush asserted last week in the pac s mission statement that president obama s tenure has been pretty good for those at the top of the income scale but a lost decade for everyone else millions of our fellow citizens across the broad middle class feel as if the american dream is now out of their reach that our politics are petty and broken that opportunities are elusive and that the playing field is no longer fair or level bush wrote too many of the poor have lost hope that a path to a better life is within their grasp bush s focus adds an unexpected element to the coming debate and puts pressure on the entire field himself included to come forward with fresh policies that address the nation s core economic problems the shift also highlights a potential vulnerability for democrats in his campaigns obama twice promised to focus on wealth inequality and middle class stagnation but those problems persist even as the economy revs up and unemployment falls clinton could be challenged now from both the right and the left to lay out solutions that go beyond obama s and also to develop a political voice of her own to articulate them democrats conceded after last fall s midterm elections that they had not found a compelling economic message democrats will look to clinton should she run to take the lead in doing that although they also are looking to sen elizabeth warren d mass and her harder edged populist rhetoric clinton tested such a message last year in a major speech at the new america foundation in may she said that americans are finding it harder than ever to get their footing in our changing economy the dream of upward mobility that made this country a model for the world feels further and further out of reach the language of bush rubio and other republicans appears aimed at avoiding the problem that bedeviled romney throughout his 2012 campaign the former massachusetts governor s memorable comment about the 47 percent of the population who he said depend on government and feel like victims haunted him during the final months before the election yuval levin editor of the conservative journal national affairs said the overall shift in emphasis by republicans is an effort to move away from romney s more abstract message of job growth and to focus more specifically on social mobility and solutions for those at or near the bottom it s a process of letting the light out from under the bushel levin said citing past conservative leadership in reforming welfare he added i think republican ideas have always held this promise but conservatives have not always emphasized these elements a difference in emphasis is not insignificant democrats however argue that revising their rhetoric will not be enough for republicans especially if jeb bush becomes the gop nominee to gloss over former president george w bush s legacy which democrats say tightened the middle class squeeze it s not like the republican party has clean hands on the issue of rising inequality said neera tanden president of the center for american progress and an adviser to clinton on economic policy it s a weird thing to say i care about how the rest of the country is doing not just the top earners when your brother cut taxes for the wealthy and your party s economic position starts with undoing dodd frank the 2010 law that tightened regulation of wall street obama hit the road last week to highlight economic successes of his presidency from the auto industry bailout to more robust overall growth in the last half of 2014 still many democrats acknowledge that there is a large gap between promise and results on issues of middle class insecurities that is where bush and some other republicans are taking aim two factors have contributed to the opening they see one is the continued problem of stagnating wages for the broad middle class and the income gap between rich and non rich the other is new evidence that it has become harder for those at the bottom to rise into the middle class and that the risk of some born into the middle class particularly minorities falling out of it is growing democrats long have been seen as the party more trusted to deal with middle class economic issues republicans long have resisted policies that smack of economic redistribution could that be changing how do you tell the middle class we re your guy said grover norquist a conservative anti tax advocate republicans feel comfortable saying that now because they feel the guys they re running against are sufficiently discredited william galston of the brookings institution said that the issue of blocked social mobility is one republicans will feel more comfortable engaging and on their own terms that s what jeb bush is saying we can accept a definition of a problem but give unabashedly conservative responses to those challenges he said but galston a former domestic policy adviser to president bill clinton said bush s framing of the issue this way means he has put down a marker that he will be expected to meet i would expect to hear from him over the coming months some of the best and most innovative conservative thinking on opportunity and upward mobility he said that will be a fair test on how much gas there is in the conservative ideas tank other republicans have been working to reorient their party toward blue collar economics and to put forward fresh economic ideas former senator rick santorum of pennsylvania and former arkansas governor mike huckabee two former presidential candidates who are looking at running in 2016 long have talked about the gop s need to recognize the problems of working families house ways and means committee chairman paul ryan r wis has focused on policies designed to lift people out of poverty in 2012 as romney s running mate ryan wanted to campaign in inner cities and give speeches promoting individual empowerment he was frustrated that romney s campaign team directed him to talk about other topics rubio has proposed a fundamental shift in anti poverty programs he has suggested devolving power and responsibility from washington to the states by consolidating federal monies into a flex fund the senator from florida has called for significant reductions in federal regulations that he says will spur creation of better jobs on education he has offered a series of reforms designed to lessen the burden of student loan debt and expand access to apprenticeship programs rubio and others also have proposed changes in the earned income tax credit to extend its reach to more people democrats are skeptical that republicans can meet the challenge with policy proposals that are much beyond calls for tax cuts to spur economic growth and further efforts to scale back the size of government it sounds to me like a traditional romney republican trickle down agenda but with a willingness to engage on inequality and mobility said jared bernstein a former adviser to vice president biden who works at the center of budget and policy priorities democrats say it s too early to draw conclusions but they note that if bush and other republicans find new ways to engage middle class voters with populist themes the pressures on clinton will mount significantly voters are going to say okay thank you for acknowledging this problem but what are you going to do about it bernstein said i would argue that democrats are going to have to have more in their toolbox than raising the minimum wage and universal pre k\",\n          \"madman merkel demands the internet publicly release all closed source code madman merkel demands the internet publicly release all closed source code andrew anglin daily stormer october 27 2016 this woman is looking haggard af botta start calling her merkel haggard new song for refugees refusing deportation i think i ll just stay here and drink riot rape sell drugs and commit acts of terrorism allah akbar remix there comes a time in the life of every brutal totalitarian psychopath that they just have to lash out against everyone and everything demand it all be shut down rt german chancellor angela merkel launched a broadside at internet media giants accusing them of a narrowing perspective a and demanding they disclose their privately developed algorithms merkel previously blamed social media for anti immigrant sentiment and the rise of the far right a the algorithms must be made public so that one can inform oneself as an interested citizen on questions like what influences my behavior on the internet and that of others said merkel during a media conference in berlin on tuesday a these algorithms when they are not transparent can lead to a distortion of our perception they narrow our breadth of information a google uses an algorithm to decide which search results are first shown to a user while facebook arranges the order of the news feed and decides to include certain posts from a usera s liked pages and friends at the expense of others both sites also promote links to news articles often based on a usera s own media interests i don t know about facebook but google s algorithm is worth billions and billions of dollars the algorithm is why people use google instead of bing if they released the algorithm it would effectively make their main product their search engine valueless beyond the value of its brand name that s why it s not open source in the first place because if they released it everyone would use it and their service would no longer have any unique value asking them to release this because i said is completely and totally insane the demand of a madman who thinks the universe belongs to him these algorithms are at the core of the intellectual property of any social media or search website and comprise some of the most highly protected trade secrets in the world potentially worth billions no internet giant has ever revealed its inner workings merkel did not specifically name facebook google or twitter but implied that the large platforms are creating a bubblesa of self reinforcing views and squeezing out smaller news providers the big internet platforms via their algorithms have become an eye of a needle which diverse media must pass through to reach users a warned merkel a this is a development that we need to pay careful attention to a the internet giants themselves have argued that the so called social media bubble is largely a myth and that online users have a wider access to differing views than under a pre internet model where most news would be acquired from just a handful of newspapers and one or two tv channels this is obviously absolutely true and it s absolutely why merkel is throwing a fit she wants media to be limited to approved sources these approved sources still have an extreme amount of control as we see with the trump situation but in order to maintain her multicultural utopia angela merkel needs complete 1984 style control of all information the public has access to we ve always been at war with russia to protect isis winston and that s control over international read american and russian media because in germany they can just go arrest anyone who is saying things they don t like on the internet they arrest people for facebook posts this is not the first attack on social media by merkel and her grand coalition government and while the german politician advocates diversity of views she has previously accused it of perpetrating opinions that are most at odds with those of the establishment and traditional media last month merkel accused afd the recently established anti immigrant and anti muslim party which receives overwhelmingly negative coverage in most newspapers of a spreading their liesa through social media as it achieves breakthroughs in regional elections around the country a year ago at the height of the refugee influx into the country merkel who was first elected in 2005 was caught on a hot mic personally pressing facebook ceo mark zuckerberg to clamp down on anti migrant posts during a un session in new york a fortnight ago the leader of merkela s parliamentary cdu faction volker kauder said that social media should be fined a z 50 000 for failing to remove a hate speech a saying that a a sword of damoclesa has to hang over social media kauder also called for warnings similar to those on cigarette packs or before entering pornographic websites to be given to those about to go on social media justice minister heiko maas a who said that there had been a 77 percent increase in hate crimes following the arrival of 900 000 asylum seekers a has given internet media companies until february next year to comply with eu directives on xenophobia and racism or face legal action this looks to me like the first huff of the last gasp mama merkel tried but merkel haggard has lost control now she s about to see the fightin side of germany\"\n        ],\n        \"semantic_type\": \"\",\n        \"description\": \"\"\n      }\n    }\n  ]\n}",
              "type": "dataframe"
            },
            "text/html": [
              "\n",
              "  <div id=\"df-a5f8d4cd-30a8-4873-83a2-33cdedbd9d77\" class=\"colab-df-container\">\n",
              "    <div>\n",
              "<style scoped>\n",
              "    .dataframe tbody tr th:only-of-type {\n",
              "        vertical-align: middle;\n",
              "    }\n",
              "\n",
              "    .dataframe tbody tr th {\n",
              "        vertical-align: top;\n",
              "    }\n",
              "\n",
              "    .dataframe thead th {\n",
              "        text-align: right;\n",
              "    }\n",
              "</style>\n",
              "<table border=\"1\" class=\"dataframe\">\n",
              "  <thead>\n",
              "    <tr style=\"text-align: right;\">\n",
              "      <th></th>\n",
              "      <th>full_text</th>\n",
              "      <th>clean_text</th>\n",
              "    </tr>\n",
              "  </thead>\n",
              "  <tbody>\n",
              "    <tr>\n",
              "      <th>20470</th>\n",
              "      <td>SLICK SCAM: John Kerry Warns Global Warming Wi...</td>\n",
              "      <td>slick scam john kerry warns global warming wil...</td>\n",
              "    </tr>\n",
              "    <tr>\n",
              "      <th>9734</th>\n",
              "      <td>Honduran opposition says will formally challen...</td>\n",
              "      <td>honduran opposition says will formally challen...</td>\n",
              "    </tr>\n",
              "    <tr>\n",
              "      <th>18117</th>\n",
              "      <td>Madman Merkel Demands the Internet Publicly Re...</td>\n",
              "      <td>madman merkel demands the internet publicly re...</td>\n",
              "    </tr>\n",
              "    <tr>\n",
              "      <th>25103</th>\n",
              "      <td>No cause to fire special counsel Mueller: depu...</td>\n",
              "      <td>no cause to fire special counsel mueller deput...</td>\n",
              "    </tr>\n",
              "    <tr>\n",
              "      <th>4461</th>\n",
              "      <td>Both parties want to craft populist messages f...</td>\n",
              "      <td>both parties want to craft populist messages f...</td>\n",
              "    </tr>\n",
              "  </tbody>\n",
              "</table>\n",
              "</div>\n",
              "    <div class=\"colab-df-buttons\">\n",
              "\n",
              "  <div class=\"colab-df-container\">\n",
              "    <button class=\"colab-df-convert\" onclick=\"convertToInteractive('df-a5f8d4cd-30a8-4873-83a2-33cdedbd9d77')\"\n",
              "            title=\"Convert this dataframe to an interactive table.\"\n",
              "            style=\"display:none;\">\n",
              "\n",
              "  <svg xmlns=\"http://www.w3.org/2000/svg\" height=\"24px\" viewBox=\"0 -960 960 960\">\n",
              "    <path d=\"M120-120v-720h720v720H120Zm60-500h600v-160H180v160Zm220 220h160v-160H400v160Zm0 220h160v-160H400v160ZM180-400h160v-160H180v160Zm440 0h160v-160H620v160ZM180-180h160v-160H180v160Zm440 0h160v-160H620v160Z\"/>\n",
              "  </svg>\n",
              "    </button>\n",
              "\n",
              "  <style>\n",
              "    .colab-df-container {\n",
              "      display:flex;\n",
              "      gap: 12px;\n",
              "    }\n",
              "\n",
              "    .colab-df-convert {\n",
              "      background-color: #E8F0FE;\n",
              "      border: none;\n",
              "      border-radius: 50%;\n",
              "      cursor: pointer;\n",
              "      display: none;\n",
              "      fill: #1967D2;\n",
              "      height: 32px;\n",
              "      padding: 0 0 0 0;\n",
              "      width: 32px;\n",
              "    }\n",
              "\n",
              "    .colab-df-convert:hover {\n",
              "      background-color: #E2EBFA;\n",
              "      box-shadow: 0px 1px 2px rgba(60, 64, 67, 0.3), 0px 1px 3px 1px rgba(60, 64, 67, 0.15);\n",
              "      fill: #174EA6;\n",
              "    }\n",
              "\n",
              "    .colab-df-buttons div {\n",
              "      margin-bottom: 4px;\n",
              "    }\n",
              "\n",
              "    [theme=dark] .colab-df-convert {\n",
              "      background-color: #3B4455;\n",
              "      fill: #D2E3FC;\n",
              "    }\n",
              "\n",
              "    [theme=dark] .colab-df-convert:hover {\n",
              "      background-color: #434B5C;\n",
              "      box-shadow: 0px 1px 3px 1px rgba(0, 0, 0, 0.15);\n",
              "      filter: drop-shadow(0px 1px 2px rgba(0, 0, 0, 0.3));\n",
              "      fill: #FFFFFF;\n",
              "    }\n",
              "  </style>\n",
              "\n",
              "    <script>\n",
              "      const buttonEl =\n",
              "        document.querySelector('#df-a5f8d4cd-30a8-4873-83a2-33cdedbd9d77 button.colab-df-convert');\n",
              "      buttonEl.style.display =\n",
              "        google.colab.kernel.accessAllowed ? 'block' : 'none';\n",
              "\n",
              "      async function convertToInteractive(key) {\n",
              "        const element = document.querySelector('#df-a5f8d4cd-30a8-4873-83a2-33cdedbd9d77');\n",
              "        const dataTable =\n",
              "          await google.colab.kernel.invokeFunction('convertToInteractive',\n",
              "                                                    [key], {});\n",
              "        if (!dataTable) return;\n",
              "\n",
              "        const docLinkHtml = 'Like what you see? Visit the ' +\n",
              "          '<a target=\"_blank\" href=https://colab.research.google.com/notebooks/data_table.ipynb>data table notebook</a>'\n",
              "          + ' to learn more about interactive tables.';\n",
              "        element.innerHTML = '';\n",
              "        dataTable['output_type'] = 'display_data';\n",
              "        await google.colab.output.renderOutput(dataTable, element);\n",
              "        const docLink = document.createElement('div');\n",
              "        docLink.innerHTML = docLinkHtml;\n",
              "        element.appendChild(docLink);\n",
              "      }\n",
              "    </script>\n",
              "  </div>\n",
              "\n",
              "\n",
              "    <div id=\"df-051bd213-4e18-4f5a-8314-6f2941548454\">\n",
              "      <button class=\"colab-df-quickchart\" onclick=\"quickchart('df-051bd213-4e18-4f5a-8314-6f2941548454')\"\n",
              "                title=\"Suggest charts\"\n",
              "                style=\"display:none;\">\n",
              "\n",
              "<svg xmlns=\"http://www.w3.org/2000/svg\" height=\"24px\"viewBox=\"0 0 24 24\"\n",
              "     width=\"24px\">\n",
              "    <g>\n",
              "        <path d=\"M19 3H5c-1.1 0-2 .9-2 2v14c0 1.1.9 2 2 2h14c1.1 0 2-.9 2-2V5c0-1.1-.9-2-2-2zM9 17H7v-7h2v7zm4 0h-2V7h2v10zm4 0h-2v-4h2v4z\"/>\n",
              "    </g>\n",
              "</svg>\n",
              "      </button>\n",
              "\n",
              "<style>\n",
              "  .colab-df-quickchart {\n",
              "      --bg-color: #E8F0FE;\n",
              "      --fill-color: #1967D2;\n",
              "      --hover-bg-color: #E2EBFA;\n",
              "      --hover-fill-color: #174EA6;\n",
              "      --disabled-fill-color: #AAA;\n",
              "      --disabled-bg-color: #DDD;\n",
              "  }\n",
              "\n",
              "  [theme=dark] .colab-df-quickchart {\n",
              "      --bg-color: #3B4455;\n",
              "      --fill-color: #D2E3FC;\n",
              "      --hover-bg-color: #434B5C;\n",
              "      --hover-fill-color: #FFFFFF;\n",
              "      --disabled-bg-color: #3B4455;\n",
              "      --disabled-fill-color: #666;\n",
              "  }\n",
              "\n",
              "  .colab-df-quickchart {\n",
              "    background-color: var(--bg-color);\n",
              "    border: none;\n",
              "    border-radius: 50%;\n",
              "    cursor: pointer;\n",
              "    display: none;\n",
              "    fill: var(--fill-color);\n",
              "    height: 32px;\n",
              "    padding: 0;\n",
              "    width: 32px;\n",
              "  }\n",
              "\n",
              "  .colab-df-quickchart:hover {\n",
              "    background-color: var(--hover-bg-color);\n",
              "    box-shadow: 0 1px 2px rgba(60, 64, 67, 0.3), 0 1px 3px 1px rgba(60, 64, 67, 0.15);\n",
              "    fill: var(--button-hover-fill-color);\n",
              "  }\n",
              "\n",
              "  .colab-df-quickchart-complete:disabled,\n",
              "  .colab-df-quickchart-complete:disabled:hover {\n",
              "    background-color: var(--disabled-bg-color);\n",
              "    fill: var(--disabled-fill-color);\n",
              "    box-shadow: none;\n",
              "  }\n",
              "\n",
              "  .colab-df-spinner {\n",
              "    border: 2px solid var(--fill-color);\n",
              "    border-color: transparent;\n",
              "    border-bottom-color: var(--fill-color);\n",
              "    animation:\n",
              "      spin 1s steps(1) infinite;\n",
              "  }\n",
              "\n",
              "  @keyframes spin {\n",
              "    0% {\n",
              "      border-color: transparent;\n",
              "      border-bottom-color: var(--fill-color);\n",
              "      border-left-color: var(--fill-color);\n",
              "    }\n",
              "    20% {\n",
              "      border-color: transparent;\n",
              "      border-left-color: var(--fill-color);\n",
              "      border-top-color: var(--fill-color);\n",
              "    }\n",
              "    30% {\n",
              "      border-color: transparent;\n",
              "      border-left-color: var(--fill-color);\n",
              "      border-top-color: var(--fill-color);\n",
              "      border-right-color: var(--fill-color);\n",
              "    }\n",
              "    40% {\n",
              "      border-color: transparent;\n",
              "      border-right-color: var(--fill-color);\n",
              "      border-top-color: var(--fill-color);\n",
              "    }\n",
              "    60% {\n",
              "      border-color: transparent;\n",
              "      border-right-color: var(--fill-color);\n",
              "    }\n",
              "    80% {\n",
              "      border-color: transparent;\n",
              "      border-right-color: var(--fill-color);\n",
              "      border-bottom-color: var(--fill-color);\n",
              "    }\n",
              "    90% {\n",
              "      border-color: transparent;\n",
              "      border-bottom-color: var(--fill-color);\n",
              "    }\n",
              "  }\n",
              "</style>\n",
              "\n",
              "      <script>\n",
              "        async function quickchart(key) {\n",
              "          const quickchartButtonEl =\n",
              "            document.querySelector('#' + key + ' button');\n",
              "          quickchartButtonEl.disabled = true;  // To prevent multiple clicks.\n",
              "          quickchartButtonEl.classList.add('colab-df-spinner');\n",
              "          try {\n",
              "            const charts = await google.colab.kernel.invokeFunction(\n",
              "                'suggestCharts', [key], {});\n",
              "          } catch (error) {\n",
              "            console.error('Error during call to suggestCharts:', error);\n",
              "          }\n",
              "          quickchartButtonEl.classList.remove('colab-df-spinner');\n",
              "          quickchartButtonEl.classList.add('colab-df-quickchart-complete');\n",
              "        }\n",
              "        (() => {\n",
              "          let quickchartButtonEl =\n",
              "            document.querySelector('#df-051bd213-4e18-4f5a-8314-6f2941548454 button');\n",
              "          quickchartButtonEl.style.display =\n",
              "            google.colab.kernel.accessAllowed ? 'block' : 'none';\n",
              "        })();\n",
              "      </script>\n",
              "    </div>\n",
              "\n",
              "    </div>\n",
              "  </div>\n"
            ],
            "text/plain": [
              "                                               full_text  \\\n",
              "20470  SLICK SCAM: John Kerry Warns Global Warming Wi...   \n",
              "9734   Honduran opposition says will formally challen...   \n",
              "18117  Madman Merkel Demands the Internet Publicly Re...   \n",
              "25103  No cause to fire special counsel Mueller: depu...   \n",
              "4461   Both parties want to craft populist messages f...   \n",
              "\n",
              "                                              clean_text  \n",
              "20470  slick scam john kerry warns global warming wil...  \n",
              "9734   honduran opposition says will formally challen...  \n",
              "18117  madman merkel demands the internet publicly re...  \n",
              "25103  no cause to fire special counsel mueller deput...  \n",
              "4461   both parties want to craft populist messages f...  "
            ]
          },
          "execution_count": 34,
          "metadata": {},
          "output_type": "execute_result"
        }
      ],
      "source": [
        "df[['full_text', 'clean_text']].sample(5) # spot check"
      ]
    },
    {
      "cell_type": "markdown",
      "metadata": {
        "id": "I3N3QjqXGogv"
      },
      "source": [
        "Summary: Imported + loaded dataset.\n",
        "\n",
        "Inspected structure (shape, info, nunique, dtypes).\n",
        "\n",
        "Handled missing values (title, text).\n",
        "\n",
        "Dropped useless column (Unnamed: 0).\n",
        "\n",
        "Dropped duplicates (title+text).\n",
        "\n",
        "Confirm dataset is clean (no NaN, no duplicates).\n",
        "\n",
        "Create full_text column = title + text.\n",
        "\n",
        "Removed noise from the dataset\n",
        "\n",
        "Save/export cleaned dataset for the team."
      ]
    },
    {
      "cell_type": "markdown",
      "metadata": {
        "id": "-Hgz2lZEJoGP"
      },
      "source": [
        "# Dropping/Filtering other languages:"
      ]
    },
    {
      "cell_type": "code",
      "execution_count": null,
      "metadata": {
        "id": "Jatw9Ng_Jsm7"
      },
      "outputs": [],
      "source": [
        "# langdetect -> tried to use langid, dropped almost every column from the dataset (72k -> dropped to 41)\n",
        "DetectorFactory.seed = 0  # deterministic"
      ]
    },
    {
      "cell_type": "code",
      "execution_count": null,
      "metadata": {
        "colab": {
          "background_save": true
        },
        "id": "3WAjlEh8Jzb_",
        "outputId": "46a63fec-dfab-4a98-b9e6-3f33cc96b979"
      },
      "outputs": [
        {
          "name": "stdout",
          "output_type": "stream",
          "text": [
            "Kept English rows: 63052 / 63678 (99.0%)\n"
          ]
        }
      ],
      "source": [
        "import pandas as pd\n",
        "import numpy as np\n",
        "import re # regex module\n",
        "import unicodedata # handling unicoded text\n",
        "from langdetect import detect_langs, DetectorFactory\n",
        "\n",
        "def is_confident_english(text, thr=0.90):  # function to filter out other languages other than english\n",
        "    try:\n",
        "        for cand in detect_langs(str(text)):\n",
        "            if cand.lang == 'en' and cand.prob >= thr:\n",
        "                return True\n",
        "        return False\n",
        "    except:\n",
        "        return False\n",
        "\n",
        "# Load the dataframe if it's not already loaded\n",
        "if 'df' not in locals() and 'df' not in globals():\n",
        "    df = pd.read_csv(\"/content/drive/MyDrive/WELFake_Dataset.csv\")\n",
        "\n",
        "# Ensure 'Unnamed: 0' is dropped and handle missing values\n",
        "if 'Unnamed: 0' in df.columns:\n",
        "    df = df.drop(columns=['Unnamed: 0'])\n",
        "df['title'] = df['title'].fillna('')\n",
        "df['text'] = df['text'].fillna('')\n",
        "\n",
        "# Create 'full_text' column\n",
        "df['full_text'] = (df['title'] + \" \" + df['text']).str.strip()\n",
        "\n",
        "# Create 'clean_text' column by applying the cleaning function\n",
        "def clean_text(s):\n",
        "    s = str(s).lower()                           # lowercase\n",
        "    s = unicodedata.normalize(\"NFKD\", s)         # normalize weird unicode\n",
        "    s = re.sub(r'[^a-z0-9\\s]', ' ', s)              # keep only letters + spaces\n",
        "    s = re.sub(r'\\s+', ' ', s).strip()           # remove extra spaces\n",
        "    return s\n",
        "\n",
        "df['clean_text'] = df['full_text'].apply(clean_text)\n",
        "\n",
        "\n",
        "before = df.shape[0]\n",
        "df = df[df['clean_text'].apply(is_confident_english)].reset_index(drop=True)\n",
        "after = df.shape[0]\n",
        "print(f\"Kept English rows: {after} / {before} ({after/before:.1%})\")"
      ]
    },
    {
      "cell_type": "code",
      "execution_count": null,
      "metadata": {
        "id": "4vv3flbx-cZs"
      },
      "outputs": [],
      "source": []
    },
    {
      "cell_type": "code",
      "execution_count": null,
      "metadata": {
        "colab": {
          "base_uri": "https://localhost:8080/",
          "height": 141
        },
        "id": "xRlR5CHpJ1S2",
        "outputId": "4cd3e189-2750-4b44-af4e-8af76d79f6d8"
      },
      "outputs": [
        {
          "ename": "NameError",
          "evalue": "name 'df' is not defined",
          "output_type": "error",
          "traceback": [
            "\u001b[0;31m---------------------------------------------------------------------------\u001b[0m",
            "\u001b[0;31mNameError\u001b[0m                                 Traceback (most recent call last)",
            "\u001b[0;32m/tmp/ipython-input-3889733689.py\u001b[0m in \u001b[0;36m<cell line: 0>\u001b[0;34m()\u001b[0m\n\u001b[0;32m----> 1\u001b[0;31m \u001b[0mdf\u001b[0m\u001b[0;34m.\u001b[0m\u001b[0mhead\u001b[0m\u001b[0;34m(\u001b[0m\u001b[0;34m)\u001b[0m \u001b[0;31m# re-checking scaling of dataset after filtering\u001b[0m\u001b[0;34m\u001b[0m\u001b[0;34m\u001b[0m\u001b[0m\n\u001b[0m",
            "\u001b[0;31mNameError\u001b[0m: name 'df' is not defined"
          ]
        }
      ],
      "source": [
        "df.head() # re-checking scaling of dataset after filtering"
      ]
    },
    {
      "cell_type": "code",
      "execution_count": null,
      "metadata": {
        "id": "LRVru7O-J74R"
      },
      "outputs": [],
      "source": [
        "df.shape"
      ]
    },
    {
      "cell_type": "code",
      "execution_count": null,
      "metadata": {
        "id": "LZzNIiH2GpBu"
      },
      "outputs": [],
      "source": [
        "df.to_csv(\"cleaned_fake_news.csv\", index=False)"
      ]
    },
    {
      "cell_type": "code",
      "execution_count": null,
      "metadata": {
        "id": "wV-7WyuzNFpz"
      },
      "outputs": [],
      "source": [
        "df.to_csv(\"cleaned_fake_news_english.csv\", index=False) #english"
      ]
    },
    {
      "cell_type": "code",
      "execution_count": null,
      "metadata": {
        "id": "gOwOZD9_Gxo0"
      },
      "outputs": [],
      "source": [
        "from google.colab import files\n",
        "files.download(\"cleaned_fake_news.csv\")"
      ]
    },
    {
      "cell_type": "code",
      "execution_count": null,
      "metadata": {
        "id": "6TUqL4GnNKxt"
      },
      "outputs": [],
      "source": [
        "from google.colab import files\n",
        "files.download(\"cleaned_fake_news_english.csv\") #english"
      ]
    },
    {
      "cell_type": "code",
      "execution_count": null,
      "metadata": {
        "id": "Sf1YQHKmI3jj"
      },
      "outputs": [],
      "source": [
        "df.to_csv(\"/content/drive/MyDrive/cleaned_fake_news.csv\", index=False)"
      ]
    },
    {
      "cell_type": "code",
      "execution_count": null,
      "metadata": {
        "id": "e7Vv2oN7NOBF"
      },
      "outputs": [],
      "source": [
        "df.to_csv(\"/content/drive/MyDrive/cleaned_fake_news_english.csv\", index=False) #english"
      ]
    },
    {
      "cell_type": "markdown",
      "metadata": {
        "id": "Vh85dKqiJwnx"
      },
      "source": [
        "# Validating and checking (before vs. after):"
      ]
    },
    {
      "cell_type": "code",
      "execution_count": null,
      "metadata": {
        "id": "kvJFSODxJxOZ"
      },
      "outputs": [],
      "source": [
        "from wordcloud import WordCloud\n",
        "import matplotlib.pyplot as plt"
      ]
    },
    {
      "cell_type": "code",
      "execution_count": null,
      "metadata": {
        "id": "d651nLbiJzQk"
      },
      "outputs": [],
      "source": [
        "raw_text = \" \".join(df['full_text'].sample(2000, random_state=42))\n",
        "wc_raw = WordCloud(width=800, height=400, background_color='white').generate(raw_text) # raw text, uncleaned"
      ]
    },
    {
      "cell_type": "code",
      "execution_count": null,
      "metadata": {
        "id": "H8kCymbgJ0ig"
      },
      "outputs": [],
      "source": [
        "clean_text = \" \".join(df['clean_text'].sample(2000, random_state=42))\n",
        "wc_clean = WordCloud(width=800, height=400, background_color='white').generate(clean_text) # cleaned text"
      ]
    },
    {
      "cell_type": "code",
      "execution_count": null,
      "metadata": {
        "id": "9Ikgz5I4J1rU"
      },
      "outputs": [],
      "source": [
        "plt.figure(figsize=(16,8)) # plotting"
      ]
    },
    {
      "cell_type": "code",
      "execution_count": null,
      "metadata": {
        "id": "FNrIQpE0J2va"
      },
      "outputs": [],
      "source": [
        "plt.subplot(1,2,1)\n",
        "plt.imshow(wc_raw, interpolation='bilinear')\n",
        "plt.title(\"Before Cleaning\", fontsize=16)\n",
        "plt.axis('off')\n",
        "\n",
        "plt.subplot(1,2,2)\n",
        "plt.imshow(wc_clean, interpolation='bilinear')\n",
        "plt.title(\"After Cleaning\", fontsize=16)\n",
        "plt.axis('off')\n",
        "\n",
        "plt.show()"
      ]
    },
    {
      "cell_type": "markdown",
      "metadata": {
        "id": "-YCY4pKVJhNG"
      },
      "source": [
        "# to reload later"
      ]
    },
    {
      "cell_type": "code",
      "execution_count": null,
      "metadata": {
        "colab": {
          "base_uri": "https://localhost:8080/",
          "height": 321
        },
        "id": "ld0zTIMlJisx",
        "outputId": "c23a7c84-da3f-4596-e05c-9f265803c217"
      },
      "outputs": [
        {
          "ename": "FileNotFoundError",
          "evalue": "[Errno 2] No such file or directory: '/content/drive/MyDrive/cleaned_fake_news.csv'",
          "output_type": "error",
          "traceback": [
            "\u001b[0;31m---------------------------------------------------------------------------\u001b[0m",
            "\u001b[0;31mFileNotFoundError\u001b[0m                         Traceback (most recent call last)",
            "\u001b[0;32m/tmp/ipython-input-3188567442.py\u001b[0m in \u001b[0;36m<cell line: 0>\u001b[0;34m()\u001b[0m\n\u001b[1;32m      1\u001b[0m \u001b[0;32mimport\u001b[0m \u001b[0mpandas\u001b[0m \u001b[0;32mas\u001b[0m \u001b[0mpd\u001b[0m\u001b[0;34m\u001b[0m\u001b[0;34m\u001b[0m\u001b[0m\n\u001b[0;32m----> 2\u001b[0;31m \u001b[0mdf\u001b[0m \u001b[0;34m=\u001b[0m \u001b[0mpd\u001b[0m\u001b[0;34m.\u001b[0m\u001b[0mread_csv\u001b[0m\u001b[0;34m(\u001b[0m\u001b[0;34m\"/content/drive/MyDrive/cleaned_fake_news.csv\"\u001b[0m\u001b[0;34m)\u001b[0m\u001b[0;34m\u001b[0m\u001b[0;34m\u001b[0m\u001b[0m\n\u001b[0m\u001b[1;32m      3\u001b[0m \u001b[0mdf\u001b[0m\u001b[0;34m.\u001b[0m\u001b[0mhead\u001b[0m\u001b[0;34m(\u001b[0m\u001b[0;34m)\u001b[0m\u001b[0;34m\u001b[0m\u001b[0;34m\u001b[0m\u001b[0m\n",
            "\u001b[0;32m/usr/local/lib/python3.12/dist-packages/pandas/io/parsers/readers.py\u001b[0m in \u001b[0;36mread_csv\u001b[0;34m(filepath_or_buffer, sep, delimiter, header, names, index_col, usecols, dtype, engine, converters, true_values, false_values, skipinitialspace, skiprows, skipfooter, nrows, na_values, keep_default_na, na_filter, verbose, skip_blank_lines, parse_dates, infer_datetime_format, keep_date_col, date_parser, date_format, dayfirst, cache_dates, iterator, chunksize, compression, thousands, decimal, lineterminator, quotechar, quoting, doublequote, escapechar, comment, encoding, encoding_errors, dialect, on_bad_lines, delim_whitespace, low_memory, memory_map, float_precision, storage_options, dtype_backend)\u001b[0m\n\u001b[1;32m   1024\u001b[0m     \u001b[0mkwds\u001b[0m\u001b[0;34m.\u001b[0m\u001b[0mupdate\u001b[0m\u001b[0;34m(\u001b[0m\u001b[0mkwds_defaults\u001b[0m\u001b[0;34m)\u001b[0m\u001b[0;34m\u001b[0m\u001b[0;34m\u001b[0m\u001b[0m\n\u001b[1;32m   1025\u001b[0m \u001b[0;34m\u001b[0m\u001b[0m\n\u001b[0;32m-> 1026\u001b[0;31m     \u001b[0;32mreturn\u001b[0m \u001b[0m_read\u001b[0m\u001b[0;34m(\u001b[0m\u001b[0mfilepath_or_buffer\u001b[0m\u001b[0;34m,\u001b[0m \u001b[0mkwds\u001b[0m\u001b[0;34m)\u001b[0m\u001b[0;34m\u001b[0m\u001b[0;34m\u001b[0m\u001b[0m\n\u001b[0m\u001b[1;32m   1027\u001b[0m \u001b[0;34m\u001b[0m\u001b[0m\n\u001b[1;32m   1028\u001b[0m \u001b[0;34m\u001b[0m\u001b[0m\n",
            "\u001b[0;32m/usr/local/lib/python3.12/dist-packages/pandas/io/parsers/readers.py\u001b[0m in \u001b[0;36m_read\u001b[0;34m(filepath_or_buffer, kwds)\u001b[0m\n\u001b[1;32m    618\u001b[0m \u001b[0;34m\u001b[0m\u001b[0m\n\u001b[1;32m    619\u001b[0m     \u001b[0;31m# Create the parser.\u001b[0m\u001b[0;34m\u001b[0m\u001b[0;34m\u001b[0m\u001b[0m\n\u001b[0;32m--> 620\u001b[0;31m     \u001b[0mparser\u001b[0m \u001b[0;34m=\u001b[0m \u001b[0mTextFileReader\u001b[0m\u001b[0;34m(\u001b[0m\u001b[0mfilepath_or_buffer\u001b[0m\u001b[0;34m,\u001b[0m \u001b[0;34m**\u001b[0m\u001b[0mkwds\u001b[0m\u001b[0;34m)\u001b[0m\u001b[0;34m\u001b[0m\u001b[0;34m\u001b[0m\u001b[0m\n\u001b[0m\u001b[1;32m    621\u001b[0m \u001b[0;34m\u001b[0m\u001b[0m\n\u001b[1;32m    622\u001b[0m     \u001b[0;32mif\u001b[0m \u001b[0mchunksize\u001b[0m \u001b[0;32mor\u001b[0m \u001b[0miterator\u001b[0m\u001b[0;34m:\u001b[0m\u001b[0;34m\u001b[0m\u001b[0;34m\u001b[0m\u001b[0m\n",
            "\u001b[0;32m/usr/local/lib/python3.12/dist-packages/pandas/io/parsers/readers.py\u001b[0m in \u001b[0;36m__init__\u001b[0;34m(self, f, engine, **kwds)\u001b[0m\n\u001b[1;32m   1618\u001b[0m \u001b[0;34m\u001b[0m\u001b[0m\n\u001b[1;32m   1619\u001b[0m         \u001b[0mself\u001b[0m\u001b[0;34m.\u001b[0m\u001b[0mhandles\u001b[0m\u001b[0;34m:\u001b[0m \u001b[0mIOHandles\u001b[0m \u001b[0;34m|\u001b[0m \u001b[0;32mNone\u001b[0m \u001b[0;34m=\u001b[0m \u001b[0;32mNone\u001b[0m\u001b[0;34m\u001b[0m\u001b[0;34m\u001b[0m\u001b[0m\n\u001b[0;32m-> 1620\u001b[0;31m         \u001b[0mself\u001b[0m\u001b[0;34m.\u001b[0m\u001b[0m_engine\u001b[0m \u001b[0;34m=\u001b[0m \u001b[0mself\u001b[0m\u001b[0;34m.\u001b[0m\u001b[0m_make_engine\u001b[0m\u001b[0;34m(\u001b[0m\u001b[0mf\u001b[0m\u001b[0;34m,\u001b[0m \u001b[0mself\u001b[0m\u001b[0;34m.\u001b[0m\u001b[0mengine\u001b[0m\u001b[0;34m)\u001b[0m\u001b[0;34m\u001b[0m\u001b[0;34m\u001b[0m\u001b[0m\n\u001b[0m\u001b[1;32m   1621\u001b[0m \u001b[0;34m\u001b[0m\u001b[0m\n\u001b[1;32m   1622\u001b[0m     \u001b[0;32mdef\u001b[0m \u001b[0mclose\u001b[0m\u001b[0;34m(\u001b[0m\u001b[0mself\u001b[0m\u001b[0;34m)\u001b[0m \u001b[0;34m->\u001b[0m \u001b[0;32mNone\u001b[0m\u001b[0;34m:\u001b[0m\u001b[0;34m\u001b[0m\u001b[0;34m\u001b[0m\u001b[0m\n",
            "\u001b[0;32m/usr/local/lib/python3.12/dist-packages/pandas/io/parsers/readers.py\u001b[0m in \u001b[0;36m_make_engine\u001b[0;34m(self, f, engine)\u001b[0m\n\u001b[1;32m   1878\u001b[0m                 \u001b[0;32mif\u001b[0m \u001b[0;34m\"b\"\u001b[0m \u001b[0;32mnot\u001b[0m \u001b[0;32min\u001b[0m \u001b[0mmode\u001b[0m\u001b[0;34m:\u001b[0m\u001b[0;34m\u001b[0m\u001b[0;34m\u001b[0m\u001b[0m\n\u001b[1;32m   1879\u001b[0m                     \u001b[0mmode\u001b[0m \u001b[0;34m+=\u001b[0m \u001b[0;34m\"b\"\u001b[0m\u001b[0;34m\u001b[0m\u001b[0;34m\u001b[0m\u001b[0m\n\u001b[0;32m-> 1880\u001b[0;31m             self.handles = get_handle(\n\u001b[0m\u001b[1;32m   1881\u001b[0m                 \u001b[0mf\u001b[0m\u001b[0;34m,\u001b[0m\u001b[0;34m\u001b[0m\u001b[0;34m\u001b[0m\u001b[0m\n\u001b[1;32m   1882\u001b[0m                 \u001b[0mmode\u001b[0m\u001b[0;34m,\u001b[0m\u001b[0;34m\u001b[0m\u001b[0;34m\u001b[0m\u001b[0m\n",
            "\u001b[0;32m/usr/local/lib/python3.12/dist-packages/pandas/io/common.py\u001b[0m in \u001b[0;36mget_handle\u001b[0;34m(path_or_buf, mode, encoding, compression, memory_map, is_text, errors, storage_options)\u001b[0m\n\u001b[1;32m    871\u001b[0m         \u001b[0;32mif\u001b[0m \u001b[0mioargs\u001b[0m\u001b[0;34m.\u001b[0m\u001b[0mencoding\u001b[0m \u001b[0;32mand\u001b[0m \u001b[0;34m\"b\"\u001b[0m \u001b[0;32mnot\u001b[0m \u001b[0;32min\u001b[0m \u001b[0mioargs\u001b[0m\u001b[0;34m.\u001b[0m\u001b[0mmode\u001b[0m\u001b[0;34m:\u001b[0m\u001b[0;34m\u001b[0m\u001b[0;34m\u001b[0m\u001b[0m\n\u001b[1;32m    872\u001b[0m             \u001b[0;31m# Encoding\u001b[0m\u001b[0;34m\u001b[0m\u001b[0;34m\u001b[0m\u001b[0m\n\u001b[0;32m--> 873\u001b[0;31m             handle = open(\n\u001b[0m\u001b[1;32m    874\u001b[0m                 \u001b[0mhandle\u001b[0m\u001b[0;34m,\u001b[0m\u001b[0;34m\u001b[0m\u001b[0;34m\u001b[0m\u001b[0m\n\u001b[1;32m    875\u001b[0m                 \u001b[0mioargs\u001b[0m\u001b[0;34m.\u001b[0m\u001b[0mmode\u001b[0m\u001b[0;34m,\u001b[0m\u001b[0;34m\u001b[0m\u001b[0;34m\u001b[0m\u001b[0m\n",
            "\u001b[0;31mFileNotFoundError\u001b[0m: [Errno 2] No such file or directory: '/content/drive/MyDrive/cleaned_fake_news.csv'"
          ]
        }
      ],
      "source": [
        "import pandas as pd\n",
        "df = pd.read_csv(\"/content/drive/MyDrive/cleaned_fake_news.csv\")\n",
        "df.head()"
      ]
    },
    {
      "cell_type": "markdown",
      "metadata": {
        "id": "fYRlbmZ7uKNG"
      },
      "source": [
        "From here, Raid, I'm gonna clean the text more by removing stopwords, also stemming"
      ]
    },
    {
      "cell_type": "code",
      "execution_count": null,
      "metadata": {
        "id": "Us8Ljgl7wmU1"
      },
      "outputs": [],
      "source": [
        "df.isna().sum()"
      ]
    },
    {
      "cell_type": "markdown",
      "metadata": {
        "id": "vsFUWPoew03x"
      },
      "source": [
        "43 missing values in clean_text so am gonna drop it"
      ]
    },
    {
      "cell_type": "code",
      "execution_count": null,
      "metadata": {
        "id": "W4c-0juxw0Yv"
      },
      "outputs": [],
      "source": [
        "df = df.dropna(subset=['clean_text'])"
      ]
    },
    {
      "cell_type": "code",
      "execution_count": null,
      "metadata": {
        "id": "i9hQVOZ9xNWr"
      },
      "outputs": [],
      "source": [
        "df.isna().sum()"
      ]
    },
    {
      "cell_type": "code",
      "execution_count": null,
      "metadata": {
        "id": "Zggil-xMqpPi"
      },
      "outputs": [],
      "source": [
        "import re\n",
        "import nltk\n",
        "from nltk.corpus import stopwords\n",
        "from nltk.stem import PorterStemmer\n",
        "\n",
        "nltk.download('stopwords')\n",
        "\n",
        "stop_words = set(stopwords.words('english'))\n",
        "stemmer = PorterStemmer()\n",
        "\n",
        "def clean_text(s):\n",
        "    words = [w for w in s.split() if w not in stop_words]  # remove stopwords\n",
        "    words = [stemmer.stem(w) for w in words]  # stemming\n",
        "    return \" \".join(words)\n",
        "\n",
        "df['clean_text_v2'] = df['clean_text'].apply(clean_text)\n"
      ]
    },
    {
      "cell_type": "markdown",
      "metadata": {
        "id": "Nvcn58K8AkGy"
      },
      "source": [
        "here i add a new column same like clean_text but after stemming and removing stopwords it will help in ML track , but for BERT track we will use clean_text"
      ]
    },
    {
      "cell_type": "code",
      "execution_count": null,
      "metadata": {
        "collapsed": true,
        "id": "Kl6dG14FzbaO"
      },
      "outputs": [],
      "source": [
        "df[['clean_text', 'clean_text_v2']].sample(5) # spot check"
      ]
    },
    {
      "cell_type": "code",
      "execution_count": null,
      "metadata": {
        "id": "kHmP_Hw333xl"
      },
      "outputs": [],
      "source": [
        "df.rename(columns={'clean_text_v2': 'stemmed_text'}, inplace=True)"
      ]
    },
    {
      "cell_type": "code",
      "execution_count": null,
      "metadata": {
        "id": "RFZgBcqS4FvP"
      },
      "outputs": [],
      "source": [
        "df.info()"
      ]
    },
    {
      "cell_type": "code",
      "execution_count": null,
      "metadata": {
        "id": "sWK_edX9GpFO"
      },
      "outputs": [],
      "source": [
        "df['stemmed_text'].sample(5) # spot check"
      ]
    },
    {
      "cell_type": "code",
      "execution_count": null,
      "metadata": {
        "id": "EaMElp0J5jj2"
      },
      "outputs": [],
      "source": [
        "df['label'].value_counts()"
      ]
    },
    {
      "cell_type": "markdown",
      "metadata": {
        "id": "s2L7d6ONEmTL"
      },
      "source": [
        "The Difference between fake and real is 34791-28844 = 5947"
      ]
    },
    {
      "cell_type": "code",
      "execution_count": null,
      "metadata": {
        "id": "GCa_YH8a5b0_"
      },
      "outputs": [],
      "source": [
        "import matplotlib.pyplot as plt\n",
        "\n",
        "df['label'].value_counts().plot(kind='bar', color=['tomato','skyblue'])\n",
        "plt.title(\"Distribution of Real vs Fake News\")\n",
        "plt.xlabel(\"Label\")\n",
        "plt.ylabel(\"Count\")\n",
        "plt.xticks([0,1], ['Fake', 'Real'], rotation=0)\n",
        "plt.show()\n"
      ]
    },
    {
      "cell_type": "code",
      "execution_count": null,
      "metadata": {
        "id": "ro0EndozKIUK"
      },
      "outputs": [],
      "source": [
        "# df.drop(\"word_count_clean\", axis=1, inplace=True)"
      ]
    },
    {
      "cell_type": "code",
      "execution_count": null,
      "metadata": {
        "id": "e6JYkrjK9c7i"
      },
      "outputs": [],
      "source": [
        "df['word_count'] = df['clean_text'].apply(lambda x: len(str(x).split()))"
      ]
    },
    {
      "cell_type": "markdown",
      "metadata": {
        "id": "8_wSDFhc-hHw"
      },
      "source": [
        "Word count for clean_text\n"
      ]
    },
    {
      "cell_type": "code",
      "execution_count": null,
      "metadata": {
        "id": "fp41CTiu9vxY"
      },
      "outputs": [],
      "source": [
        "df[['clean_text','word_count']].sample(5)"
      ]
    },
    {
      "cell_type": "code",
      "execution_count": null,
      "metadata": {
        "id": "An__Wb5R-zsh"
      },
      "outputs": [],
      "source": [
        "df['word_count'].describe()"
      ]
    },
    {
      "cell_type": "code",
      "execution_count": null,
      "metadata": {
        "id": "co73B_Iq_gnP"
      },
      "outputs": [],
      "source": [
        "df.rename(columns={'word_count': 'word_count_clean'}, inplace=True)"
      ]
    },
    {
      "cell_type": "code",
      "execution_count": null,
      "metadata": {
        "id": "zRJookLI_ngC"
      },
      "outputs": [],
      "source": [
        "df.info()"
      ]
    },
    {
      "cell_type": "code",
      "execution_count": null,
      "metadata": {
        "id": "5HqBiuGUJaIu"
      },
      "outputs": [],
      "source": [
        "df.to_csv(\"/content/drive/MyDrive/cleaned_fake_news_v3.csv\", index=False)"
      ]
    },
    {
      "cell_type": "markdown",
      "metadata": {
        "id": "N3SULY1lk92l"
      },
      "source": [
        "# to reload later"
      ]
    },
    {
      "cell_type": "code",
      "execution_count": null,
      "metadata": {
        "id": "wm8fnQyyk8-i",
        "colab": {
          "base_uri": "https://localhost:8080/",
          "height": 293
        },
        "outputId": "f313c129-b901-465f-8c98-d09b7e2f930e"
      },
      "outputs": [
        {
          "output_type": "execute_result",
          "data": {
            "text/plain": [
              "                                               title  \\\n",
              "0  LAW ENFORCEMENT ON HIGH ALERT Following Threat...   \n",
              "1                                                NaN   \n",
              "2  UNBELIEVABLE! OBAMA’S ATTORNEY GENERAL SAYS MO...   \n",
              "3  Bobby Jindal, raised Hindu, uses story of Chri...   \n",
              "4  SATAN 2: Russia unvelis an image of its terrif...   \n",
              "\n",
              "                                                text  label  \\\n",
              "0  No comment is expected from Barack Obama Membe...      1   \n",
              "1     Did they post their votes for Hillary already?      1   \n",
              "2   Now, most of the demonstrators gathered last ...      1   \n",
              "3  A dozen politically active pastors came here f...      0   \n",
              "4  The RS-28 Sarmat missile, dubbed Satan 2, will...      1   \n",
              "\n",
              "                                           full_text  \\\n",
              "0  LAW ENFORCEMENT ON HIGH ALERT Following Threat...   \n",
              "1     Did they post their votes for Hillary already?   \n",
              "2  UNBELIEVABLE! OBAMA’S ATTORNEY GENERAL SAYS MO...   \n",
              "3  Bobby Jindal, raised Hindu, uses story of Chri...   \n",
              "4  SATAN 2: Russia unvelis an image of its terrif...   \n",
              "\n",
              "                                          clean_text  \\\n",
              "0  law enforcement on high alert following threat...   \n",
              "1      did they post their votes for hillary already   \n",
              "2  unbelievable obama s attorney general says mos...   \n",
              "3  bobby jindal raised hindu uses story of christ...   \n",
              "4  satan russia unvelis an image of its terrifyin...   \n",
              "\n",
              "                                        stemmed_text  word_count_clean  \n",
              "0  law enforc high alert follow threat cop white ...               925  \n",
              "1                          post vote hillari alreadi                 8  \n",
              "2  unbeliev obama attorney gener say charlott rio...                54  \n",
              "3  bobbi jindal rais hindu use stori christian co...              1348  \n",
              "4  satan russia unv imag terrifi new supernuk wes...               327  "
            ],
            "text/html": [
              "\n",
              "  <div id=\"df-c758e016-e750-43e7-8585-84569f8ceff4\" class=\"colab-df-container\">\n",
              "    <div>\n",
              "<style scoped>\n",
              "    .dataframe tbody tr th:only-of-type {\n",
              "        vertical-align: middle;\n",
              "    }\n",
              "\n",
              "    .dataframe tbody tr th {\n",
              "        vertical-align: top;\n",
              "    }\n",
              "\n",
              "    .dataframe thead th {\n",
              "        text-align: right;\n",
              "    }\n",
              "</style>\n",
              "<table border=\"1\" class=\"dataframe\">\n",
              "  <thead>\n",
              "    <tr style=\"text-align: right;\">\n",
              "      <th></th>\n",
              "      <th>title</th>\n",
              "      <th>text</th>\n",
              "      <th>label</th>\n",
              "      <th>full_text</th>\n",
              "      <th>clean_text</th>\n",
              "      <th>stemmed_text</th>\n",
              "      <th>word_count_clean</th>\n",
              "    </tr>\n",
              "  </thead>\n",
              "  <tbody>\n",
              "    <tr>\n",
              "      <th>0</th>\n",
              "      <td>LAW ENFORCEMENT ON HIGH ALERT Following Threat...</td>\n",
              "      <td>No comment is expected from Barack Obama Membe...</td>\n",
              "      <td>1</td>\n",
              "      <td>LAW ENFORCEMENT ON HIGH ALERT Following Threat...</td>\n",
              "      <td>law enforcement on high alert following threat...</td>\n",
              "      <td>law enforc high alert follow threat cop white ...</td>\n",
              "      <td>925</td>\n",
              "    </tr>\n",
              "    <tr>\n",
              "      <th>1</th>\n",
              "      <td>NaN</td>\n",
              "      <td>Did they post their votes for Hillary already?</td>\n",
              "      <td>1</td>\n",
              "      <td>Did they post their votes for Hillary already?</td>\n",
              "      <td>did they post their votes for hillary already</td>\n",
              "      <td>post vote hillari alreadi</td>\n",
              "      <td>8</td>\n",
              "    </tr>\n",
              "    <tr>\n",
              "      <th>2</th>\n",
              "      <td>UNBELIEVABLE! OBAMA’S ATTORNEY GENERAL SAYS MO...</td>\n",
              "      <td>Now, most of the demonstrators gathered last ...</td>\n",
              "      <td>1</td>\n",
              "      <td>UNBELIEVABLE! OBAMA’S ATTORNEY GENERAL SAYS MO...</td>\n",
              "      <td>unbelievable obama s attorney general says mos...</td>\n",
              "      <td>unbeliev obama attorney gener say charlott rio...</td>\n",
              "      <td>54</td>\n",
              "    </tr>\n",
              "    <tr>\n",
              "      <th>3</th>\n",
              "      <td>Bobby Jindal, raised Hindu, uses story of Chri...</td>\n",
              "      <td>A dozen politically active pastors came here f...</td>\n",
              "      <td>0</td>\n",
              "      <td>Bobby Jindal, raised Hindu, uses story of Chri...</td>\n",
              "      <td>bobby jindal raised hindu uses story of christ...</td>\n",
              "      <td>bobbi jindal rais hindu use stori christian co...</td>\n",
              "      <td>1348</td>\n",
              "    </tr>\n",
              "    <tr>\n",
              "      <th>4</th>\n",
              "      <td>SATAN 2: Russia unvelis an image of its terrif...</td>\n",
              "      <td>The RS-28 Sarmat missile, dubbed Satan 2, will...</td>\n",
              "      <td>1</td>\n",
              "      <td>SATAN 2: Russia unvelis an image of its terrif...</td>\n",
              "      <td>satan russia unvelis an image of its terrifyin...</td>\n",
              "      <td>satan russia unv imag terrifi new supernuk wes...</td>\n",
              "      <td>327</td>\n",
              "    </tr>\n",
              "  </tbody>\n",
              "</table>\n",
              "</div>\n",
              "    <div class=\"colab-df-buttons\">\n",
              "\n",
              "  <div class=\"colab-df-container\">\n",
              "    <button class=\"colab-df-convert\" onclick=\"convertToInteractive('df-c758e016-e750-43e7-8585-84569f8ceff4')\"\n",
              "            title=\"Convert this dataframe to an interactive table.\"\n",
              "            style=\"display:none;\">\n",
              "\n",
              "  <svg xmlns=\"http://www.w3.org/2000/svg\" height=\"24px\" viewBox=\"0 -960 960 960\">\n",
              "    <path d=\"M120-120v-720h720v720H120Zm60-500h600v-160H180v160Zm220 220h160v-160H400v160Zm0 220h160v-160H400v160ZM180-400h160v-160H180v160Zm440 0h160v-160H620v160ZM180-180h160v-160H180v160Zm440 0h160v-160H620v160Z\"/>\n",
              "  </svg>\n",
              "    </button>\n",
              "\n",
              "  <style>\n",
              "    .colab-df-container {\n",
              "      display:flex;\n",
              "      gap: 12px;\n",
              "    }\n",
              "\n",
              "    .colab-df-convert {\n",
              "      background-color: #E8F0FE;\n",
              "      border: none;\n",
              "      border-radius: 50%;\n",
              "      cursor: pointer;\n",
              "      display: none;\n",
              "      fill: #1967D2;\n",
              "      height: 32px;\n",
              "      padding: 0 0 0 0;\n",
              "      width: 32px;\n",
              "    }\n",
              "\n",
              "    .colab-df-convert:hover {\n",
              "      background-color: #E2EBFA;\n",
              "      box-shadow: 0px 1px 2px rgba(60, 64, 67, 0.3), 0px 1px 3px 1px rgba(60, 64, 67, 0.15);\n",
              "      fill: #174EA6;\n",
              "    }\n",
              "\n",
              "    .colab-df-buttons div {\n",
              "      margin-bottom: 4px;\n",
              "    }\n",
              "\n",
              "    [theme=dark] .colab-df-convert {\n",
              "      background-color: #3B4455;\n",
              "      fill: #D2E3FC;\n",
              "    }\n",
              "\n",
              "    [theme=dark] .colab-df-convert:hover {\n",
              "      background-color: #434B5C;\n",
              "      box-shadow: 0px 1px 3px 1px rgba(0, 0, 0, 0.15);\n",
              "      filter: drop-shadow(0px 1px 2px rgba(0, 0, 0, 0.3));\n",
              "      fill: #FFFFFF;\n",
              "    }\n",
              "  </style>\n",
              "\n",
              "    <script>\n",
              "      const buttonEl =\n",
              "        document.querySelector('#df-c758e016-e750-43e7-8585-84569f8ceff4 button.colab-df-convert');\n",
              "      buttonEl.style.display =\n",
              "        google.colab.kernel.accessAllowed ? 'block' : 'none';\n",
              "\n",
              "      async function convertToInteractive(key) {\n",
              "        const element = document.querySelector('#df-c758e016-e750-43e7-8585-84569f8ceff4');\n",
              "        const dataTable =\n",
              "          await google.colab.kernel.invokeFunction('convertToInteractive',\n",
              "                                                    [key], {});\n",
              "        if (!dataTable) return;\n",
              "\n",
              "        const docLinkHtml = 'Like what you see? Visit the ' +\n",
              "          '<a target=\"_blank\" href=https://colab.research.google.com/notebooks/data_table.ipynb>data table notebook</a>'\n",
              "          + ' to learn more about interactive tables.';\n",
              "        element.innerHTML = '';\n",
              "        dataTable['output_type'] = 'display_data';\n",
              "        await google.colab.output.renderOutput(dataTable, element);\n",
              "        const docLink = document.createElement('div');\n",
              "        docLink.innerHTML = docLinkHtml;\n",
              "        element.appendChild(docLink);\n",
              "      }\n",
              "    </script>\n",
              "  </div>\n",
              "\n",
              "\n",
              "    <div id=\"df-9559c814-f79a-4b9e-9e19-8ee84c5b8101\">\n",
              "      <button class=\"colab-df-quickchart\" onclick=\"quickchart('df-9559c814-f79a-4b9e-9e19-8ee84c5b8101')\"\n",
              "                title=\"Suggest charts\"\n",
              "                style=\"display:none;\">\n",
              "\n",
              "<svg xmlns=\"http://www.w3.org/2000/svg\" height=\"24px\"viewBox=\"0 0 24 24\"\n",
              "     width=\"24px\">\n",
              "    <g>\n",
              "        <path d=\"M19 3H5c-1.1 0-2 .9-2 2v14c0 1.1.9 2 2 2h14c1.1 0 2-.9 2-2V5c0-1.1-.9-2-2-2zM9 17H7v-7h2v7zm4 0h-2V7h2v10zm4 0h-2v-4h2v4z\"/>\n",
              "    </g>\n",
              "</svg>\n",
              "      </button>\n",
              "\n",
              "<style>\n",
              "  .colab-df-quickchart {\n",
              "      --bg-color: #E8F0FE;\n",
              "      --fill-color: #1967D2;\n",
              "      --hover-bg-color: #E2EBFA;\n",
              "      --hover-fill-color: #174EA6;\n",
              "      --disabled-fill-color: #AAA;\n",
              "      --disabled-bg-color: #DDD;\n",
              "  }\n",
              "\n",
              "  [theme=dark] .colab-df-quickchart {\n",
              "      --bg-color: #3B4455;\n",
              "      --fill-color: #D2E3FC;\n",
              "      --hover-bg-color: #434B5C;\n",
              "      --hover-fill-color: #FFFFFF;\n",
              "      --disabled-bg-color: #3B4455;\n",
              "      --disabled-fill-color: #666;\n",
              "  }\n",
              "\n",
              "  .colab-df-quickchart {\n",
              "    background-color: var(--bg-color);\n",
              "    border: none;\n",
              "    border-radius: 50%;\n",
              "    cursor: pointer;\n",
              "    display: none;\n",
              "    fill: var(--fill-color);\n",
              "    height: 32px;\n",
              "    padding: 0;\n",
              "    width: 32px;\n",
              "  }\n",
              "\n",
              "  .colab-df-quickchart:hover {\n",
              "    background-color: var(--hover-bg-color);\n",
              "    box-shadow: 0 1px 2px rgba(60, 64, 67, 0.3), 0 1px 3px 1px rgba(60, 64, 67, 0.15);\n",
              "    fill: var(--button-hover-fill-color);\n",
              "  }\n",
              "\n",
              "  .colab-df-quickchart-complete:disabled,\n",
              "  .colab-df-quickchart-complete:disabled:hover {\n",
              "    background-color: var(--disabled-bg-color);\n",
              "    fill: var(--disabled-fill-color);\n",
              "    box-shadow: none;\n",
              "  }\n",
              "\n",
              "  .colab-df-spinner {\n",
              "    border: 2px solid var(--fill-color);\n",
              "    border-color: transparent;\n",
              "    border-bottom-color: var(--fill-color);\n",
              "    animation:\n",
              "      spin 1s steps(1) infinite;\n",
              "  }\n",
              "\n",
              "  @keyframes spin {\n",
              "    0% {\n",
              "      border-color: transparent;\n",
              "      border-bottom-color: var(--fill-color);\n",
              "      border-left-color: var(--fill-color);\n",
              "    }\n",
              "    20% {\n",
              "      border-color: transparent;\n",
              "      border-left-color: var(--fill-color);\n",
              "      border-top-color: var(--fill-color);\n",
              "    }\n",
              "    30% {\n",
              "      border-color: transparent;\n",
              "      border-left-color: var(--fill-color);\n",
              "      border-top-color: var(--fill-color);\n",
              "      border-right-color: var(--fill-color);\n",
              "    }\n",
              "    40% {\n",
              "      border-color: transparent;\n",
              "      border-right-color: var(--fill-color);\n",
              "      border-top-color: var(--fill-color);\n",
              "    }\n",
              "    60% {\n",
              "      border-color: transparent;\n",
              "      border-right-color: var(--fill-color);\n",
              "    }\n",
              "    80% {\n",
              "      border-color: transparent;\n",
              "      border-right-color: var(--fill-color);\n",
              "      border-bottom-color: var(--fill-color);\n",
              "    }\n",
              "    90% {\n",
              "      border-color: transparent;\n",
              "      border-bottom-color: var(--fill-color);\n",
              "    }\n",
              "  }\n",
              "</style>\n",
              "\n",
              "      <script>\n",
              "        async function quickchart(key) {\n",
              "          const quickchartButtonEl =\n",
              "            document.querySelector('#' + key + ' button');\n",
              "          quickchartButtonEl.disabled = true;  // To prevent multiple clicks.\n",
              "          quickchartButtonEl.classList.add('colab-df-spinner');\n",
              "          try {\n",
              "            const charts = await google.colab.kernel.invokeFunction(\n",
              "                'suggestCharts', [key], {});\n",
              "          } catch (error) {\n",
              "            console.error('Error during call to suggestCharts:', error);\n",
              "          }\n",
              "          quickchartButtonEl.classList.remove('colab-df-spinner');\n",
              "          quickchartButtonEl.classList.add('colab-df-quickchart-complete');\n",
              "        }\n",
              "        (() => {\n",
              "          let quickchartButtonEl =\n",
              "            document.querySelector('#df-9559c814-f79a-4b9e-9e19-8ee84c5b8101 button');\n",
              "          quickchartButtonEl.style.display =\n",
              "            google.colab.kernel.accessAllowed ? 'block' : 'none';\n",
              "        })();\n",
              "      </script>\n",
              "    </div>\n",
              "\n",
              "    </div>\n",
              "  </div>\n"
            ],
            "application/vnd.google.colaboratory.intrinsic+json": {
              "type": "dataframe",
              "variable_name": "df",
              "summary": "{\n  \"name\": \"df\",\n  \"rows\": 63052,\n  \"fields\": [\n    {\n      \"column\": \"title\",\n      \"properties\": {\n        \"dtype\": \"string\",\n        \"num_unique_values\": 61775,\n        \"samples\": [\n          \"Homeland Security deal: Will Boehner follow McConnell's lead? (+video)\",\n          \"Can Huckabee Overcome The 'New Car Smell' Of Other Candidates?\",\n          \"White House postpones meeting to decide on participation in Paris climate pact\"\n        ],\n        \"semantic_type\": \"\",\n        \"description\": \"\"\n      }\n    },\n    {\n      \"column\": \"text\",\n      \"properties\": {\n        \"dtype\": \"string\",\n        \"num_unique_values\": 62178,\n        \"samples\": [\n          \"Behind the headlines - conspiracies, cover-ups, ancient mysteries and more. Real news and perspectives that you won't find in the mainstream media. Browse: Home / Why Isn\\u2019t NSA Surveillance an Election Issue? Essential Reading The Essene Gospel of Peace I By wmw_admin on April 26, 2007 \\nBased on texts found in the Vatican library and the Royal Library of the Hapsburg\\u2019s and dated to the first century AD, the following is considered by some to be the real words of Christ The Oklahoma City Bombing: 30 Unanswered Questions By wmw_admin on July 11, 2003 \\nTimothy McVeigh may have been tried and executed, but there are still too many unanswered questions about the Oklahoma City Bombing Magic Thermite and the 9/11 Fairytale By Smoking Mirrors on April 15, 2009 \\nThe evidence is in and it\\u2019s irrefutable: scientists have discovered traces of hi-tech explosives in the WTC debris. Which means the UK/US/Israel will have to stage another event on the scale of 9/11 to counter the brushfire this report will ignite Who Brought the Slaves to America? By wmw_admin on June 30, 2008 \\nContrary to what you have been told, it wasn\\u2019t White Anglo Saxon Protestants (WASP\\u2019s) who founded and monopolised the slave trade The Essene Gospel of Peace II By wmw_admin on April 26, 2007 \\nTranslated by Purcell Weaver and Edmond Szekely from its original Aramiac, a language that today few know but 2000 years ago was the language that Christ spoke and taught with Have You Read the Talmud Lately? By wmw_admin on September 3, 2006 \\nThe Talmud expounds some of the most virulent racism, as these extracts plainly show. However, as a reader points out not all Jews are influenced by it, or even read it. Only the ultra religious study it, the rest haven\\u2019t a clue. We leave you to decide London Beheading Hoax Confirmed? By wmw_admin on May 24, 2013 \\nWas the London beheading a hoax? After Sandy Hook anything is possible and the authors present a very convincing case that it was. Judge for yourself Fake Terrorism: The Road to Dictatorship By wmw_admin on October 10, 2008 \\nThroughout history \\u201cterrorist\\u201d acts have been carefully staged and used to further the power of the ruling elite. In the light of the latest \\u201cterror\\u201d plot we repost an old favourite as a reminder The Man Who Would Be King By Rixon Stewart on April 15, 2008 \\nSome say that Prince Michael of Albany has a more legitimate claim to the throne of England than the Windsors. Are they right? And why are the Windsors and the mainstream media delberately ignoring him?\",\n          \"Baton Rouge became the scene of another police ambush this morning when three men shot and killed three police officers and wounded several others. Authorities have confirmed that the first of three suspects is a Missouri man who was killed after the shooting. Two other suspects were taken into custody in West Baton Rouge Parish and are being questioned by Baton Rouge Police.Meanwhile, Barack Obama is going out of his way to try to convince the world his #BlackLivesMatter terrorists have nothing to do with yet ANOTHER mass shooting of cops in America. It probably isn t a coincidence that three black thugs were recently arrested in Baton Rouge for plotting to kill cops, or that this video surfaced of a black punk in Baton Rouge telling cops he s going to kill them and asking viewers to join him.You OWN this Barack Hussein Obama! From your first beer summit to the George Zimmerman protesters your AG, Eric Holder was caught paying with our taxpayer dollars to your regular visits with #BlackLivesMatter terrorists in OUR White House. Your community organizer built this and there is no one to blame but you and your cronies The #BatonRouge shooter described as black male with body armor https://t.co/OEBlVd7SUr https://t.co/FgjV19sVV2  CBS News (@CBSNews) July 17, 2016Dispatch audio records what happened next as officers were reported down when a man at the scene opened fire, shooting  indiscriminately,  according to a witness at the scene. Several officers were hit and a massive manhunt began in the area as authorities searched for suspects that were described as wearing all black or camouflage clothing.Police worked an active shooting scene at the B-Quik gas station into the afternoon. Law enforcement confirmed that one of the shooters was dead somewhere close to the store. Police sent a robot into the store to check for explosives after the scene was contained.An alert went out to the public to stay indoors and contact authorities should they spot any suspicious activity or suspects matching the description provided. Two men were stopped in Addis after someone said they were initially spotted heading into the Port Allen Walmart to change clothes. They were stopped by police on LA-1 South at a gas station where the men were taken into custody. A witness at the scene said the vehicle had Texas plates.Via: wbrz\",\n          \"WASHINGTON (Reuters) - Carter Page, a former foreign policy adviser to Donald Trump\\u2019s presidential campaign, will testify on June 6 before a House committee investigating alleged efforts by Russia to influence the U.S. election, ABC News reported on Wednesday. ABC News, which said Page had told it about the scheduled testimony, also cited a letter the former Trump adviser wrote to the leaders of the House Intelligence Committee\\u2019s investigation in which he said witnesses the panel had already heard from had presented \\u201cone biased viewpoint.\\u201d \"\n        ],\n        \"semantic_type\": \"\",\n        \"description\": \"\"\n      }\n    },\n    {\n      \"column\": \"label\",\n      \"properties\": {\n        \"dtype\": \"number\",\n        \"std\": 0,\n        \"min\": 0,\n        \"max\": 1,\n        \"num_unique_values\": 2,\n        \"samples\": [\n          0,\n          1\n        ],\n        \"semantic_type\": \"\",\n        \"description\": \"\"\n      }\n    },\n    {\n      \"column\": \"full_text\",\n      \"properties\": {\n        \"dtype\": \"string\",\n        \"num_unique_values\": 63050,\n        \"samples\": [\n          \"Reince Priebus To Top GOP: Endorse Trump Or Your Career Is Over (VIDEO) Several top Republicans have yet to endorse Donald Trump as the GOP presidential nominee. On Sunday, Republican National Committee chair Reince Priebus had some strong words for those individuals. Appearing on CBS  Face the Nation, Priebus issued a thinly veiled threat directed towards those who have yet to get on board the Trump bandwagon, which Reince described as one of the  biggest movements as far as people across this country in modern history. The right-wing reactionary movement is missing key GOP politicians such as Ted Cruz and other former presidential hopefuls. While they may not be considered a part of the #NeverTrump crowd, these GOPers have not really done much of anything to support the current Republican presidential candidate.They all agreed to support the eventual presidential nominee no matter who wins the election, and Priebus is expecting them to put party before country. We re a private party. We re not a public entity. Those people need to get on board,  Priebus told the show s host, John Dickerson.  And if they re thinking they re going to run again someday, I think we re going to evaluate the nomination process, and I don t think it s going to be that easy for them. I think these are things that our party s going to look at in the process. I think people who gave us their word, used information from the RNC, should get on board. What s interesting is that Trump has previously dragged his feet when it comes to endorsing other GOP candidates, such as House Speaker Paul Ryan. It s also interesting to note that the pledge that Priebus is referencing was reportedly designed to discourage Trump from running as an independent or on a non-establishment party campaign. It has no legal significance and is simply just a promise.The fact that Priebus, had to threaten   though he insists that his comments are not a threat top members of his Party show that the GOP is still cracking under the weight of trying to hold up Trump s campaign. You can watch the video below.Featured image via video screen capture\",\n          \"Trump: Obama should be investigated over Clinton email server DORAL, Fla./WASHINGTON (Reuters) - U.S. Republican presidential candidate Donald Trump said on Tuesday that President Barack Obama should be investigated over a private email server Hillary Clinton used while secretary of state, saying Obama \\u201cknew all about\\u201d her email arrangements. \\u201cThat\\u2019s why he stuck up for Hillary, because he didn\\u2019t want to be dragged in. Because he knew all about her private server,\\u201d Trump said of the Democratic president in an interview with Reuters. \\u201cThis means that he has to be investigated.\\u201d The White House declined to comment on Trump\\u2019s allegations. Spokesman Josh Earnest told reporters earlier on Tuesday that while the president had Clinton\\u2019s personal email address, which she used instead of government systems, he did not know where her server was located or other details. Clinton, Trump\\u2019s Democratic rival in the Nov. 8 election, was Obama\\u2019s first secretary of state from 2009 to 2013. WikiLeaks on Tuesday released a batch of hacked emails from the account of Clinton\\u2019s campaign manager, John Podesta, which showed her Democratic presidential campaign reacting after Obama said in a television interview that he learned of the private email server through news reports.  \\u201cWe need to clean this up \\u2013 he has emails from her \\u2013 they do not say state.gov,\\u201d Cheryl Mills, a longtime Clinton aide, wrote in an email to Podesta after Obama made the comments in a March 2015 television interview. \\u201cState.gov\\u201d is the State Department\\u2019s internet domain name, and its presence in the sender\\u2019s email address would indicate it came from an official account. The State Department said in January it found 18 instances  of messages between Clinton and Obama among the roughly 30,000 work emails Clinton returned to the department in 2014. None have been released because of a law that protects presidential communications from becoming public for several years. \\u00a0 WikiLeaks has been releasing hacked emails in chunks for several weeks, but the Clinton campaign has not officially confirmed their legitimacy. U.S. officials have said they believe Russia is behind recent hacks of Democratic Party systems, and reports have indicated the theft of Podesta\\u2019s emails may be related.  Russian President Vladimir Putin has said his country is not to blame. Federal Bureau of Investigation Director James Comey in July said Clinton was \\u201cextremely careless\\u201d with her emails but that no \\u201creasonable\\u201d prosecutor would bring charges.\"\n        ],\n        \"semantic_type\": \"\",\n        \"description\": \"\"\n      }\n    },\n    {\n      \"column\": \"clean_text\",\n      \"properties\": {\n        \"dtype\": \"string\",\n        \"num_unique_values\": 62754,\n        \"samples\": [\n          \"trading algorithm shows how mass shootings politics boost gun shares reuters a stock trading algorithm built for reuters highlights the correlations among gun purchases mass shootings and the politics of gun regulation with the benefit of hindsight the boston based hedge fund quantopian examined how a theoretical investor would have fared by investing equal amounts in smith wesson holding corp swhc o and sturm ruger co rgr n after events that impacted the companies sales or stock prices the events chosen by reuters included mass shootings starting with the virginia tech shooting six events involving president barack obama including two elections and various calls for gun regulation and two u s supreme court decisions favorable to gun companies hedge funds and other sophisticated investors use computer driven algorithms to place trades based on a defined set of instructions in the theoretical exercise for reuters the quantopian algorithm showed that buying the two gun stocks the first trading day after the events and selling them days later would have produced a return of percent over a nine year period compared to percent for the s p index a buy and hold bet on smith wesson stock starting in january would have produced a return of percent for a graphic showing how the algorithm performed see tmsnrt rs oshshu\",\n          \"libya pressing group to restore water supply to capital tripoli reuters libyan authorities are attempting to negotiate with a group that has cut water supplies to the libyan capital for the second time in two months to press for the release of a jailed ally an official said on tuesday the group shut down pipes pumping water to tripoli and other coastal towns at the al hasawna well system south of the capital said tawfiq shwehaidi a manager at the great man made river in the eastern city of benghazi today is the fifth day in a row that the water has stopped and we are trying to negotiate with them he said the group loyal to late former leader muammar gaddafi is demanding the release of mabrouk ehnaish a militia leader detained last month by tripoli s special deterrence force sdf which is aligned with libya s u n backed government ehnaish s backers have made various threats to sabotage infrastructure including oil and gas supplies and in october blocked water supplies to the capital for about two weeks the great man made river is a pipeline system built under gaddafi that pumps water to coastal areas from underneath the country s southern desert the water cuts come as libyans struggle to cope with a steep decline in living standards during the conflict that developed after gaddafi s overthrow and an economic crisis that has led to rapid inflation and severe cash shortages in recent days there have also been long queues for fuel and cooking gas in tripoli though distributors have denied any shortages some residents nervous about disruption to supplies have queued for more than an hour to fill vehicles or jerry cans\"\n        ],\n        \"semantic_type\": \"\",\n        \"description\": \"\"\n      }\n    },\n    {\n      \"column\": \"stemmed_text\",\n      \"properties\": {\n        \"dtype\": \"string\",\n        \"num_unique_values\": 62748,\n        \"samples\": [\n          \"netanyahu signal israel act free hand syria jerusalem reuter prime minist benjamin netanyahu said monday put unit state russia notic israel continu take militari action across frontier syria even two power tri build ceasefir control border protect countri continu netanyahu said public remark member right wing likud parti parliament also inform friend firstli washington also friend moscow israel act syria includ southern syria accord understand accord secur need u presid donald trump russian presid vladimir putin saturday affirm joint effort stabil syria civil war wane includ expans juli truce southwestern triangl border israel jordan israel lobbi leader deni iran lebanon hezbollah shi ite militia perman base syria keep away golan height frontier gain ground help damascu beat back sunni led rebel netanyahu remark echo sunday israel region cooper minist tzachi hanegbi sound circumspect ceasefir deal said israel set red line stand firm israel militari said carri around strike syria attack target suspect hezbollah iranian arm depot come retali shell syrian held golan u state depart offici said russia agre work syrian regim remov iranian back forc defin distanc golan height frontier israel captur plateau middl east war move accord one isra offici brief arrang meant keep rival faction insid syria away would effect keep iranian link forc variou distanc israel held golan well distanc would rang littl kilomet mile around km mile depend current rebel posit syrian golan offici said speak condit anonym due sensit issu\",\n          \"cnn host crybabi hillari surrog get brutal slap dr gina loudon use fact video dr gina loudon went cnn today discuss fallaci grope accus donald trump per wikileak know cnn work clinton campaign destroy donald trump numer leak email wikileak prove combin effort bring republican candid first time brook baldwin embarrass conserv destroy argument make look like uneduc leftist famous interrupt republican brought hillari destruct mobil devic hammer watch freak air fact check dr gina suppos discuss alleg grope incid donald trump gina drop bomb via gateway pundit\"\n        ],\n        \"semantic_type\": \"\",\n        \"description\": \"\"\n      }\n    },\n    {\n      \"column\": \"word_count_clean\",\n      \"properties\": {\n        \"dtype\": \"number\",\n        \"std\": 609,\n        \"min\": 1,\n        \"max\": 24457,\n        \"num_unique_values\": 2906,\n        \"samples\": [\n          4359,\n          9448\n        ],\n        \"semantic_type\": \"\",\n        \"description\": \"\"\n      }\n    }\n  ]\n}"
            }
          },
          "metadata": {},
          "execution_count": 2
        }
      ],
      "source": [
        "import pandas as pd\n",
        "df = pd.read_csv(\"/content/drive/MyDrive/cleaned_fake_news_v3.csv\")\n",
        "df.head()"
      ]
    },
    {
      "cell_type": "markdown",
      "metadata": {
        "id": "pWMjx3qQ97AZ"
      },
      "source": [
        "# Feature Extraction\n"
      ]
    },
    {
      "cell_type": "markdown",
      "metadata": {
        "id": "w9xyLGkfJHb_"
      },
      "source": [
        "for tf-idf"
      ]
    },
    {
      "cell_type": "code",
      "execution_count": null,
      "metadata": {
        "id": "0weRtBooBQig"
      },
      "outputs": [],
      "source": [
        "from sklearn.feature_extraction.text import TfidfVectorizer\n",
        "import numpy as np\n",
        "\n",
        "tfidf = TfidfVectorizer(max_features=5000)\n",
        "X_tfidf = tfidf.fit_transform(df['stemmed_text'])"
      ]
    },
    {
      "cell_type": "code",
      "source": [
        "print(\"TF-IDF Vocabulary Size:\", len(tfidf.vocabulary_))\n",
        "print(\"TF-IDF Matrix Shape:\", X_tfidf.shape)\n",
        "\n",
        "feature_array = np.array(tfidf.get_feature_names_out())\n",
        "tfidf_sorting = np.argsort(X_tfidf.toarray()).flatten()[::-1]\n",
        "top_words = feature_array[tfidf_sorting[:10]]\n",
        "print(\"Top TF-IDF Words:\", top_words)"
      ],
      "metadata": {
        "colab": {
          "base_uri": "https://localhost:8080/"
        },
        "id": "X2wB3IDYx9nq",
        "outputId": "7ab62fc7-5121-4b84-afb7-ee00d11dab95"
      },
      "execution_count": null,
      "outputs": [
        {
          "output_type": "stream",
          "name": "stdout",
          "text": [
            "TF-IDF Vocabulary Size: 5000\n",
            "TF-IDF Matrix Shape: (63052, 5000)\n",
            "Top TF-IDF Words: ['pena' 'nieto' 'mexico' 'slim' 'mexican' 'trump' 'uniti' 'unpopular'\n",
            " 'wall' 'leader']\n"
          ]
        }
      ]
    },
    {
      "cell_type": "markdown",
      "metadata": {
        "id": "ypfJp31BJbYq"
      },
      "source": [
        "Word embeddings"
      ]
    },
    {
      "cell_type": "code",
      "execution_count": null,
      "metadata": {
        "id": "55c8a537",
        "colab": {
          "base_uri": "https://localhost:8080/",
          "height": 669
        },
        "outputId": "3f4c2ee5-dfb5-4c51-9ba6-175085bc59fc"
      },
      "outputs": [
        {
          "output_type": "stream",
          "name": "stdout",
          "text": [
            "Collecting gensim\n",
            "  Downloading gensim-4.3.3-cp312-cp312-manylinux_2_17_x86_64.manylinux2014_x86_64.whl.metadata (8.1 kB)\n",
            "Collecting numpy<2.0,>=1.18.5 (from gensim)\n",
            "  Downloading numpy-1.26.4-cp312-cp312-manylinux_2_17_x86_64.manylinux2014_x86_64.whl.metadata (61 kB)\n",
            "\u001b[2K     \u001b[90m━━━━━━━━━━━━━━━━━━━━━━━━━━━━━━━━━━━━━━━━\u001b[0m \u001b[32m61.0/61.0 kB\u001b[0m \u001b[31m3.4 MB/s\u001b[0m eta \u001b[36m0:00:00\u001b[0m\n",
            "\u001b[?25hCollecting scipy<1.14.0,>=1.7.0 (from gensim)\n",
            "  Downloading scipy-1.13.1-cp312-cp312-manylinux_2_17_x86_64.manylinux2014_x86_64.whl.metadata (60 kB)\n",
            "\u001b[2K     \u001b[90m━━━━━━━━━━━━━━━━━━━━━━━━━━━━━━━━━━━━━━━━\u001b[0m \u001b[32m60.6/60.6 kB\u001b[0m \u001b[31m4.6 MB/s\u001b[0m eta \u001b[36m0:00:00\u001b[0m\n",
            "\u001b[?25hRequirement already satisfied: smart-open>=1.8.1 in /usr/local/lib/python3.12/dist-packages (from gensim) (7.3.0.post1)\n",
            "Requirement already satisfied: wrapt in /usr/local/lib/python3.12/dist-packages (from smart-open>=1.8.1->gensim) (1.17.3)\n",
            "Downloading gensim-4.3.3-cp312-cp312-manylinux_2_17_x86_64.manylinux2014_x86_64.whl (26.6 MB)\n",
            "\u001b[2K   \u001b[90m━━━━━━━━━━━━━━━━━━━━━━━━━━━━━━━━━━━━━━━━\u001b[0m \u001b[32m26.6/26.6 MB\u001b[0m \u001b[31m40.8 MB/s\u001b[0m eta \u001b[36m0:00:00\u001b[0m\n",
            "\u001b[?25hDownloading numpy-1.26.4-cp312-cp312-manylinux_2_17_x86_64.manylinux2014_x86_64.whl (18.0 MB)\n",
            "\u001b[2K   \u001b[90m━━━━━━━━━━━━━━━━━━━━━━━━━━━━━━━━━━━━━━━━\u001b[0m \u001b[32m18.0/18.0 MB\u001b[0m \u001b[31m85.1 MB/s\u001b[0m eta \u001b[36m0:00:00\u001b[0m\n",
            "\u001b[?25hDownloading scipy-1.13.1-cp312-cp312-manylinux_2_17_x86_64.manylinux2014_x86_64.whl (38.2 MB)\n",
            "\u001b[2K   \u001b[90m━━━━━━━━━━━━━━━━━━━━━━━━━━━━━━━━━━━━━━━━\u001b[0m \u001b[32m38.2/38.2 MB\u001b[0m \u001b[31m16.1 MB/s\u001b[0m eta \u001b[36m0:00:00\u001b[0m\n",
            "\u001b[?25hInstalling collected packages: numpy, scipy, gensim\n",
            "  Attempting uninstall: numpy\n",
            "    Found existing installation: numpy 2.0.2\n",
            "    Uninstalling numpy-2.0.2:\n",
            "      Successfully uninstalled numpy-2.0.2\n",
            "  Attempting uninstall: scipy\n",
            "    Found existing installation: scipy 1.16.1\n",
            "    Uninstalling scipy-1.16.1:\n",
            "      Successfully uninstalled scipy-1.16.1\n",
            "\u001b[31mERROR: pip's dependency resolver does not currently take into account all the packages that are installed. This behaviour is the source of the following dependency conflicts.\n",
            "opencv-contrib-python 4.12.0.88 requires numpy<2.3.0,>=2; python_version >= \"3.9\", but you have numpy 1.26.4 which is incompatible.\n",
            "opencv-python 4.12.0.88 requires numpy<2.3.0,>=2; python_version >= \"3.9\", but you have numpy 1.26.4 which is incompatible.\n",
            "tsfresh 0.21.1 requires scipy>=1.14.0; python_version >= \"3.10\", but you have scipy 1.13.1 which is incompatible.\n",
            "thinc 8.3.6 requires numpy<3.0.0,>=2.0.0, but you have numpy 1.26.4 which is incompatible.\n",
            "opencv-python-headless 4.12.0.88 requires numpy<2.3.0,>=2; python_version >= \"3.9\", but you have numpy 1.26.4 which is incompatible.\u001b[0m\u001b[31m\n",
            "\u001b[0mSuccessfully installed gensim-4.3.3 numpy-1.26.4 scipy-1.13.1\n"
          ]
        },
        {
          "output_type": "display_data",
          "data": {
            "application/vnd.colab-display-data+json": {
              "pip_warning": {
                "packages": [
                  "numpy",
                  "scipy"
                ]
              },
              "id": "bf9d89484b4a4e15ae78898ad5449bcb"
            }
          },
          "metadata": {}
        }
      ],
      "source": [
        "!pip install gensim"
      ]
    },
    {
      "cell_type": "code",
      "execution_count": null,
      "metadata": {
        "id": "C4LB_4KiJgPk",
        "colab": {
          "base_uri": "https://localhost:8080/"
        },
        "outputId": "26ae06b4-de1d-4be0-aec8-ea369d1c2670"
      },
      "outputs": [
        {
          "output_type": "stream",
          "name": "stdout",
          "text": [
            "[ 0.42782837 -2.1264198  -2.5861042   0.6397219   1.8631823   0.9290322\n",
            "  2.788548   -0.94953537 -1.9636413   3.8459291   1.0367242  -1.1267409\n",
            " -0.8227971  -0.41615075 -1.3114057   1.0819042   1.5083746  -4.120829\n",
            " -2.44842    -2.387024   -0.12070654  1.2739869   1.5039302  -1.0522778\n",
            " -0.4090489   2.8844728   1.3640709   0.35009626  1.0457982   1.0087587\n",
            " -2.8184502   3.8957903  -1.7991028  -0.5075234  -0.6855519   0.22187614\n",
            "  3.0473428  -0.64162815  0.41159534 -0.22285722  3.7222607  -0.6675146\n",
            " -3.4278877  -0.864085   -1.6023484   0.32484636 -1.5297816   0.6889326\n",
            " -0.8852874   0.20346718  1.9309962  -3.8674345  -1.126321    1.6637018\n",
            " -2.463365   -1.8082016   2.1323254   5.7864413  -1.2809367  -4.0517983\n",
            "  4.400731   -1.5406739  -1.4457831   0.9611108  -3.388941   -3.7624218\n",
            " -1.707505   -3.2418246  -0.40242705  1.2085394   0.7057867  -3.0106528\n",
            "  1.4146123  -3.7772367  -0.9793962  -2.42845     0.7786743  -3.107173\n",
            "  3.5847402  -0.60157794 -3.7930384  -0.03411517  0.5263511   0.93850124\n",
            "  0.8846909   0.7525171  -0.7954705   0.566997   -2.2867117   1.8613527\n",
            " -2.367762   -2.1077952  -0.03883986  3.848744    1.1591173  -0.40060955\n",
            " -1.0339243   2.3143194  -0.31853554  0.15807386]\n"
          ]
        }
      ],
      "source": [
        "from gensim.models import Word2Vec\n",
        "\n",
        "sentences = [row.split() for row in df['clean_text']]\n",
        "w2v_model = Word2Vec(sentences, vector_size=100, window=5, min_count=2, workers=4)\n",
        "\n",
        "# Example: get embedding of one word\n",
        "print(w2v_model.wv['news'])"
      ]
    },
    {
      "cell_type": "code",
      "source": [
        "print(\"Word2Vec Vocabulary Size:\", len(w2v_model.wv))\n",
        "print(\"Word2Vec Embedding Dimensions:\", w2v_model.vector_size)\n",
        "\n",
        "print(\"Most similar to 'news':\", w2v_model.wv.most_similar(\"news\", topn=5))"
      ],
      "metadata": {
        "colab": {
          "base_uri": "https://localhost:8080/"
        },
        "id": "BF4RH6o8_hPQ",
        "outputId": "d993fe91-47b4-4bc3-cbdf-674319e94a74"
      },
      "execution_count": null,
      "outputs": [
        {
          "output_type": "stream",
          "name": "stdout",
          "text": [
            "Word2Vec Vocabulary Size: 107582\n",
            "Word2Vec Embedding Dimensions: 100\n",
            "Most similar to 'news': [('newswatch', 0.6800832152366638), ('searchlight', 0.6705904006958008), ('newshere', 0.6357621550559998), ('dchere', 0.6213675737380981), ('vicente', 0.6164496541023254)]\n"
          ]
        }
      ]
    },
    {
      "cell_type": "markdown",
      "metadata": {
        "id": "Vf8QcSvLiq17"
      },
      "source": [
        "#Logistic Regression"
      ]
    },
    {
      "cell_type": "code",
      "execution_count": null,
      "metadata": {
        "id": "96f0e719"
      },
      "outputs": [],
      "source": [
        "import pandas as pd\n",
        "df = pd.read_csv(\"/content/drive/MyDrive/cleaned_fake_news_v3.csv\")\n"
      ]
    },
    {
      "cell_type": "code",
      "execution_count": null,
      "metadata": {
        "colab": {
          "base_uri": "https://localhost:8080/",
          "height": 670
        },
        "id": "0d150540",
        "outputId": "3e9b7535-1da2-47c8-8700-3a320b007c74"
      },
      "outputs": [
        {
          "name": "stdout",
          "output_type": "stream",
          "text": [
            "Accuracy: 0.9486955832209976\n",
            "Precision: 0.9403596225743279\n",
            "Recall: 0.9442259563818377\n",
            "F1 Score: 0.9422888234769423\n",
            "\n",
            "Classification Report:\n",
            "               precision    recall  f1-score   support\n",
            "\n",
            "           0       0.96      0.95      0.95      7017\n",
            "           1       0.94      0.94      0.94      5594\n",
            "\n",
            "    accuracy                           0.95     12611\n",
            "   macro avg       0.95      0.95      0.95     12611\n",
            "weighted avg       0.95      0.95      0.95     12611\n",
            "\n"
          ]
        },
        {
          "data": {
            "image/png": "[encoded data removed]",
            "text/plain": [
              "<Figure size 600x400 with 2 Axes>"
            ]
          },
          "metadata": {},
          "output_type": "display_data"
        }
      ],
      "source": [
        "# --- Logistic Regression Model for Fake News Detection ---\n",
        "\n",
        "from sklearn.feature_extraction.text import TfidfVectorizer\n",
        "from sklearn.model_selection import train_test_split\n",
        "from sklearn.linear_model import LogisticRegression\n",
        "from sklearn.metrics import accuracy_score, precision_score, recall_score, f1_score, confusion_matrix, classification_report\n",
        "\n",
        "# Combine title and text (if both available) for better representation\n",
        "df['content'] = df['title'].astype(str) + \" \" + df['text'].astype(str)\n",
        "\n",
        "# Features and target\n",
        "X = df['content']\n",
        "y = df['label']   # assuming the dataset has a \"label\" column (1=fake, 0=real)\n",
        "\n",
        "# Convert text to TF-IDF features\n",
        "vectorizer = TfidfVectorizer(stop_words='english', max_df=0.7)\n",
        "X_tfidf = vectorizer.fit_transform(X)\n",
        "\n",
        "# Split into train and test sets\n",
        "X_train, X_test, y_train, y_test = train_test_split(\n",
        "    X_tfidf, y, test_size=0.2, random_state=42\n",
        ")\n",
        "\n",
        "# Train Logistic Regression model\n",
        "log_reg = LogisticRegression(max_iter=1000)\n",
        "log_reg.fit(X_train, y_train)\n",
        "\n",
        "# Predictions\n",
        "y_pred = log_reg.predict(X_test)\n",
        "\n",
        "# Evaluation\n",
        "print(\"Accuracy:\", accuracy_score(y_test, y_pred))\n",
        "print(\"Precision:\", precision_score(y_test, y_pred))\n",
        "print(\"Recall:\", recall_score(y_test, y_pred))\n",
        "print(\"F1 Score:\", f1_score(y_test, y_pred))\n",
        "print(\"\\nClassification Report:\\n\", classification_report(y_test, y_pred))\n",
        "\n",
        "# Confusion Matrix\n",
        "import matplotlib.pyplot as plt\n",
        "import seaborn as sns\n",
        "\n",
        "cm = confusion_matrix(y_test, y_pred)\n",
        "plt.figure(figsize=(6,4))\n",
        "sns.heatmap(cm, annot=True, fmt='d', cmap='Blues',\n",
        "            xticklabels=['Real','Fake'], yticklabels=['Real','Fake'])\n",
        "plt.xlabel('Predicted')\n",
        "plt.ylabel('Actual')\n",
        "plt.title('Confusion Matrix - Logistic Regression')\n",
        "plt.show()\n"
      ]
    },
    {
      "cell_type": "code",
      "execution_count": null,
      "metadata": {
        "colab": {
          "base_uri": "https://localhost:8080/",
          "height": 564
        },
        "id": "oJz8FUOFUD4G",
        "outputId": "94109b9a-f865-4e62-b2d7-a869caaba46c"
      },
      "outputs": [
        {
          "data": {
            "image/png": "[encoded data removed]",
            "text/plain": [
              "<Figure size 800x600 with 1 Axes>"
            ]
          },
          "metadata": {},
          "output_type": "display_data"
        }
      ],
      "source": [
        "import matplotlib.pyplot as plt\n",
        "from sklearn.metrics import roc_curve, auc\n",
        "\n",
        "#Logistic Regression - ROC Curve\n",
        "y_prob_log = log_reg.predict_proba(X_test)[:,1]\n",
        "fpr_log, tpr_log, _ = roc_curve(y_test, y_prob_log)\n",
        "roc_auc_log = auc(fpr_log, tpr_log)\n",
        "\n",
        "#Plot ROC Curves\n",
        "plt.figure(figsize=(8,6))\n",
        "plt.plot(fpr_log, tpr_log, label=f\"Logistic Regression (AUC = {roc_auc_log:.2f})\")\n",
        "\n",
        "plt.plot([0,1], [0,1], 'k--')\n",
        "plt.xlabel(\"False Positive Rate\")\n",
        "plt.ylabel(\"True Positive Rate\")\n",
        "plt.title(\"ROC Curve Comparison\")\n",
        "plt.legend(loc=\"lower right\")\n",
        "plt.show()"
      ]
    },
    {
      "cell_type": "markdown",
      "metadata": {
        "id": "MyDF3XPDwkXD"
      },
      "source": [
        "# SVM"
      ]
    },
    {
      "cell_type": "markdown",
      "metadata": {
        "id": "poOBNiRfQGq1"
      },
      "source": [
        "**SVM**"
      ]
    },
    {
      "cell_type": "code",
      "execution_count": null,
      "metadata": {
        "colab": {
          "base_uri": "https://localhost:8080/",
          "height": 722
        },
        "id": "LcQ4G59GU850",
        "outputId": "97d35286-d447-4554-9e8b-95dcc020eda4"
      },
      "outputs": [
        {
          "output_type": "stream",
          "name": "stdout",
          "text": [
            "Accuracy: 0.9520260090397272\n",
            "Precision: 0.9466427931960609\n",
            "Recall: 0.9451197711834108\n",
            "F1 Score: 0.9458806691117273\n",
            "\n",
            "Classification Report:\n",
            "               precision    recall  f1-score   support\n",
            "\n",
            "           0       0.96      0.96      0.96      7017\n",
            "           1       0.95      0.95      0.95      5594\n",
            "\n",
            "    accuracy                           0.95     12611\n",
            "   macro avg       0.95      0.95      0.95     12611\n",
            "weighted avg       0.95      0.95      0.95     12611\n",
            "\n"
          ]
        },
        {
          "output_type": "display_data",
          "data": {
            "text/plain": [
              "<Figure size 600x400 with 2 Axes>"
            ],
            "image/png": "[encoded data removed]"
          },
          "metadata": {}
        },
        {
          "output_type": "stream",
          "name": "stdout",
          "text": [
            "F1 scores for each fold: [0.94588067 0.94933519 0.94018625 0.94203805 0.94433748]\n",
            "Mean F1: 0.9443555249289226\n",
            "Std F1: 0.0031583862959747165\n"
          ]
        }
      ],
      "source": [
        "from sklearn.feature_extraction.text import TfidfVectorizer\n",
        "from sklearn.model_selection import train_test_split\n",
        "from sklearn.svm import LinearSVC\n",
        "from sklearn.metrics import accuracy_score, precision_score, recall_score, f1_score, confusion_matrix, classification_report\n",
        "import pandas as pd\n",
        "import matplotlib.pyplot as plt\n",
        "import seaborn as sns\n",
        "from sklearn.svm import SVC\n",
        "from sklearn.model_selection import cross_val_score, KFold\n",
        "import numpy as np\n",
        "# Load the dataframe with stemmed_text\n",
        "df = pd.read_csv(\"/content/drive/MyDrive/cleaned_fake_news_v3.csv\")\n",
        "\n",
        "# Features and target\n",
        "X = df['stemmed_text']\n",
        "y = df['label']\n",
        "\n",
        "# Convert text to TF-IDF features\n",
        "vectorizer = TfidfVectorizer(stop_words='english', max_df=0.7)\n",
        "X_tfidf = vectorizer.fit_transform(X)\n",
        "\n",
        "# Split into train and test sets\n",
        "X_train, X_test, y_train, y_test = train_test_split(\n",
        "    X_tfidf, y, test_size=0.2, random_state=42\n",
        ")\n",
        "\n",
        "# Train Linear SVM model\n",
        "svm = LinearSVC(C=1, max_iter=1000, random_state=42)\n",
        "svm.fit(X_train, y_train)\n",
        "\n",
        "# Predictions\n",
        "y_pred = svm.predict(X_test)\n",
        "\n",
        "# Evaluation\n",
        "print(\"Accuracy:\", accuracy_score(y_test, y_pred))\n",
        "print(\"Precision:\", precision_score(y_test, y_pred))\n",
        "print(\"Recall:\", recall_score(y_test, y_pred))\n",
        "print(\"F1 Score:\", f1_score(y_test, y_pred))\n",
        "print(\"\\nClassification Report:\\n\", classification_report(y_test, y_pred))\n",
        "\n",
        "# Confusion Matrix\n",
        "cm = confusion_matrix(y_test, y_pred)\n",
        "plt.figure(figsize=(6,4))\n",
        "sns.heatmap(cm, annot=True, fmt='d', cmap='Blues',\n",
        "            xticklabels=['Real','Fake'], yticklabels=['Real','Fake'])\n",
        "plt.xlabel('Predicted')\n",
        "plt.ylabel('Actual')\n",
        "plt.title('Confusion Matrix - Linear SVM')\n",
        "plt.show()\n",
        "\n",
        "kf = KFold(n_splits=5, shuffle=True, random_state=42)\n",
        "\n",
        "# Evaluate with cross-validation (e.g. F1 score)\n",
        "scores = cross_val_score(svm, X_tfidf, y, cv=kf, scoring=\"f1\")\n",
        "\n",
        "print(\"F1 scores for each fold:\", scores)\n",
        "print(\"Mean F1:\", np.mean(scores))\n",
        "print(\"Std F1:\", np.std(scores))"
      ]
    },
    {
      "cell_type": "code",
      "execution_count": null,
      "metadata": {
        "colab": {
          "base_uri": "https://localhost:8080/",
          "height": 564
        },
        "id": "RkO_u1V5mIRW",
        "outputId": "df40470d-197a-4d3e-8365-2c21190a3cc7"
      },
      "outputs": [
        {
          "data": {
            "image/png": "[encoded data removed]",
            "text/plain": [
              "<Figure size 800x600 with 1 Axes>"
            ]
          },
          "metadata": {},
          "output_type": "display_data"
        }
      ],
      "source": [
        "#SVM - ROC Curve\n",
        "svm_scores = svm.decision_function(X_test)\n",
        "fpr, tpr, thresholds = roc_curve(y_test, svm_scores)\n",
        "roc_auc = auc(fpr, tpr)\n",
        "\n",
        "#Plot ROC Curves\n",
        "plt.figure(figsize=(8,6))\n",
        "plt.plot(fpr, tpr, color='darkorange', lw=2, label=f'ROC Curve (AUC = {roc_auc:.4f})')\n",
        "plt.plot([0,1], [0,1], 'k--')\n",
        "plt.xlabel('False Positive Rate')\n",
        "plt.ylabel('True Positive Rate')\n",
        "plt.title('ROC Curve - SVM')\n",
        "plt.legend(loc=\"lower right\")\n",
        "plt.show()"
      ]
    },
    {
      "cell_type": "markdown",
      "metadata": {
        "id": "sib2V5hf70jk"
      },
      "source": [
        "# LSTM"
      ]
    },
    {
      "cell_type": "code",
      "execution_count": null,
      "metadata": {
        "colab": {
          "base_uri": "https://localhost:8080/",
          "height": 1000
        },
        "id": "egb3s8Gh78wc",
        "outputId": "4c976e5d-20a8-4349-a07d-4016f829a31a"
      },
      "outputs": [
        {
          "name": "stderr",
          "output_type": "stream",
          "text": [
            "/usr/local/lib/python3.12/dist-packages/keras/src/layers/core/embedding.py:97: UserWarning: Argument `input_length` is deprecated. Just remove it.\n",
            "  warnings.warn(\n"
          ]
        },
        {
          "data": {
            "text/html": [
              "<pre style=\"white-space:pre;overflow-x:auto;line-height:normal;font-family:Menlo,'DejaVu Sans Mono',consolas,'Courier New',monospace\"><span style=\"font-weight: bold\">Model: \"sequential\"</span>\n",
              "</pre>\n"
            ],
            "text/plain": [
              "\u001b[1mModel: \"sequential\"\u001b[0m\n"
            ]
          },
          "metadata": {},
          "output_type": "display_data"
        },
        {
          "data": {
            "text/html": [
              "<pre style=\"white-space:pre;overflow-x:auto;line-height:normal;font-family:Menlo,'DejaVu Sans Mono',consolas,'Courier New',monospace\">┏━━━━━━━━━━━━━━━━━━━━━━━━━━━━━━━━━┳━━━━━━━━━━━━━━━━━━━━━━━━┳━━━━━━━━━━━━━━━┓\n",
              "┃<span style=\"font-weight: bold\"> Layer (type)                    </span>┃<span style=\"font-weight: bold\"> Output Shape           </span>┃<span style=\"font-weight: bold\">       Param # </span>┃\n",
              "┡━━━━━━━━━━━━━━━━━━━━━━━━━━━━━━━━━╇━━━━━━━━━━━━━━━━━━━━━━━━╇━━━━━━━━━━━━━━━┩\n",
              "│ embedding (<span style=\"color: #0087ff; text-decoration-color: #0087ff\">Embedding</span>)           │ ?                      │   <span style=\"color: #00af00; text-decoration-color: #00af00\">0</span> (unbuilt) │\n",
              "├─────────────────────────────────┼────────────────────────┼───────────────┤\n",
              "│ spatial_dropout1d               │ ?                      │             <span style=\"color: #00af00; text-decoration-color: #00af00\">0</span> │\n",
              "│ (<span style=\"color: #0087ff; text-decoration-color: #0087ff\">SpatialDropout1D</span>)              │                        │               │\n",
              "├─────────────────────────────────┼────────────────────────┼───────────────┤\n",
              "│ lstm (<span style=\"color: #0087ff; text-decoration-color: #0087ff\">LSTM</span>)                     │ ?                      │   <span style=\"color: #00af00; text-decoration-color: #00af00\">0</span> (unbuilt) │\n",
              "├─────────────────────────────────┼────────────────────────┼───────────────┤\n",
              "│ dense (<span style=\"color: #0087ff; text-decoration-color: #0087ff\">Dense</span>)                   │ ?                      │   <span style=\"color: #00af00; text-decoration-color: #00af00\">0</span> (unbuilt) │\n",
              "└─────────────────────────────────┴────────────────────────┴───────────────┘\n",
              "</pre>\n"
            ],
            "text/plain": [
              "┏━━━━━━━━━━━━━━━━━━━━━━━━━━━━━━━━━┳━━━━━━━━━━━━━━━━━━━━━━━━┳━━━━━━━━━━━━━━━┓\n",
              "┃\u001b[1m \u001b[0m\u001b[1mLayer (type)                   \u001b[0m\u001b[1m \u001b[0m┃\u001b[1m \u001b[0m\u001b[1mOutput Shape          \u001b[0m\u001b[1m \u001b[0m┃\u001b[1m \u001b[0m\u001b[1m      Param #\u001b[0m\u001b[1m \u001b[0m┃\n",
              "┡━━━━━━━━━━━━━━━━━━━━━━━━━━━━━━━━━╇━━━━━━━━━━━━━━━━━━━━━━━━╇━━━━━━━━━━━━━━━┩\n",
              "│ embedding (\u001b[38;5;33mEmbedding\u001b[0m)           │ ?                      │   \u001b[38;5;34m0\u001b[0m (unbuilt) │\n",
              "├─────────────────────────────────┼────────────────────────┼───────────────┤\n",
              "│ spatial_dropout1d               │ ?                      │             \u001b[38;5;34m0\u001b[0m │\n",
              "│ (\u001b[38;5;33mSpatialDropout1D\u001b[0m)              │                        │               │\n",
              "├─────────────────────────────────┼────────────────────────┼───────────────┤\n",
              "│ lstm (\u001b[38;5;33mLSTM\u001b[0m)                     │ ?                      │   \u001b[38;5;34m0\u001b[0m (unbuilt) │\n",
              "├─────────────────────────────────┼────────────────────────┼───────────────┤\n",
              "│ dense (\u001b[38;5;33mDense\u001b[0m)                   │ ?                      │   \u001b[38;5;34m0\u001b[0m (unbuilt) │\n",
              "└─────────────────────────────────┴────────────────────────┴───────────────┘\n"
            ]
          },
          "metadata": {},
          "output_type": "display_data"
        },
        {
          "data": {
            "text/html": [
              "<pre style=\"white-space:pre;overflow-x:auto;line-height:normal;font-family:Menlo,'DejaVu Sans Mono',consolas,'Courier New',monospace\"><span style=\"font-weight: bold\"> Total params: </span><span style=\"color: #00af00; text-decoration-color: #00af00\">0</span> (0.00 B)\n",
              "</pre>\n"
            ],
            "text/plain": [
              "\u001b[1m Total params: \u001b[0m\u001b[38;5;34m0\u001b[0m (0.00 B)\n"
            ]
          },
          "metadata": {},
          "output_type": "display_data"
        },
        {
          "data": {
            "text/html": [
              "<pre style=\"white-space:pre;overflow-x:auto;line-height:normal;font-family:Menlo,'DejaVu Sans Mono',consolas,'Courier New',monospace\"><span style=\"font-weight: bold\"> Trainable params: </span><span style=\"color: #00af00; text-decoration-color: #00af00\">0</span> (0.00 B)\n",
              "</pre>\n"
            ],
            "text/plain": [
              "\u001b[1m Trainable params: \u001b[0m\u001b[38;5;34m0\u001b[0m (0.00 B)\n"
            ]
          },
          "metadata": {},
          "output_type": "display_data"
        },
        {
          "data": {
            "text/html": [
              "<pre style=\"white-space:pre;overflow-x:auto;line-height:normal;font-family:Menlo,'DejaVu Sans Mono',consolas,'Courier New',monospace\"><span style=\"font-weight: bold\"> Non-trainable params: </span><span style=\"color: #00af00; text-decoration-color: #00af00\">0</span> (0.00 B)\n",
              "</pre>\n"
            ],
            "text/plain": [
              "\u001b[1m Non-trainable params: \u001b[0m\u001b[38;5;34m0\u001b[0m (0.00 B)\n"
            ]
          },
          "metadata": {},
          "output_type": "display_data"
        },
        {
          "name": "stdout",
          "output_type": "stream",
          "text": [
            "Epoch 1/5\n",
            "710/710 - 704s - 991ms/step - accuracy: 0.5861 - loss: 0.6443 - val_accuracy: 0.6315 - val_loss: 0.5772\n",
            "Epoch 2/5\n",
            "710/710 - 724s - 1s/step - accuracy: 0.8204 - loss: 0.4233 - val_accuracy: 0.8396 - val_loss: 0.3362\n",
            "Epoch 3/5\n",
            "710/710 - 777s - 1s/step - accuracy: 0.9050 - loss: 0.2567 - val_accuracy: 0.8945 - val_loss: 0.2439\n",
            "Epoch 4/5\n",
            "710/710 - 697s - 981ms/step - accuracy: 0.9191 - loss: 0.2185 - val_accuracy: 0.9294 - val_loss: 0.1765\n",
            "Epoch 5/5\n",
            "710/710 - 694s - 978ms/step - accuracy: 0.9517 - loss: 0.1387 - val_accuracy: 0.9619 - val_loss: 0.1105\n",
            "\n",
            "Test Accuracy: 0.9607\n",
            "\u001b[1m395/395\u001b[0m \u001b[32m━━━━━━━━━━━━━━━━━━━━\u001b[0m\u001b[37m\u001b[0m \u001b[1m63s\u001b[0m 158ms/step\n",
            "\n",
            "              precision    recall  f1-score   support\n",
            "\n",
            "           0     0.9615    0.9682    0.9649      7017\n",
            "           1     0.9598    0.9514    0.9556      5594\n",
            "\n",
            "    accuracy                         0.9607     12611\n",
            "   macro avg     0.9606    0.9598    0.9602     12611\n",
            "weighted avg     0.9607    0.9607    0.9607     12611\n",
            "\n"
          ]
        },
        {
          "data": {
            "image/png": "[encoded data removed]",
            "text/plain": [
              "<Figure size 600x400 with 2 Axes>"
            ]
          },
          "metadata": {},
          "output_type": "display_data"
        },
        {
          "data": {
            "image/png": "[encoded data removed]",
            "text/plain": [
              "<Figure size 1200x400 with 2 Axes>"
            ]
          },
          "metadata": {},
          "output_type": "display_data"
        }
      ],
      "source": [
        "import pandas as pd\n",
        "import numpy as np\n",
        "from tensorflow.keras.preprocessing.text import Tokenizer\n",
        "from tensorflow.keras.preprocessing.sequence import pad_sequences\n",
        "from sklearn.model_selection import train_test_split\n",
        "from tensorflow.keras.models import Sequential\n",
        "from tensorflow.keras.layers import Embedding, LSTM, Dense, Dropout, SpatialDropout1D\n",
        "from sklearn.metrics import classification_report, confusion_matrix\n",
        "import matplotlib.pyplot as plt\n",
        "import seaborn as sns\n",
        "\n",
        "# Load the dataframe\n",
        "df = pd.read_csv(\"/content/drive/MyDrive/cleaned_fake_news_v3.csv\")\n",
        "\n",
        "# Combine title and text (if both available) for better representation\n",
        "df['content'] = df['title'].astype(str) + \" \" + df['text'].astype(str)\n",
        "\n",
        "# Assume `df` is your preprocessed DataFrame with 'content' (text) and 'label' (0 or 1)\n",
        "texts = df['content'].astype(str).tolist()\n",
        "labels = df['label'].values\n",
        "\n",
        "# Tokenize and convert to sequences\n",
        "VOCAB_SIZE = 10000\n",
        "MAX_SEQ_LEN = 500\n",
        "tokenizer = Tokenizer(num_words=VOCAB_SIZE, oov_token=\"<OOV>\")\n",
        "tokenizer.fit_on_texts(texts)\n",
        "sequences = tokenizer.texts_to_sequences(texts)\n",
        "padded = pad_sequences(sequences, maxlen=MAX_SEQ_LEN, padding='post', truncating='post')\n",
        "\n",
        "# Train-test split\n",
        "X_train, X_test, y_train, y_test = train_test_split(\n",
        "    padded, labels, test_size=0.2, random_state=42\n",
        ")\n",
        "\n",
        "# Build the LSTM model\n",
        "model = Sequential([\n",
        "    Embedding(input_dim=VOCAB_SIZE, output_dim=100, input_length=MAX_SEQ_LEN),\n",
        "    SpatialDropout1D(0.2),\n",
        "    LSTM(128, dropout=0.2, recurrent_dropout=0.2),\n",
        "    Dense(1, activation='sigmoid')\n",
        "])\n",
        "\n",
        "model.compile(loss='binary_crossentropy', optimizer='adam', metrics=['accuracy'])\n",
        "model.summary()\n",
        "\n",
        "# Train the model\n",
        "history = model.fit(\n",
        "    X_train, y_train,\n",
        "    epochs=5,\n",
        "    batch_size=64,\n",
        "    validation_split=0.1,\n",
        "    verbose=2\n",
        ")\n",
        "\n",
        "# Evaluate on test set\n",
        "loss, accuracy = model.evaluate(X_test, y_test, verbose=0)\n",
        "print(f\"\\nTest Accuracy: {accuracy:.4f}\")\n",
        "\n",
        "# Predictions and Classification Report\n",
        "y_pred = (model.predict(X_test) > 0.5).astype(\"int32\")\n",
        "print(\"\\n\" + classification_report(y_test, y_pred, digits=4))\n",
        "\n",
        "# Confusion Matrix\n",
        "cm = confusion_matrix(y_test, y_pred)\n",
        "plt.figure(figsize=(6,4))\n",
        "sns.heatmap(cm, annot=True, fmt='d', cmap='Blues',\n",
        "            xticklabels=['Real', 'Fake'], yticklabels=['Real', 'Fake'])\n",
        "plt.xlabel('Predicted')\n",
        "plt.ylabel('Actual')\n",
        "plt.title('LSTM Model Confusion Matrix')\n",
        "plt.show()\n",
        "\n",
        "# Plot training history\n",
        "plt.figure(figsize=(12,4))\n",
        "plt.subplot(1,2,1)\n",
        "plt.plot(history.history['accuracy'], label='train acc')\n",
        "plt.plot(history.history['val_accuracy'], label='val acc')\n",
        "plt.title('Model Accuracy')\n",
        "plt.xlabel('Epoch')\n",
        "plt.ylabel('Accuracy')\n",
        "plt.legend()\n",
        "\n",
        "plt.subplot(1,2,2)\n",
        "plt.plot(history.history['loss'], label='train loss')\n",
        "plt.plot(history.history['val_loss'], label='val loss')\n",
        "plt.title('Model Loss')\n",
        "plt.xlabel('Epoch')\n",
        "plt.ylabel('Loss')\n",
        "plt.legend()\n",
        "\n",
        "plt.tight_layout()\n",
        "plt.show()"
      ]
    },
    {
      "cell_type": "code",
      "execution_count": null,
      "metadata": {
        "colab": {
          "base_uri": "https://localhost:8080/",
          "height": 581
        },
        "id": "gyPUBLX0XMqI",
        "outputId": "f0c626c1-794b-4dc1-d545-04e5419391a2"
      },
      "outputs": [
        {
          "name": "stdout",
          "output_type": "stream",
          "text": [
            "\u001b[1m395/395\u001b[0m \u001b[32m━━━━━━━━━━━━━━━━━━━━\u001b[0m\u001b[37m\u001b[0m \u001b[1m61s\u001b[0m 154ms/step\n"
          ]
        },
        {
          "data": {
            "image/png": "[encoded data removed]",
            "text/plain": [
              "<Figure size 600x600 with 1 Axes>"
            ]
          },
          "metadata": {},
          "output_type": "display_data"
        }
      ],
      "source": [
        "from sklearn.metrics import roc_curve, auc\n",
        "\n",
        "#LSTM - ROC Curve\n",
        "y_probs = model.predict(X_test).ravel()\n",
        "fpr, tpr, thresholds = roc_curve(y_test, y_probs)\n",
        "roc_auc = auc(fpr, tpr)\n",
        "\n",
        "#Plot ROC Curves\n",
        "plt.figure(figsize=(6,6))\n",
        "plt.plot(fpr, tpr, color='green', lw=2, label=f'ROC curve (AUC = {roc_auc:.4f})')\n",
        "plt.plot([0,1], [0,1], 'k--')\n",
        "plt.xlabel('False Positive Rate')\n",
        "plt.ylabel('True Positive Rate')\n",
        "plt.title('LSTM ROC Curve')\n",
        "plt.legend(loc=\"lower right\")\n",
        "plt.show()\n"
      ]
    }
  ],
  "metadata": {
    "colab": {
      "provenance": []
    },
    "kernelspec": {
      "display_name": "Python 3",
      "name": "python3"
    },
    "language_info": {
      "name": "python"
    }
  },
  "nbformat": 4,
  "nbformat_minor": 0
}